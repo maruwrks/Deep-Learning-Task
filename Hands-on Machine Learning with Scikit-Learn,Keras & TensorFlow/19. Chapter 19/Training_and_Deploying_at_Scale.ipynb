{
  "nbformat": 4,
  "nbformat_minor": 0,
  "metadata": {
    "colab": {
      "provenance": [],
      "gpuType": "T4",
      "include_colab_link": true
    },
    "kernelspec": {
      "name": "python3",
      "display_name": "Python 3"
    },
    "language_info": {
      "name": "python"
    },
    "accelerator": "GPU"
  },
  "cells": [
    {
      "cell_type": "markdown",
      "metadata": {
        "id": "view-in-github",
        "colab_type": "text"
      },
      "source": [
        "<a href=\"https://colab.research.google.com/github/maruwrks/Deep-Learning-Task/blob/main/Training_and_Deploying_at_Scale.ipynb\" target=\"_parent\"><img src=\"https://colab.research.google.com/assets/colab-badge.svg\" alt=\"Open In Colab\"/></a>"
      ]
    },
    {
      "cell_type": "code",
      "execution_count": null,
      "metadata": {
        "id": "gFi_vEh6eogC"
      },
      "outputs": [],
      "source": [
        "import tensorflow as tf\n",
        "from tensorflow import keras\n",
        "import numpy as np\n",
        "import os\n",
        "import json\n",
        "import requests\n",
        "import time\n",
        "import pandas as pd\n",
        "import matplotlib.pyplot as plt"
      ]
    },
    {
      "cell_type": "markdown",
      "source": [
        "##Checking GPU"
      ],
      "metadata": {
        "id": "ZawXRaIdpXPj"
      }
    },
    {
      "cell_type": "code",
      "source": [
        "gpus = tf.config.experimental.list_physical_devices('GPU')\n",
        "if gpus:\n",
        "  try:\n",
        "    print(\"Disabling virtual GPU configuration...\")\n",
        "    tf.config.experimental.set_visible_devices([], 'GPU') # Disable virtual devices\n",
        "    physical_gpus = tf.config.experimental.list_physical_devices('GPU')\n",
        "    logical_gpus = tf.config.experimental.list_logical_devices('GPU')\n",
        "    print(f\"Physical GPUs: {len(physical_gpus)}, Logical GPUs: {len(logical_gpus)}\")\n",
        "  except RuntimeError as e:\n",
        "    print(\"Error:\", e)\n",
        "else:\n",
        "    print(\"No GPU found.\")"
      ],
      "metadata": {
        "colab": {
          "base_uri": "https://localhost:8080/"
        },
        "id": "GPW2DLt_i5p_",
        "outputId": "b993e6af-c4d9-4af5-e989-02e660270c31"
      },
      "execution_count": null,
      "outputs": [
        {
          "output_type": "stream",
          "name": "stdout",
          "text": [
            "Disabling virtual GPU configuration...\n",
            "Physical GPUs: 1, Logical GPUs: 0\n"
          ]
        }
      ]
    },
    {
      "cell_type": "markdown",
      "source": [
        "##Data Preparation"
      ],
      "metadata": {
        "id": "0X6siFxXl7QO"
      }
    },
    {
      "cell_type": "code",
      "source": [
        "(X_train_full, y_train_full), (X_test, y_test) = keras.datasets.mnist.load_data()\n",
        "X_train_full = X_train_full[..., np.newaxis].astype(np.float32) / 255.\n",
        "X_test = X_test[..., np.newaxis].astype(np.float32) / 255.\n",
        "X_valid, X_train = X_train_full[:5000], X_train_full[5000:]\n",
        "y_valid, y_train = y_train_full[:5000], y_train_full[5000:]"
      ],
      "metadata": {
        "id": "ncEtXOIUeyqC"
      },
      "execution_count": null,
      "outputs": []
    },
    {
      "cell_type": "markdown",
      "source": [
        "##Build and Training Base Model"
      ],
      "metadata": {
        "id": "TwSbVVmZl9vV"
      }
    },
    {
      "cell_type": "code",
      "source": [
        "with tf.device('/CPU:0'):\n",
        "    model = keras.models.Sequential([\n",
        "        keras.layers.Flatten(input_shape=[28, 28, 1]),\n",
        "        keras.layers.Dense(100, activation=\"relu\"),\n",
        "        keras.layers.Dense(10, activation=\"softmax\")\n",
        "    ])\n",
        "    model.compile(loss=\"sparse_categorical_crossentropy\",\n",
        "                  optimizer=keras.optimizers.SGD(learning_rate=1e-2),\n",
        "                  metrics=[\"accuracy\"])\n",
        "    model.fit(X_train, y_train, epochs=5, validation_data=(X_valid, y_valid), verbose=1)"
      ],
      "metadata": {
        "colab": {
          "base_uri": "https://localhost:8080/"
        },
        "id": "Bus_27pJe0Co",
        "outputId": "1868c6ea-d912-4fd3-ceeb-ca98da9061a5"
      },
      "execution_count": null,
      "outputs": [
        {
          "output_type": "stream",
          "name": "stderr",
          "text": [
            "/usr/local/lib/python3.11/dist-packages/keras/src/layers/reshaping/flatten.py:37: UserWarning: Do not pass an `input_shape`/`input_dim` argument to a layer. When using Sequential models, prefer using an `Input(shape)` object as the first layer in the model instead.\n",
            "  super().__init__(**kwargs)\n"
          ]
        },
        {
          "output_type": "stream",
          "name": "stdout",
          "text": [
            "Epoch 1/5\n",
            "\u001b[1m1719/1719\u001b[0m \u001b[32m━━━━━━━━━━━━━━━━━━━━\u001b[0m\u001b[37m\u001b[0m \u001b[1m8s\u001b[0m 4ms/step - accuracy: 0.7200 - loss: 1.0945 - val_accuracy: 0.8988 - val_loss: 0.3721\n",
            "Epoch 2/5\n",
            "\u001b[1m1719/1719\u001b[0m \u001b[32m━━━━━━━━━━━━━━━━━━━━\u001b[0m\u001b[37m\u001b[0m \u001b[1m4s\u001b[0m 2ms/step - accuracy: 0.8983 - loss: 0.3684 - val_accuracy: 0.9180 - val_loss: 0.3013\n",
            "Epoch 3/5\n",
            "\u001b[1m1719/1719\u001b[0m \u001b[32m━━━━━━━━━━━━━━━━━━━━\u001b[0m\u001b[37m\u001b[0m \u001b[1m6s\u001b[0m 3ms/step - accuracy: 0.9124 - loss: 0.3096 - val_accuracy: 0.9248 - val_loss: 0.2690\n",
            "Epoch 4/5\n",
            "\u001b[1m1719/1719\u001b[0m \u001b[32m━━━━━━━━━━━━━━━━━━━━\u001b[0m\u001b[37m\u001b[0m \u001b[1m4s\u001b[0m 2ms/step - accuracy: 0.9208 - loss: 0.2814 - val_accuracy: 0.9316 - val_loss: 0.2452\n",
            "Epoch 5/5\n",
            "\u001b[1m1719/1719\u001b[0m \u001b[32m━━━━━━━━━━━━━━━━━━━━\u001b[0m\u001b[37m\u001b[0m \u001b[1m4s\u001b[0m 2ms/step - accuracy: 0.9273 - loss: 0.2592 - val_accuracy: 0.9362 - val_loss: 0.2284\n"
          ]
        }
      ]
    },
    {
      "cell_type": "markdown",
      "source": [
        "##Save Model"
      ],
      "metadata": {
        "id": "YJGN1nMjmlXD"
      }
    },
    {
      "cell_type": "code",
      "source": [
        "model_name = \"my_mnist_model\"\n",
        "model_version = \"0001\"\n",
        "model_dir = os.path.join(\"/content/\", model_name, model_version)\n",
        "print(f\"\\nMenyimpan model ke direktori: {model_dir}\")\n",
        "model.export(model_dir)\n",
        "\n",
        "print(\"\\nStruktur direktori SavedModel:\")\n",
        "!ls -lR {os.path.join(\"/content/\", model_name)}"
      ],
      "metadata": {
        "colab": {
          "base_uri": "https://localhost:8080/"
        },
        "id": "nFjW0dsRe3Za",
        "outputId": "61bb4344-7291-4b3f-a015-478ace67d42e"
      },
      "execution_count": null,
      "outputs": [
        {
          "output_type": "stream",
          "name": "stdout",
          "text": [
            "\n",
            "Menyimpan model ke direktori: /content/my_mnist_model/0001\n",
            "Saved artifact at '/content/my_mnist_model/0001'. The following endpoints are available:\n",
            "\n",
            "* Endpoint 'serve'\n",
            "  args_0 (POSITIONAL_ONLY): TensorSpec(shape=(None, 28, 28, 1), dtype=tf.float32, name='keras_tensor')\n",
            "Output Type:\n",
            "  TensorSpec(shape=(None, 10), dtype=tf.float32, name=None)\n",
            "Captures:\n",
            "  131941724027984: TensorSpec(shape=(), dtype=tf.resource, name=None)\n",
            "  131941724751632: TensorSpec(shape=(), dtype=tf.resource, name=None)\n",
            "  131941724027408: TensorSpec(shape=(), dtype=tf.resource, name=None)\n",
            "  131941724751440: TensorSpec(shape=(), dtype=tf.resource, name=None)\n",
            "\n",
            "Struktur direktori SavedModel:\n",
            "/content/my_mnist_model:\n",
            "total 4\n",
            "drwxr-xr-x 4 root root 4096 Jun 14 22:49 0001\n",
            "\n",
            "/content/my_mnist_model/0001:\n",
            "total 48\n",
            "drwxr-xr-x 2 root root  4096 Jun 14 22:32 assets\n",
            "-rw-r--r-- 1 root root    57 Jun 14 22:49 fingerprint.pb\n",
            "-rw-r--r-- 1 root root 33571 Jun 14 22:49 saved_model.pb\n",
            "drwxr-xr-x 2 root root  4096 Jun 14 22:49 variables\n",
            "\n",
            "/content/my_mnist_model/0001/assets:\n",
            "total 0\n",
            "\n",
            "/content/my_mnist_model/0001/variables:\n",
            "total 628\n",
            "-rw-r--r-- 1 root root 637134 Jun 14 22:49 variables.data-00000-of-00001\n",
            "-rw-r--r-- 1 root root    596 Jun 14 22:49 variables.index\n"
          ]
        }
      ]
    },
    {
      "cell_type": "markdown",
      "source": [
        "##TensorFlow Serving"
      ],
      "metadata": {
        "id": "3hlhdk5TmsQS"
      }
    },
    {
      "cell_type": "code",
      "source": [
        "!echo \"deb http://storage.googleapis.com/tensorflow-serving-apt stable tensorflow-model-server tensorflow-model-server-universal\" | tee /etc/apt/sources.list.d/tensorflow-serving.list && \\\n",
        "curl https://storage.googleapis.com/tensorflow-serving-apt/tensorflow-serving.release.pub.gpg | apt-key add -\n",
        "!apt update\n",
        "!apt-get install tensorflow-model-server"
      ],
      "metadata": {
        "colab": {
          "base_uri": "https://localhost:8080/"
        },
        "id": "AqCoMuzofbMx",
        "outputId": "6fc39144-908f-4191-afc4-8d2a41a4b96b"
      },
      "execution_count": null,
      "outputs": [
        {
          "output_type": "stream",
          "name": "stdout",
          "text": [
            "deb http://storage.googleapis.com/tensorflow-serving-apt stable tensorflow-model-server tensorflow-model-server-universal\n",
            "  % Total    % Received % Xferd  Average Speed   Time    Time     Time  Current\n",
            "                                 Dload  Upload   Total   Spent    Left  Speed\n",
            "  0     0    0     0    0     0      0      0 --:--:-- --:--:-- --:--:--     0Warning: apt-key is deprecated. Manage keyring files in trusted.gpg.d instead (see apt-key(8)).\n",
            "100  2943  100  2943    0     0   5742      0 --:--:-- --:--:-- --:--:--  5748\n",
            "OK\n",
            "Hit:1 https://cloud.r-project.org/bin/linux/ubuntu jammy-cran40/ InRelease\n",
            "Hit:2 https://developer.download.nvidia.com/compute/cuda/repos/ubuntu2204/x86_64  InRelease\n",
            "Hit:3 http://storage.googleapis.com/tensorflow-serving-apt stable InRelease\n",
            "Hit:4 http://security.ubuntu.com/ubuntu jammy-security InRelease\n",
            "Hit:5 https://r2u.stat.illinois.edu/ubuntu jammy InRelease\n",
            "Hit:6 http://archive.ubuntu.com/ubuntu jammy InRelease\n",
            "Hit:7 http://archive.ubuntu.com/ubuntu jammy-updates InRelease\n",
            "Hit:8 http://archive.ubuntu.com/ubuntu jammy-backports InRelease\n",
            "Hit:9 https://ppa.launchpadcontent.net/deadsnakes/ppa/ubuntu jammy InRelease\n",
            "Hit:10 https://ppa.launchpadcontent.net/graphics-drivers/ppa/ubuntu jammy InRelease\n",
            "Hit:11 https://ppa.launchpadcontent.net/ubuntugis/ppa/ubuntu jammy InRelease\n",
            "Reading package lists... Done\n",
            "Building dependency tree... Done\n",
            "Reading state information... Done\n",
            "35 packages can be upgraded. Run 'apt list --upgradable' to see them.\n",
            "\u001b[1;33mW: \u001b[0mhttp://storage.googleapis.com/tensorflow-serving-apt/dists/stable/InRelease: Key is stored in legacy trusted.gpg keyring (/etc/apt/trusted.gpg), see the DEPRECATION section in apt-key(8) for details.\u001b[0m\n",
            "\u001b[1;33mW: \u001b[0mSkipping acquire of configured file 'main/source/Sources' as repository 'https://r2u.stat.illinois.edu/ubuntu jammy InRelease' does not seem to provide it (sources.list entry misspelt?)\u001b[0m\n",
            "Reading package lists... Done\n",
            "Building dependency tree... Done\n",
            "Reading state information... Done\n",
            "tensorflow-model-server is already the newest version (2.19.0).\n",
            "0 upgraded, 0 newly installed, 0 to remove and 35 not upgraded.\n"
          ]
        }
      ]
    },
    {
      "cell_type": "code",
      "source": [
        "os.environ[\"MODEL_DIR\"] = os.path.join(\"/content/\", model_name)"
      ],
      "metadata": {
        "id": "TWv9Dujve5Ou"
      },
      "execution_count": null,
      "outputs": []
    },
    {
      "cell_type": "code",
      "source": [
        "%%bash --bg\n",
        "nohup tensorflow_model_server \\\n",
        "  --rest_api_port=8501 \\\n",
        "  --model_name=my_mnist_model \\\n",
        "  --model_base_path=\"${MODEL_DIR}\" >server.log 2>&1"
      ],
      "metadata": {
        "id": "37Dl2zf4iuaQ"
      },
      "execution_count": null,
      "outputs": []
    },
    {
      "cell_type": "code",
      "source": [
        "print(\"\\nServer TF Serving sedang dimulai di background...\")\n",
        "time.sleep(5)"
      ],
      "metadata": {
        "colab": {
          "base_uri": "https://localhost:8080/"
        },
        "id": "rwNfDOupiv41",
        "outputId": "285a8772-da15-47a5-ed50-76e1f456a11f"
      },
      "execution_count": null,
      "outputs": [
        {
          "output_type": "stream",
          "name": "stdout",
          "text": [
            "\n",
            "Server TF Serving sedang dimulai di background...\n"
          ]
        }
      ]
    },
    {
      "cell_type": "code",
      "source": [
        "X_new = X_test[:3]\n",
        "request_json = json.dumps({\n",
        "    \"signature_name\": \"serving_default\",\n",
        "    \"instances\": X_new.tolist()\n",
        "})\n",
        "SERVER_URL = \"http://localhost:8501/v1/models/my_mnist_model:predict\""
      ],
      "metadata": {
        "id": "iBktjIeihKw3"
      },
      "execution_count": null,
      "outputs": []
    },
    {
      "cell_type": "code",
      "source": [
        "try:\n",
        "    response = requests.post(SERVER_URL, data=request_json)\n",
        "    response.raise_for_status()\n",
        "    response_data = response.json()\n",
        "\n",
        "    print(\"Query berhasil!\")\n",
        "    y_proba = np.array(response_data[\"predictions\"])\n",
        "    y_pred = np.argmax(y_proba, axis=1)\n",
        "\n",
        "    print(f\"Prediksi dari server: {y_pred}\")\n",
        "    print(f\"Label sebenarnya:   {y_test[:3]}\")\n",
        "\n",
        "    plt.figure(figsize=(8, 4))\n",
        "    for index, image in enumerate(X_new):\n",
        "        plt.subplot(1, 3, index + 1)\n",
        "        plt.imshow(image.squeeze(), cmap=\"binary\")\n",
        "        plt.title(f\"Prediksi: {y_pred[index]}\\nAsli: {y_test[index]}\")\n",
        "        plt.axis(\"off\")\n",
        "    plt.show()\n",
        "\n",
        "except Exception as e:\n",
        "    print(f\"\\nError saat melakukan Query: {e}\")\n",
        "    print(\"\\n--- Log Server (server.log) ---\")\n",
        "    !cat server.log"
      ],
      "metadata": {
        "colab": {
          "base_uri": "https://localhost:8080/",
          "height": 314
        },
        "id": "asIUltouhNqU",
        "outputId": "a43bab81-b491-433c-c672-cf45638a9ba3"
      },
      "execution_count": null,
      "outputs": [
        {
          "output_type": "stream",
          "name": "stdout",
          "text": [
            "Kueri berhasil!\n",
            "Prediksi dari server: [7 2 1]\n",
            "Label sebenarnya:   [7 2 1]\n"
          ]
        },
        {
          "output_type": "display_data",
          "data": {
            "text/plain": [
              "<Figure size 800x400 with 3 Axes>"
            ],
            "image/png": "[encoded data removed]"
          },
          "metadata": {}
        }
      ]
    },
    {
      "cell_type": "markdown",
      "source": [
        "##Distribution Training with  MirroredStrategy"
      ],
      "metadata": {
        "id": "VLv-MPG7m5l1"
      }
    },
    {
      "cell_type": "code",
      "source": [
        "distribution = tf.distribute.MirroredStrategy()\n",
        "with distribution.scope():\n",
        "    mirrored_model = keras.models.Sequential([\n",
        "        keras.layers.Flatten(input_shape=[28, 28, 1]),\n",
        "        keras.layers.Dense(100, activation=\"relu\"),\n",
        "        keras.layers.Dense(10)\n",
        "    ])\n",
        "    optimizer = keras.optimizers.Adam()\n",
        "    loss_function = keras.losses.SparseCategoricalCrossentropy(from_logits=True)\n",
        "    mirrored_model.compile(loss=loss_function,optimizer=optimizer,metrics=[\"accuracy\"])\n",
        "\n",
        "history_dist = mirrored_model.fit(X_train, y_train, epochs=10,validation_data=(X_valid, y_valid), verbose=1)"
      ],
      "metadata": {
        "colab": {
          "base_uri": "https://localhost:8080/"
        },
        "id": "pOdas7Z0lnl1",
        "outputId": "fa5f17d8-d003-48ca-d2c9-9de7c3fd4949"
      },
      "execution_count": null,
      "outputs": [
        {
          "output_type": "stream",
          "name": "stderr",
          "text": [
            "/usr/local/lib/python3.11/dist-packages/keras/src/layers/reshaping/flatten.py:37: UserWarning: Do not pass an `input_shape`/`input_dim` argument to a layer. When using Sequential models, prefer using an `Input(shape)` object as the first layer in the model instead.\n",
            "  super().__init__(**kwargs)\n"
          ]
        },
        {
          "output_type": "stream",
          "name": "stdout",
          "text": [
            "Epoch 1/10\n",
            "\u001b[1m1719/1719\u001b[0m \u001b[32m━━━━━━━━━━━━━━━━━━━━\u001b[0m\u001b[37m\u001b[0m \u001b[1m11s\u001b[0m 6ms/step - accuracy: 0.8684 - loss: 0.4680 - val_accuracy: 0.9558 - val_loss: 0.1536\n",
            "Epoch 2/10\n",
            "\u001b[1m1719/1719\u001b[0m \u001b[32m━━━━━━━━━━━━━━━━━━━━\u001b[0m\u001b[37m\u001b[0m \u001b[1m18s\u001b[0m 5ms/step - accuracy: 0.9599 - loss: 0.1390 - val_accuracy: 0.9678 - val_loss: 0.1124\n",
            "Epoch 3/10\n",
            "\u001b[1m1719/1719\u001b[0m \u001b[32m━━━━━━━━━━━━━━━━━━━━\u001b[0m\u001b[37m\u001b[0m \u001b[1m8s\u001b[0m 4ms/step - accuracy: 0.9719 - loss: 0.0920 - val_accuracy: 0.9718 - val_loss: 0.0951\n",
            "Epoch 4/10\n",
            "\u001b[1m1719/1719\u001b[0m \u001b[32m━━━━━━━━━━━━━━━━━━━━\u001b[0m\u001b[37m\u001b[0m \u001b[1m11s\u001b[0m 6ms/step - accuracy: 0.9802 - loss: 0.0670 - val_accuracy: 0.9718 - val_loss: 0.0908\n",
            "Epoch 5/10\n",
            "\u001b[1m1719/1719\u001b[0m \u001b[32m━━━━━━━━━━━━━━━━━━━━\u001b[0m\u001b[37m\u001b[0m \u001b[1m17s\u001b[0m 5ms/step - accuracy: 0.9838 - loss: 0.0524 - val_accuracy: 0.9766 - val_loss: 0.0756\n",
            "Epoch 6/10\n",
            "\u001b[1m1719/1719\u001b[0m \u001b[32m━━━━━━━━━━━━━━━━━━━━\u001b[0m\u001b[37m\u001b[0m \u001b[1m11s\u001b[0m 5ms/step - accuracy: 0.9880 - loss: 0.0410 - val_accuracy: 0.9772 - val_loss: 0.0788\n",
            "Epoch 7/10\n",
            "\u001b[1m1719/1719\u001b[0m \u001b[32m━━━━━━━━━━━━━━━━━━━━\u001b[0m\u001b[37m\u001b[0m \u001b[1m11s\u001b[0m 5ms/step - accuracy: 0.9902 - loss: 0.0330 - val_accuracy: 0.9754 - val_loss: 0.0901\n",
            "Epoch 8/10\n",
            "\u001b[1m1719/1719\u001b[0m \u001b[32m━━━━━━━━━━━━━━━━━━━━\u001b[0m\u001b[37m\u001b[0m \u001b[1m7s\u001b[0m 3ms/step - accuracy: 0.9914 - loss: 0.0276 - val_accuracy: 0.9776 - val_loss: 0.0746\n",
            "Epoch 9/10\n",
            "\u001b[1m1719/1719\u001b[0m \u001b[32m━━━━━━━━━━━━━━━━━━━━\u001b[0m\u001b[37m\u001b[0m \u001b[1m8s\u001b[0m 4ms/step - accuracy: 0.9939 - loss: 0.0218 - val_accuracy: 0.9792 - val_loss: 0.0736\n",
            "Epoch 10/10\n",
            "\u001b[1m1719/1719\u001b[0m \u001b[32m━━━━━━━━━━━━━━━━━━━━\u001b[0m\u001b[37m\u001b[0m \u001b[1m8s\u001b[0m 3ms/step - accuracy: 0.9951 - loss: 0.0172 - val_accuracy: 0.9790 - val_loss: 0.0803\n"
          ]
        }
      ]
    },
    {
      "cell_type": "markdown",
      "source": [
        "##Evaluate"
      ],
      "metadata": {
        "id": "89YKdnofnT4Y"
      }
    },
    {
      "cell_type": "code",
      "source": [
        "print(\"\\nEvaluasi akhir model:\")\n",
        "loss, accuracy = mirrored_model.evaluate(X_test, y_test)\n",
        "print(f\"Loss Test: {loss:.4f}, Akurasi Test: {accuracy:.4f}\")"
      ],
      "metadata": {
        "colab": {
          "base_uri": "https://localhost:8080/"
        },
        "id": "uW8Jty9GnTb9",
        "outputId": "45553a96-30c5-4988-fb35-6ab78b735c33"
      },
      "execution_count": null,
      "outputs": [
        {
          "output_type": "stream",
          "name": "stdout",
          "text": [
            "\n",
            "Evaluasi akhir model:\n",
            "\u001b[1m313/313\u001b[0m \u001b[32m━━━━━━━━━━━━━━━━━━━━\u001b[0m\u001b[37m\u001b[0m \u001b[1m1s\u001b[0m 2ms/step - accuracy: 0.9742 - loss: 0.0938\n",
            "Loss Test: 0.0817, Akurasi Test: 0.9782\n"
          ]
        }
      ]
    },
    {
      "cell_type": "code",
      "source": [
        "pd.DataFrame(history_dist.history).plot(figsize=(8, 5))\n",
        "plt.grid(True)\n",
        "plt.gca().set_ylim(0, 1)\n",
        "plt.title(\"Curve\")\n",
        "plt.xlabel(\"Epoch\")\n",
        "plt.ylabel(\"Loss/Accuracy\")\n",
        "plt.show()"
      ],
      "metadata": {
        "colab": {
          "base_uri": "https://localhost:8080/",
          "height": 487
        },
        "id": "1Mr3pWXFnysZ",
        "outputId": "ca16d5a1-c1ce-4ced-9d80-1c9356eaf03f"
      },
      "execution_count": null,
      "outputs": [
        {
          "output_type": "display_data",
          "data": {
            "text/plain": [
              "<Figure size 800x500 with 1 Axes>"
            ],
            "image/png": "[encoded data removed]"
          },
          "metadata": {}
        }
      ]
    }
  ]
}
