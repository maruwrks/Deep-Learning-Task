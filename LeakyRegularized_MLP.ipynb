{
  "nbformat": 4,
  "nbformat_minor": 0,
  "metadata": {
    "colab": {
      "provenance": [],
      "authorship_tag": "ABX9TyOI3JhSnXoOEKa0IJeeNkA+",
      "include_colab_link": true
    },
    "kernelspec": {
      "name": "python3",
      "display_name": "Python 3"
    },
    "language_info": {
      "name": "python"
    }
  },
  "cells": [
    {
      "cell_type": "markdown",
      "metadata": {
        "id": "view-in-github",
        "colab_type": "text"
      },
      "source": [
        "<a href=\"https://colab.research.google.com/github/maruwrks/Deep-Learning-Task/blob/main/LeakyRegularized_MLP.ipynb\" target=\"_parent\"><img src=\"https://colab.research.google.com/assets/colab-badge.svg\" alt=\"Open In Colab\"/></a>"
      ]
    },
    {
      "cell_type": "code",
      "source": [
        "import pandas as pd\n",
        "import numpy as np\n",
        "import matplotlib.pyplot as plt\n",
        "import seaborn as sns\n",
        "from sklearn.impute import SimpleImputer\n",
        "from sklearn.preprocessing import StandardScaler, PowerTransformer\n",
        "from sklearn.model_selection import train_test_split, KFold\n",
        "from sklearn.metrics import mean_squared_error, mean_absolute_error, r2_score\n",
        "from sklearn.ensemble import RandomForestRegressor\n",
        "from sklearn.feature_selection import SelectFromModel\n",
        "import tensorflow as tf\n",
        "from tensorflow.keras.models import Sequential\n",
        "from tensorflow.keras.layers import Dense, Dropout, BatchNormalization, LeakyReLU\n",
        "from tensorflow.keras.callbacks import EarlyStopping, ReduceLROnPlateau\n",
        "from tensorflow.keras import regularizers\n",
        "from tensorflow.keras.losses import Huber"
      ],
      "metadata": {
        "id": "8M_WLWYt5ASZ"
      },
      "execution_count": null,
      "outputs": []
    },
    {
      "cell_type": "markdown",
      "source": [
        "## Data Prep"
      ],
      "metadata": {
        "id": "1orY9pSKn7OA"
      }
    },
    {
      "cell_type": "code",
      "source": [
        "np.random.seed(42)\n",
        "tf.random.set_seed(42)"
      ],
      "metadata": {
        "id": "j7WdQtWI5RZh"
      },
      "execution_count": null,
      "outputs": []
    },
    {
      "cell_type": "code",
      "source": [
        "df = pd.read_csv('/content/drive/MyDrive/Deep Learning/RegresiUTSTelkom.csv', low_memory=False)\n",
        "df.shape"
      ],
      "metadata": {
        "colab": {
          "base_uri": "https://localhost:8080/"
        },
        "id": "2UcUmkoI5UaQ",
        "outputId": "c0c68a5f-5916-40fb-9da2-9e02a33a02e3"
      },
      "execution_count": null,
      "outputs": [
        {
          "output_type": "execute_result",
          "data": {
            "text/plain": [
              "(515344, 91)"
            ]
          },
          "metadata": {},
          "execution_count": 63
        }
      ]
    },
    {
      "cell_type": "code",
      "source": [
        "df.describe()"
      ],
      "metadata": {
        "colab": {
          "base_uri": "https://localhost:8080/",
          "height": 350
        },
        "id": "MfI5nzI65WQA",
        "outputId": "2791642c-b886-4c7f-b61d-ea477ffe30f9"
      },
      "execution_count": null,
      "outputs": [
        {
          "output_type": "execute_result",
          "data": {
            "text/plain": [
              "                2001       49.94357       21.47114        73.0775  \\\n",
              "count  515344.000000  515344.000000  515344.000000  515344.000000   \n",
              "mean     1998.397077      43.387113       1.289515       8.658222   \n",
              "std        10.931056       6.067557      51.580393      35.268505   \n",
              "min      1922.000000       1.749000    -337.092500    -301.005060   \n",
              "25%      1994.000000      39.954667     -26.059848     -11.462775   \n",
              "50%      2002.000000      44.258490       8.417725      10.476235   \n",
              "75%      2006.000000      47.833875      36.124030      29.764685   \n",
              "max      2011.000000      61.970140     384.065730     322.851430   \n",
              "\n",
              "             8.74861      -17.40628      -13.09905      -25.01202  \\\n",
              "count  515344.000000  515344.000000  515344.000000  515344.000000   \n",
              "mean        1.164110      -6.553580      -9.521968      -2.391046   \n",
              "std        16.322802      22.860803      12.857763      14.571853   \n",
              "min      -154.183580    -181.953370     -81.794290    -188.214000   \n",
              "25%        -8.487507     -20.666455     -18.441005     -10.780360   \n",
              "50%        -0.652855      -6.007770     -11.188355      -2.046625   \n",
              "75%         8.787548       7.741877      -2.388945       6.508587   \n",
              "max       335.771820     262.068870     166.236890     172.402680   \n",
              "\n",
              "           -12.23257        7.83089  ...        13.0162      -54.40548  \\\n",
              "count  515344.000000  515344.000000  ...  515344.000000  515344.000000   \n",
              "mean       -1.793215       3.727868  ...      15.755411     -73.461537   \n",
              "std         7.963822      10.582869  ...      32.099666     175.619058   \n",
              "min       -72.503850    -126.479040  ...    -437.722030   -4402.376440   \n",
              "25%        -6.468390      -2.293670  ...      -1.812658    -139.555737   \n",
              "50%        -1.736415       3.822305  ...       9.171850     -53.089115   \n",
              "75%         2.913455       9.961865  ...      26.274487      13.478793   \n",
              "max       126.741270     146.297950  ...     840.973380    4469.454870   \n",
              "\n",
              "            58.99367       15.37344        1.11144      -23.08793  \\\n",
              "count  515344.000000  515344.000000  515344.000000  515344.000000   \n",
              "mean       41.542388      37.934163       0.315750      17.669292   \n",
              "std       122.228915      95.050718      16.161780     114.428002   \n",
              "min     -1810.689190   -3098.350310    -341.789120   -3168.924570   \n",
              "25%       -20.987115      -4.669655      -6.781598     -31.580617   \n",
              "50%        28.790580      33.623815       0.820830      15.598520   \n",
              "75%        89.661785      77.785810       8.471000      67.795110   \n",
              "max      3210.701700    1734.079690     260.544900    3662.065650   \n",
              "\n",
              "            68.40795       -1.82223      -27.46348        2.26327  \n",
              "count  515344.000000  515344.000000  515344.000000  515344.000000  \n",
              "mean      -26.315520       4.458653      20.035229       1.329104  \n",
              "std       173.977455      13.346567     185.558415      22.088598  \n",
              "min     -4319.992320    -236.039260   -7458.378150    -381.424430  \n",
              "25%      -101.530305      -2.566137     -59.509453      -8.820248  \n",
              "50%       -21.204225       3.117645       7.759910       0.053015  \n",
              "75%        52.389322       9.967742      86.351645       9.679540  \n",
              "max      2833.608950     463.419500    7393.398440     677.899630  \n",
              "\n",
              "[8 rows x 91 columns]"
            ],
            "text/html": [
              "\n",
              "  <div id=\"df-d533c5bb-6f87-41f9-bef3-d1cc7d90b4d5\" class=\"colab-df-container\">\n",
              "    <div>\n",
              "<style scoped>\n",
              "    .dataframe tbody tr th:only-of-type {\n",
              "        vertical-align: middle;\n",
              "    }\n",
              "\n",
              "    .dataframe tbody tr th {\n",
              "        vertical-align: top;\n",
              "    }\n",
              "\n",
              "    .dataframe thead th {\n",
              "        text-align: right;\n",
              "    }\n",
              "</style>\n",
              "<table border=\"1\" class=\"dataframe\">\n",
              "  <thead>\n",
              "    <tr style=\"text-align: right;\">\n",
              "      <th></th>\n",
              "      <th>2001</th>\n",
              "      <th>49.94357</th>\n",
              "      <th>21.47114</th>\n",
              "      <th>73.0775</th>\n",
              "      <th>8.74861</th>\n",
              "      <th>-17.40628</th>\n",
              "      <th>-13.09905</th>\n",
              "      <th>-25.01202</th>\n",
              "      <th>-12.23257</th>\n",
              "      <th>7.83089</th>\n",
              "      <th>...</th>\n",
              "      <th>13.0162</th>\n",
              "      <th>-54.40548</th>\n",
              "      <th>58.99367</th>\n",
              "      <th>15.37344</th>\n",
              "      <th>1.11144</th>\n",
              "      <th>-23.08793</th>\n",
              "      <th>68.40795</th>\n",
              "      <th>-1.82223</th>\n",
              "      <th>-27.46348</th>\n",
              "      <th>2.26327</th>\n",
              "    </tr>\n",
              "  </thead>\n",
              "  <tbody>\n",
              "    <tr>\n",
              "      <th>count</th>\n",
              "      <td>515344.000000</td>\n",
              "      <td>515344.000000</td>\n",
              "      <td>515344.000000</td>\n",
              "      <td>515344.000000</td>\n",
              "      <td>515344.000000</td>\n",
              "      <td>515344.000000</td>\n",
              "      <td>515344.000000</td>\n",
              "      <td>515344.000000</td>\n",
              "      <td>515344.000000</td>\n",
              "      <td>515344.000000</td>\n",
              "      <td>...</td>\n",
              "      <td>515344.000000</td>\n",
              "      <td>515344.000000</td>\n",
              "      <td>515344.000000</td>\n",
              "      <td>515344.000000</td>\n",
              "      <td>515344.000000</td>\n",
              "      <td>515344.000000</td>\n",
              "      <td>515344.000000</td>\n",
              "      <td>515344.000000</td>\n",
              "      <td>515344.000000</td>\n",
              "      <td>515344.000000</td>\n",
              "    </tr>\n",
              "    <tr>\n",
              "      <th>mean</th>\n",
              "      <td>1998.397077</td>\n",
              "      <td>43.387113</td>\n",
              "      <td>1.289515</td>\n",
              "      <td>8.658222</td>\n",
              "      <td>1.164110</td>\n",
              "      <td>-6.553580</td>\n",
              "      <td>-9.521968</td>\n",
              "      <td>-2.391046</td>\n",
              "      <td>-1.793215</td>\n",
              "      <td>3.727868</td>\n",
              "      <td>...</td>\n",
              "      <td>15.755411</td>\n",
              "      <td>-73.461537</td>\n",
              "      <td>41.542388</td>\n",
              "      <td>37.934163</td>\n",
              "      <td>0.315750</td>\n",
              "      <td>17.669292</td>\n",
              "      <td>-26.315520</td>\n",
              "      <td>4.458653</td>\n",
              "      <td>20.035229</td>\n",
              "      <td>1.329104</td>\n",
              "    </tr>\n",
              "    <tr>\n",
              "      <th>std</th>\n",
              "      <td>10.931056</td>\n",
              "      <td>6.067557</td>\n",
              "      <td>51.580393</td>\n",
              "      <td>35.268505</td>\n",
              "      <td>16.322802</td>\n",
              "      <td>22.860803</td>\n",
              "      <td>12.857763</td>\n",
              "      <td>14.571853</td>\n",
              "      <td>7.963822</td>\n",
              "      <td>10.582869</td>\n",
              "      <td>...</td>\n",
              "      <td>32.099666</td>\n",
              "      <td>175.619058</td>\n",
              "      <td>122.228915</td>\n",
              "      <td>95.050718</td>\n",
              "      <td>16.161780</td>\n",
              "      <td>114.428002</td>\n",
              "      <td>173.977455</td>\n",
              "      <td>13.346567</td>\n",
              "      <td>185.558415</td>\n",
              "      <td>22.088598</td>\n",
              "    </tr>\n",
              "    <tr>\n",
              "      <th>min</th>\n",
              "      <td>1922.000000</td>\n",
              "      <td>1.749000</td>\n",
              "      <td>-337.092500</td>\n",
              "      <td>-301.005060</td>\n",
              "      <td>-154.183580</td>\n",
              "      <td>-181.953370</td>\n",
              "      <td>-81.794290</td>\n",
              "      <td>-188.214000</td>\n",
              "      <td>-72.503850</td>\n",
              "      <td>-126.479040</td>\n",
              "      <td>...</td>\n",
              "      <td>-437.722030</td>\n",
              "      <td>-4402.376440</td>\n",
              "      <td>-1810.689190</td>\n",
              "      <td>-3098.350310</td>\n",
              "      <td>-341.789120</td>\n",
              "      <td>-3168.924570</td>\n",
              "      <td>-4319.992320</td>\n",
              "      <td>-236.039260</td>\n",
              "      <td>-7458.378150</td>\n",
              "      <td>-381.424430</td>\n",
              "    </tr>\n",
              "    <tr>\n",
              "      <th>25%</th>\n",
              "      <td>1994.000000</td>\n",
              "      <td>39.954667</td>\n",
              "      <td>-26.059848</td>\n",
              "      <td>-11.462775</td>\n",
              "      <td>-8.487507</td>\n",
              "      <td>-20.666455</td>\n",
              "      <td>-18.441005</td>\n",
              "      <td>-10.780360</td>\n",
              "      <td>-6.468390</td>\n",
              "      <td>-2.293670</td>\n",
              "      <td>...</td>\n",
              "      <td>-1.812658</td>\n",
              "      <td>-139.555737</td>\n",
              "      <td>-20.987115</td>\n",
              "      <td>-4.669655</td>\n",
              "      <td>-6.781598</td>\n",
              "      <td>-31.580617</td>\n",
              "      <td>-101.530305</td>\n",
              "      <td>-2.566137</td>\n",
              "      <td>-59.509453</td>\n",
              "      <td>-8.820248</td>\n",
              "    </tr>\n",
              "    <tr>\n",
              "      <th>50%</th>\n",
              "      <td>2002.000000</td>\n",
              "      <td>44.258490</td>\n",
              "      <td>8.417725</td>\n",
              "      <td>10.476235</td>\n",
              "      <td>-0.652855</td>\n",
              "      <td>-6.007770</td>\n",
              "      <td>-11.188355</td>\n",
              "      <td>-2.046625</td>\n",
              "      <td>-1.736415</td>\n",
              "      <td>3.822305</td>\n",
              "      <td>...</td>\n",
              "      <td>9.171850</td>\n",
              "      <td>-53.089115</td>\n",
              "      <td>28.790580</td>\n",
              "      <td>33.623815</td>\n",
              "      <td>0.820830</td>\n",
              "      <td>15.598520</td>\n",
              "      <td>-21.204225</td>\n",
              "      <td>3.117645</td>\n",
              "      <td>7.759910</td>\n",
              "      <td>0.053015</td>\n",
              "    </tr>\n",
              "    <tr>\n",
              "      <th>75%</th>\n",
              "      <td>2006.000000</td>\n",
              "      <td>47.833875</td>\n",
              "      <td>36.124030</td>\n",
              "      <td>29.764685</td>\n",
              "      <td>8.787548</td>\n",
              "      <td>7.741877</td>\n",
              "      <td>-2.388945</td>\n",
              "      <td>6.508587</td>\n",
              "      <td>2.913455</td>\n",
              "      <td>9.961865</td>\n",
              "      <td>...</td>\n",
              "      <td>26.274487</td>\n",
              "      <td>13.478793</td>\n",
              "      <td>89.661785</td>\n",
              "      <td>77.785810</td>\n",
              "      <td>8.471000</td>\n",
              "      <td>67.795110</td>\n",
              "      <td>52.389322</td>\n",
              "      <td>9.967742</td>\n",
              "      <td>86.351645</td>\n",
              "      <td>9.679540</td>\n",
              "    </tr>\n",
              "    <tr>\n",
              "      <th>max</th>\n",
              "      <td>2011.000000</td>\n",
              "      <td>61.970140</td>\n",
              "      <td>384.065730</td>\n",
              "      <td>322.851430</td>\n",
              "      <td>335.771820</td>\n",
              "      <td>262.068870</td>\n",
              "      <td>166.236890</td>\n",
              "      <td>172.402680</td>\n",
              "      <td>126.741270</td>\n",
              "      <td>146.297950</td>\n",
              "      <td>...</td>\n",
              "      <td>840.973380</td>\n",
              "      <td>4469.454870</td>\n",
              "      <td>3210.701700</td>\n",
              "      <td>1734.079690</td>\n",
              "      <td>260.544900</td>\n",
              "      <td>3662.065650</td>\n",
              "      <td>2833.608950</td>\n",
              "      <td>463.419500</td>\n",
              "      <td>7393.398440</td>\n",
              "      <td>677.899630</td>\n",
              "    </tr>\n",
              "  </tbody>\n",
              "</table>\n",
              "<p>8 rows × 91 columns</p>\n",
              "</div>\n",
              "    <div class=\"colab-df-buttons\">\n",
              "\n",
              "  <div class=\"colab-df-container\">\n",
              "    <button class=\"colab-df-convert\" onclick=\"convertToInteractive('df-d533c5bb-6f87-41f9-bef3-d1cc7d90b4d5')\"\n",
              "            title=\"Convert this dataframe to an interactive table.\"\n",
              "            style=\"display:none;\">\n",
              "\n",
              "  <svg xmlns=\"http://www.w3.org/2000/svg\" height=\"24px\" viewBox=\"0 -960 960 960\">\n",
              "    <path d=\"M120-120v-720h720v720H120Zm60-500h600v-160H180v160Zm220 220h160v-160H400v160Zm0 220h160v-160H400v160ZM180-400h160v-160H180v160Zm440 0h160v-160H620v160ZM180-180h160v-160H180v160Zm440 0h160v-160H620v160Z\"/>\n",
              "  </svg>\n",
              "    </button>\n",
              "\n",
              "  <style>\n",
              "    .colab-df-container {\n",
              "      display:flex;\n",
              "      gap: 12px;\n",
              "    }\n",
              "\n",
              "    .colab-df-convert {\n",
              "      background-color: #E8F0FE;\n",
              "      border: none;\n",
              "      border-radius: 50%;\n",
              "      cursor: pointer;\n",
              "      display: none;\n",
              "      fill: #1967D2;\n",
              "      height: 32px;\n",
              "      padding: 0 0 0 0;\n",
              "      width: 32px;\n",
              "    }\n",
              "\n",
              "    .colab-df-convert:hover {\n",
              "      background-color: #E2EBFA;\n",
              "      box-shadow: 0px 1px 2px rgba(60, 64, 67, 0.3), 0px 1px 3px 1px rgba(60, 64, 67, 0.15);\n",
              "      fill: #174EA6;\n",
              "    }\n",
              "\n",
              "    .colab-df-buttons div {\n",
              "      margin-bottom: 4px;\n",
              "    }\n",
              "\n",
              "    [theme=dark] .colab-df-convert {\n",
              "      background-color: #3B4455;\n",
              "      fill: #D2E3FC;\n",
              "    }\n",
              "\n",
              "    [theme=dark] .colab-df-convert:hover {\n",
              "      background-color: #434B5C;\n",
              "      box-shadow: 0px 1px 3px 1px rgba(0, 0, 0, 0.15);\n",
              "      filter: drop-shadow(0px 1px 2px rgba(0, 0, 0, 0.3));\n",
              "      fill: #FFFFFF;\n",
              "    }\n",
              "  </style>\n",
              "\n",
              "    <script>\n",
              "      const buttonEl =\n",
              "        document.querySelector('#df-d533c5bb-6f87-41f9-bef3-d1cc7d90b4d5 button.colab-df-convert');\n",
              "      buttonEl.style.display =\n",
              "        google.colab.kernel.accessAllowed ? 'block' : 'none';\n",
              "\n",
              "      async function convertToInteractive(key) {\n",
              "        const element = document.querySelector('#df-d533c5bb-6f87-41f9-bef3-d1cc7d90b4d5');\n",
              "        const dataTable =\n",
              "          await google.colab.kernel.invokeFunction('convertToInteractive',\n",
              "                                                    [key], {});\n",
              "        if (!dataTable) return;\n",
              "\n",
              "        const docLinkHtml = 'Like what you see? Visit the ' +\n",
              "          '<a target=\"_blank\" href=https://colab.research.google.com/notebooks/data_table.ipynb>data table notebook</a>'\n",
              "          + ' to learn more about interactive tables.';\n",
              "        element.innerHTML = '';\n",
              "        dataTable['output_type'] = 'display_data';\n",
              "        await google.colab.output.renderOutput(dataTable, element);\n",
              "        const docLink = document.createElement('div');\n",
              "        docLink.innerHTML = docLinkHtml;\n",
              "        element.appendChild(docLink);\n",
              "      }\n",
              "    </script>\n",
              "  </div>\n",
              "\n",
              "\n",
              "    <div id=\"df-4dc84755-73af-4cf0-a684-af5c70f90e48\">\n",
              "      <button class=\"colab-df-quickchart\" onclick=\"quickchart('df-4dc84755-73af-4cf0-a684-af5c70f90e48')\"\n",
              "                title=\"Suggest charts\"\n",
              "                style=\"display:none;\">\n",
              "\n",
              "<svg xmlns=\"http://www.w3.org/2000/svg\" height=\"24px\"viewBox=\"0 0 24 24\"\n",
              "     width=\"24px\">\n",
              "    <g>\n",
              "        <path d=\"M19 3H5c-1.1 0-2 .9-2 2v14c0 1.1.9 2 2 2h14c1.1 0 2-.9 2-2V5c0-1.1-.9-2-2-2zM9 17H7v-7h2v7zm4 0h-2V7h2v10zm4 0h-2v-4h2v4z\"/>\n",
              "    </g>\n",
              "</svg>\n",
              "      </button>\n",
              "\n",
              "<style>\n",
              "  .colab-df-quickchart {\n",
              "      --bg-color: #E8F0FE;\n",
              "      --fill-color: #1967D2;\n",
              "      --hover-bg-color: #E2EBFA;\n",
              "      --hover-fill-color: #174EA6;\n",
              "      --disabled-fill-color: #AAA;\n",
              "      --disabled-bg-color: #DDD;\n",
              "  }\n",
              "\n",
              "  [theme=dark] .colab-df-quickchart {\n",
              "      --bg-color: #3B4455;\n",
              "      --fill-color: #D2E3FC;\n",
              "      --hover-bg-color: #434B5C;\n",
              "      --hover-fill-color: #FFFFFF;\n",
              "      --disabled-bg-color: #3B4455;\n",
              "      --disabled-fill-color: #666;\n",
              "  }\n",
              "\n",
              "  .colab-df-quickchart {\n",
              "    background-color: var(--bg-color);\n",
              "    border: none;\n",
              "    border-radius: 50%;\n",
              "    cursor: pointer;\n",
              "    display: none;\n",
              "    fill: var(--fill-color);\n",
              "    height: 32px;\n",
              "    padding: 0;\n",
              "    width: 32px;\n",
              "  }\n",
              "\n",
              "  .colab-df-quickchart:hover {\n",
              "    background-color: var(--hover-bg-color);\n",
              "    box-shadow: 0 1px 2px rgba(60, 64, 67, 0.3), 0 1px 3px 1px rgba(60, 64, 67, 0.15);\n",
              "    fill: var(--button-hover-fill-color);\n",
              "  }\n",
              "\n",
              "  .colab-df-quickchart-complete:disabled,\n",
              "  .colab-df-quickchart-complete:disabled:hover {\n",
              "    background-color: var(--disabled-bg-color);\n",
              "    fill: var(--disabled-fill-color);\n",
              "    box-shadow: none;\n",
              "  }\n",
              "\n",
              "  .colab-df-spinner {\n",
              "    border: 2px solid var(--fill-color);\n",
              "    border-color: transparent;\n",
              "    border-bottom-color: var(--fill-color);\n",
              "    animation:\n",
              "      spin 1s steps(1) infinite;\n",
              "  }\n",
              "\n",
              "  @keyframes spin {\n",
              "    0% {\n",
              "      border-color: transparent;\n",
              "      border-bottom-color: var(--fill-color);\n",
              "      border-left-color: var(--fill-color);\n",
              "    }\n",
              "    20% {\n",
              "      border-color: transparent;\n",
              "      border-left-color: var(--fill-color);\n",
              "      border-top-color: var(--fill-color);\n",
              "    }\n",
              "    30% {\n",
              "      border-color: transparent;\n",
              "      border-left-color: var(--fill-color);\n",
              "      border-top-color: var(--fill-color);\n",
              "      border-right-color: var(--fill-color);\n",
              "    }\n",
              "    40% {\n",
              "      border-color: transparent;\n",
              "      border-right-color: var(--fill-color);\n",
              "      border-top-color: var(--fill-color);\n",
              "    }\n",
              "    60% {\n",
              "      border-color: transparent;\n",
              "      border-right-color: var(--fill-color);\n",
              "    }\n",
              "    80% {\n",
              "      border-color: transparent;\n",
              "      border-right-color: var(--fill-color);\n",
              "      border-bottom-color: var(--fill-color);\n",
              "    }\n",
              "    90% {\n",
              "      border-color: transparent;\n",
              "      border-bottom-color: var(--fill-color);\n",
              "    }\n",
              "  }\n",
              "</style>\n",
              "\n",
              "      <script>\n",
              "        async function quickchart(key) {\n",
              "          const quickchartButtonEl =\n",
              "            document.querySelector('#' + key + ' button');\n",
              "          quickchartButtonEl.disabled = true;  // To prevent multiple clicks.\n",
              "          quickchartButtonEl.classList.add('colab-df-spinner');\n",
              "          try {\n",
              "            const charts = await google.colab.kernel.invokeFunction(\n",
              "                'suggestCharts', [key], {});\n",
              "          } catch (error) {\n",
              "            console.error('Error during call to suggestCharts:', error);\n",
              "          }\n",
              "          quickchartButtonEl.classList.remove('colab-df-spinner');\n",
              "          quickchartButtonEl.classList.add('colab-df-quickchart-complete');\n",
              "        }\n",
              "        (() => {\n",
              "          let quickchartButtonEl =\n",
              "            document.querySelector('#df-4dc84755-73af-4cf0-a684-af5c70f90e48 button');\n",
              "          quickchartButtonEl.style.display =\n",
              "            google.colab.kernel.accessAllowed ? 'block' : 'none';\n",
              "        })();\n",
              "      </script>\n",
              "    </div>\n",
              "\n",
              "    </div>\n",
              "  </div>\n"
            ],
            "application/vnd.google.colaboratory.intrinsic+json": {
              "type": "dataframe"
            }
          },
          "metadata": {},
          "execution_count": 64
        }
      ]
    },
    {
      "cell_type": "code",
      "source": [
        "df.isnull().sum()"
      ],
      "metadata": {
        "colab": {
          "base_uri": "https://localhost:8080/",
          "height": 458
        },
        "id": "_4nN4iHNqHo_",
        "outputId": "a60a3ba8-5c1f-49a7-f1fe-2f455a959c02"
      },
      "execution_count": null,
      "outputs": [
        {
          "output_type": "execute_result",
          "data": {
            "text/plain": [
              "2001         0\n",
              "49.94357     0\n",
              "21.47114     0\n",
              "73.0775      0\n",
              "8.74861      0\n",
              "            ..\n",
              "-23.08793    0\n",
              "68.40795     0\n",
              "-1.82223     0\n",
              "-27.46348    0\n",
              "2.26327      0\n",
              "Length: 91, dtype: int64"
            ],
            "text/html": [
              "<div>\n",
              "<style scoped>\n",
              "    .dataframe tbody tr th:only-of-type {\n",
              "        vertical-align: middle;\n",
              "    }\n",
              "\n",
              "    .dataframe tbody tr th {\n",
              "        vertical-align: top;\n",
              "    }\n",
              "\n",
              "    .dataframe thead th {\n",
              "        text-align: right;\n",
              "    }\n",
              "</style>\n",
              "<table border=\"1\" class=\"dataframe\">\n",
              "  <thead>\n",
              "    <tr style=\"text-align: right;\">\n",
              "      <th></th>\n",
              "      <th>0</th>\n",
              "    </tr>\n",
              "  </thead>\n",
              "  <tbody>\n",
              "    <tr>\n",
              "      <th>2001</th>\n",
              "      <td>0</td>\n",
              "    </tr>\n",
              "    <tr>\n",
              "      <th>49.94357</th>\n",
              "      <td>0</td>\n",
              "    </tr>\n",
              "    <tr>\n",
              "      <th>21.47114</th>\n",
              "      <td>0</td>\n",
              "    </tr>\n",
              "    <tr>\n",
              "      <th>73.0775</th>\n",
              "      <td>0</td>\n",
              "    </tr>\n",
              "    <tr>\n",
              "      <th>8.74861</th>\n",
              "      <td>0</td>\n",
              "    </tr>\n",
              "    <tr>\n",
              "      <th>...</th>\n",
              "      <td>...</td>\n",
              "    </tr>\n",
              "    <tr>\n",
              "      <th>-23.08793</th>\n",
              "      <td>0</td>\n",
              "    </tr>\n",
              "    <tr>\n",
              "      <th>68.40795</th>\n",
              "      <td>0</td>\n",
              "    </tr>\n",
              "    <tr>\n",
              "      <th>-1.82223</th>\n",
              "      <td>0</td>\n",
              "    </tr>\n",
              "    <tr>\n",
              "      <th>-27.46348</th>\n",
              "      <td>0</td>\n",
              "    </tr>\n",
              "    <tr>\n",
              "      <th>2.26327</th>\n",
              "      <td>0</td>\n",
              "    </tr>\n",
              "  </tbody>\n",
              "</table>\n",
              "<p>91 rows × 1 columns</p>\n",
              "</div><br><label><b>dtype:</b> int64</label>"
            ]
          },
          "metadata": {},
          "execution_count": 65
        }
      ]
    },
    {
      "cell_type": "markdown",
      "source": [
        "## Preprocessing"
      ],
      "metadata": {
        "id": "oo23h85eoR6w"
      }
    },
    {
      "cell_type": "code",
      "source": [
        "imputer = SimpleImputer(strategy='median')\n",
        "df_imputed = pd.DataFrame(imputer.fit_transform(df), columns=df.columns)"
      ],
      "metadata": {
        "id": "6njvscni5qBH"
      },
      "execution_count": null,
      "outputs": []
    },
    {
      "cell_type": "code",
      "source": [
        "X = df_imputed.iloc[:, 1:]  # Fitur\n",
        "y = df_imputed.iloc[:, 0]   # Target\n",
        "df_combined = pd.concat([y, X], axis=1)"
      ],
      "metadata": {
        "id": "J7YVJjmO5qg_"
      },
      "execution_count": null,
      "outputs": []
    },
    {
      "cell_type": "code",
      "source": [
        "def remove_outliers_iqr(df, column):\n",
        "    Q1 = df[column].quantile(0.25)\n",
        "    Q3 = df[column].quantile(0.75)\n",
        "    IQR = Q3 - Q1\n",
        "    lower = Q1 - 1.5 * IQR\n",
        "    upper = Q3 + 1.5 * IQR\n",
        "    return df[(df[column] >= lower) & (df[column] <= upper)]"
      ],
      "metadata": {
        "id": "HnXD3k0x6w_U"
      },
      "execution_count": null,
      "outputs": []
    },
    {
      "cell_type": "code",
      "source": [
        "df_clean = remove_outliers_iqr(df_combined, df_combined.columns[0])"
      ],
      "metadata": {
        "id": "g6Ji6RaV6zNa"
      },
      "execution_count": null,
      "outputs": []
    },
    {
      "cell_type": "code",
      "source": [
        "corr = df_clean.corr()\n",
        "target_corr = corr.iloc[1:, 0].abs()\n",
        "threshold = 0.1\n",
        "selected_features = target_corr[target_corr > threshold].index.tolist()"
      ],
      "metadata": {
        "id": "gboeDh3p5sIt"
      },
      "execution_count": null,
      "outputs": []
    },
    {
      "cell_type": "code",
      "source": [
        "if not selected_features:\n",
        "    threshold = target_corr.max() * 0.5\n",
        "    selected_features = target_corr[target_corr > threshold].index.tolist()"
      ],
      "metadata": {
        "id": "cqK5N_HW7hHQ"
      },
      "execution_count": null,
      "outputs": []
    },
    {
      "cell_type": "code",
      "source": [
        "X_filtered = df_clean[selected_features]\n",
        "y_filtered = df_clean.iloc[:, 0]"
      ],
      "metadata": {
        "id": "xgljSi5-656c"
      },
      "execution_count": null,
      "outputs": []
    },
    {
      "cell_type": "code",
      "source": [
        "scaler = StandardScaler()\n",
        "X_scaled = pd.DataFrame(scaler.fit_transform(X_filtered), columns=X_filtered.columns)"
      ],
      "metadata": {
        "id": "HHxD4Bbr5voX"
      },
      "execution_count": null,
      "outputs": []
    },
    {
      "cell_type": "code",
      "source": [
        "y_scaler = StandardScaler()\n",
        "y_scaled = y_scaler.fit_transform(y_filtered.values.reshape(-1, 1)).flatten()"
      ],
      "metadata": {
        "id": "VMC0XftN9rZC"
      },
      "execution_count": null,
      "outputs": []
    },
    {
      "cell_type": "code",
      "source": [
        "X_train, X_test, y_train, y_test = train_test_split(X_scaled, y_scaled, test_size=0.2, random_state=42)"
      ],
      "metadata": {
        "id": "1kd2YJz55wp3"
      },
      "execution_count": null,
      "outputs": []
    },
    {
      "cell_type": "markdown",
      "source": [
        "## Modeling"
      ],
      "metadata": {
        "id": "munuvperocU2"
      }
    },
    {
      "cell_type": "code",
      "source": [
        "model = Sequential([\n",
        "    Dense(256, input_shape=(X_train.shape[1],), kernel_regularizer=regularizers.l2(0.001)),\n",
        "    BatchNormalization(),\n",
        "    LeakyReLU(),\n",
        "    Dropout(0.2),\n",
        "\n",
        "    Dense(128, kernel_regularizer=regularizers.l2(0.001)),\n",
        "    BatchNormalization(),\n",
        "    LeakyReLU(),\n",
        "    Dropout(0.2),\n",
        "\n",
        "    Dense(64, kernel_regularizer=regularizers.l2(0.001)),\n",
        "    BatchNormalization(),\n",
        "    LeakyReLU(),\n",
        "    Dropout(0.2),\n",
        "\n",
        "    Dense(1)\n",
        "])"
      ],
      "metadata": {
        "colab": {
          "base_uri": "https://localhost:8080/"
        },
        "id": "pBm08CpP5yCW",
        "outputId": "1d10a737-b281-4511-820c-40af6d13c9f5"
      },
      "execution_count": null,
      "outputs": [
        {
          "output_type": "stream",
          "name": "stderr",
          "text": [
            "/usr/local/lib/python3.11/dist-packages/keras/src/layers/core/dense.py:87: UserWarning: Do not pass an `input_shape`/`input_dim` argument to a layer. When using Sequential models, prefer using an `Input(shape)` object as the first layer in the model instead.\n",
            "  super().__init__(activity_regularizer=activity_regularizer, **kwargs)\n"
          ]
        }
      ]
    },
    {
      "cell_type": "code",
      "source": [
        "optimizer = tf.keras.optimizers.Nadam(learning_rate=0.0005)\n",
        "model.compile(optimizer=optimizer, loss=Huber(), metrics=['mae'])\n",
        "early_stop = EarlyStopping(monitor='val_loss', patience=5, restore_best_weights=True)"
      ],
      "metadata": {
        "id": "TwS2eZla7CPl"
      },
      "execution_count": null,
      "outputs": []
    },
    {
      "cell_type": "code",
      "source": [
        "history = model.fit(X_train, y_train, validation_split=0.2, epochs=50, batch_size=64,callbacks=[early_stop], verbose=1)"
      ],
      "metadata": {
        "colab": {
          "base_uri": "https://localhost:8080/"
        },
        "id": "-awHJPCV7DPX",
        "outputId": "9c41fe3a-e261-40ba-a207-66e5970e047c"
      },
      "execution_count": null,
      "outputs": [
        {
          "output_type": "stream",
          "name": "stdout",
          "text": [
            "Epoch 1/50\n",
            "\u001b[1m4857/4857\u001b[0m \u001b[32m━━━━━━━━━━━━━━━━━━━━\u001b[0m\u001b[37m\u001b[0m \u001b[1m56s\u001b[0m 10ms/step - loss: 0.5548 - mae: 0.7462 - val_loss: 0.3490 - val_mae: 0.6852\n",
            "Epoch 2/50\n",
            "\u001b[1m4857/4857\u001b[0m \u001b[32m━━━━━━━━━━━━━━━━━━━━\u001b[0m\u001b[37m\u001b[0m \u001b[1m60s\u001b[0m 12ms/step - loss: 0.3499 - mae: 0.6894 - val_loss: 0.3422 - val_mae: 0.6850\n",
            "Epoch 3/50\n",
            "\u001b[1m4857/4857\u001b[0m \u001b[32m━━━━━━━━━━━━━━━━━━━━\u001b[0m\u001b[37m\u001b[0m \u001b[1m75s\u001b[0m 11ms/step - loss: 0.3462 - mae: 0.6888 - val_loss: 0.3430 - val_mae: 0.6878\n",
            "Epoch 4/50\n",
            "\u001b[1m4857/4857\u001b[0m \u001b[32m━━━━━━━━━━━━━━━━━━━━\u001b[0m\u001b[37m\u001b[0m \u001b[1m92s\u001b[0m 13ms/step - loss: 0.3454 - mae: 0.6879 - val_loss: 0.3414 - val_mae: 0.6852\n",
            "Epoch 5/50\n",
            "\u001b[1m4857/4857\u001b[0m \u001b[32m━━━━━━━━━━━━━━━━━━━━\u001b[0m\u001b[37m\u001b[0m \u001b[1m66s\u001b[0m 9ms/step - loss: 0.3453 - mae: 0.6880 - val_loss: 0.3422 - val_mae: 0.6869\n",
            "Epoch 6/50\n",
            "\u001b[1m4857/4857\u001b[0m \u001b[32m━━━━━━━━━━━━━━━━━━━━\u001b[0m\u001b[37m\u001b[0m \u001b[1m74s\u001b[0m 8ms/step - loss: 0.3451 - mae: 0.6879 - val_loss: 0.3426 - val_mae: 0.6870\n",
            "Epoch 7/50\n",
            "\u001b[1m4857/4857\u001b[0m \u001b[32m━━━━━━━━━━━━━━━━━━━━\u001b[0m\u001b[37m\u001b[0m \u001b[1m36s\u001b[0m 7ms/step - loss: 0.3447 - mae: 0.6876 - val_loss: 0.3414 - val_mae: 0.6876\n",
            "Epoch 8/50\n",
            "\u001b[1m4857/4857\u001b[0m \u001b[32m━━━━━━━━━━━━━━━━━━━━\u001b[0m\u001b[37m\u001b[0m \u001b[1m39s\u001b[0m 7ms/step - loss: 0.3443 - mae: 0.6875 - val_loss: 0.3412 - val_mae: 0.6857\n",
            "Epoch 9/50\n",
            "\u001b[1m4857/4857\u001b[0m \u001b[32m━━━━━━━━━━━━━━━━━━━━\u001b[0m\u001b[37m\u001b[0m \u001b[1m37s\u001b[0m 8ms/step - loss: 0.3442 - mae: 0.6873 - val_loss: 0.3405 - val_mae: 0.6856\n",
            "Epoch 10/50\n",
            "\u001b[1m4857/4857\u001b[0m \u001b[32m━━━━━━━━━━━━━━━━━━━━\u001b[0m\u001b[37m\u001b[0m \u001b[1m42s\u001b[0m 8ms/step - loss: 0.3438 - mae: 0.6870 - val_loss: 0.3406 - val_mae: 0.6834\n",
            "Epoch 11/50\n",
            "\u001b[1m4857/4857\u001b[0m \u001b[32m━━━━━━━━━━━━━━━━━━━━\u001b[0m\u001b[37m\u001b[0m \u001b[1m39s\u001b[0m 8ms/step - loss: 0.3442 - mae: 0.6877 - val_loss: 0.3393 - val_mae: 0.6812\n",
            "Epoch 12/50\n",
            "\u001b[1m4857/4857\u001b[0m \u001b[32m━━━━━━━━━━━━━━━━━━━━\u001b[0m\u001b[37m\u001b[0m \u001b[1m36s\u001b[0m 7ms/step - loss: 0.3438 - mae: 0.6870 - val_loss: 0.3400 - val_mae: 0.6839\n",
            "Epoch 13/50\n",
            "\u001b[1m4857/4857\u001b[0m \u001b[32m━━━━━━━━━━━━━━━━━━━━\u001b[0m\u001b[37m\u001b[0m \u001b[1m41s\u001b[0m 7ms/step - loss: 0.3437 - mae: 0.6872 - val_loss: 0.3404 - val_mae: 0.6855\n",
            "Epoch 14/50\n",
            "\u001b[1m4857/4857\u001b[0m \u001b[32m━━━━━━━━━━━━━━━━━━━━\u001b[0m\u001b[37m\u001b[0m \u001b[1m37s\u001b[0m 8ms/step - loss: 0.3434 - mae: 0.6869 - val_loss: 0.3392 - val_mae: 0.6822\n",
            "Epoch 15/50\n",
            "\u001b[1m4857/4857\u001b[0m \u001b[32m━━━━━━━━━━━━━━━━━━━━\u001b[0m\u001b[37m\u001b[0m \u001b[1m41s\u001b[0m 8ms/step - loss: 0.3436 - mae: 0.6871 - val_loss: 0.3395 - val_mae: 0.6845\n",
            "Epoch 16/50\n",
            "\u001b[1m4857/4857\u001b[0m \u001b[32m━━━━━━━━━━━━━━━━━━━━\u001b[0m\u001b[37m\u001b[0m \u001b[1m38s\u001b[0m 7ms/step - loss: 0.3434 - mae: 0.6871 - val_loss: 0.3393 - val_mae: 0.6833\n",
            "Epoch 17/50\n",
            "\u001b[1m4857/4857\u001b[0m \u001b[32m━━━━━━━━━━━━━━━━━━━━\u001b[0m\u001b[37m\u001b[0m \u001b[1m36s\u001b[0m 7ms/step - loss: 0.3429 - mae: 0.6863 - val_loss: 0.3386 - val_mae: 0.6822\n",
            "Epoch 18/50\n",
            "\u001b[1m4857/4857\u001b[0m \u001b[32m━━━━━━━━━━━━━━━━━━━━\u001b[0m\u001b[37m\u001b[0m \u001b[1m34s\u001b[0m 7ms/step - loss: 0.3432 - mae: 0.6868 - val_loss: 0.3392 - val_mae: 0.6818\n",
            "Epoch 19/50\n",
            "\u001b[1m4857/4857\u001b[0m \u001b[32m━━━━━━━━━━━━━━━━━━━━\u001b[0m\u001b[37m\u001b[0m \u001b[1m38s\u001b[0m 8ms/step - loss: 0.3431 - mae: 0.6867 - val_loss: 0.3393 - val_mae: 0.6826\n",
            "Epoch 20/50\n",
            "\u001b[1m4857/4857\u001b[0m \u001b[32m━━━━━━━━━━━━━━━━━━━━\u001b[0m\u001b[37m\u001b[0m \u001b[1m40s\u001b[0m 7ms/step - loss: 0.3435 - mae: 0.6873 - val_loss: 0.3399 - val_mae: 0.6844\n",
            "Epoch 21/50\n",
            "\u001b[1m4857/4857\u001b[0m \u001b[32m━━━━━━━━━━━━━━━━━━━━\u001b[0m\u001b[37m\u001b[0m \u001b[1m41s\u001b[0m 7ms/step - loss: 0.3432 - mae: 0.6872 - val_loss: 0.3404 - val_mae: 0.6867\n",
            "Epoch 22/50\n",
            "\u001b[1m4857/4857\u001b[0m \u001b[32m━━━━━━━━━━━━━━━━━━━━\u001b[0m\u001b[37m\u001b[0m \u001b[1m34s\u001b[0m 7ms/step - loss: 0.3430 - mae: 0.6865 - val_loss: 0.3404 - val_mae: 0.6849\n"
          ]
        }
      ]
    },
    {
      "cell_type": "code",
      "source": [
        "y_pred_scaled = model.predict(X_test).flatten()\n",
        "y_pred = y_scaler.inverse_transform(y_pred_scaled.reshape(-1, 1)).flatten()\n",
        "y_test_orig = y_scaler.inverse_transform(y_test.reshape(-1, 1)).flatten()\n",
        "\n",
        "# Hitung metrik evaluasi\n",
        "mse = mean_squared_error(y_test_orig, y_pred)\n",
        "rmse = np.sqrt(mse)\n",
        "mae = mean_absolute_error(y_test_orig, y_pred)\n",
        "r2 = r2_score(y_test_orig, y_pred)\n",
        "\n",
        "print(f'MSE: {mse}')\n",
        "print(f'RMSE: {rmse}')\n",
        "print(f'MAE: {mae}')\n",
        "print(f'R-squared: {r2}')"
      ],
      "metadata": {
        "colab": {
          "base_uri": "https://localhost:8080/"
        },
        "id": "OKcAifOz50gN",
        "outputId": "e0324b54-4bd2-4408-8ca3-11fff8185411"
      },
      "execution_count": null,
      "outputs": [
        {
          "output_type": "stream",
          "name": "stdout",
          "text": [
            "\u001b[1m3036/3036\u001b[0m \u001b[32m━━━━━━━━━━━━━━━━━━━━\u001b[0m\u001b[37m\u001b[0m \u001b[1m5s\u001b[0m 2ms/step\n",
            "MSE: 49.871793906590064\n",
            "RMSE: 7.061996453311915\n",
            "MAE: 5.320946241596228\n",
            "R-squared: 0.1734083439576759\n"
          ]
        }
      ]
    },
    {
      "cell_type": "markdown",
      "source": [
        "## Visualize"
      ],
      "metadata": {
        "id": "jN1kokhiofYb"
      }
    },
    {
      "cell_type": "code",
      "source": [
        "plt.figure(figsize=(8, 6))\n",
        "plt.scatter(y_test_orig, y_pred, alpha=0.5)\n",
        "plt.plot([y_test_orig.min(), y_test_orig.max()], [y_test_orig.min(), y_test_orig.max()], 'r--')\n",
        "plt.xlabel('Actual Values')\n",
        "plt.ylabel('Predicted Values')\n",
        "plt.title('Actual vs Predicted Values')\n",
        "plt.show()"
      ],
      "metadata": {
        "colab": {
          "base_uri": "https://localhost:8080/",
          "height": 564
        },
        "id": "lgRsfK7X_0Bi",
        "outputId": "d4ddd7e2-affc-48a2-e1e8-45fa2e748f73"
      },
      "execution_count": null,
      "outputs": [
        {
          "output_type": "display_data",
          "data": {
            "text/plain": [
              "<Figure size 800x600 with 1 Axes>"
            ],
            "image/png": "[encoded data removed]"
          },
          "metadata": {}
        }
      ]
    },
    {
      "cell_type": "markdown",
      "source": [
        "\n",
        "## 1. Persiapan Data dan Eksplorasi Awal\n",
        "* **Pemeriksaan Data Awal**:\n",
        "  - Mengecek dimensi data dengan `df.shape`\n",
        "  - Melihat statistik deskriptif dengan `df.describe()`\n",
        "  - Memeriksa missing values dengan `df.isnull().sum()`\n",
        "\n",
        "## 2. Preprocessing Data\n",
        "\n",
        "* **Penanganan Missing Values**:\n",
        "  - Menggunakan `SimpleImputer` dengan strategi median untuk mengisi nilai yang hilang\n",
        "  - Rumus imputasi median:  \n",
        "  $$\\text{median} = Q_2 = \\text{nilai tengah setelah diurutkan}$$\n",
        "\n",
        "* **Pemisahan Fitur dan Target**:\n",
        "  - Kolom pertama dijadikan target (y)\n",
        "  - Kolom lainnya dijadikan fitur (X)\n",
        "\n",
        "* **Penanganan Outlier**:\n",
        "  - Menggunakan metode IQR (Interquartile Range) untuk mengidentifikasi dan menghapus outlier\n",
        "  - Rumus IQR:  \n",
        "  $$\\text{IQR} = Q_3 - Q_1$$  \n",
        "  $$\\text{Batas bawah} = Q_1 - 1.5 \\times \\text{IQR}$$  \n",
        "  $$\\text{Batas atas} = Q_3 + 1.5 \\times \\text{IQR}$$\n",
        "\n",
        "* **Seleksi Fitur**:\n",
        "  - Memilih fitur berdasarkan korelasi dengan target\n",
        "  - Ambang batas korelasi absolut > 0.1\n",
        "  - Jika tidak ada fitur yang memenuhi, ambang batas diturunkan menjadi 50% dari korelasi maksimum\n",
        "\n",
        "## 3. Normalisasi Data\n",
        "\n",
        "* **Standarisasi Fitur**:\n",
        "  - Menggunakan `StandardScaler` untuk menstandarisasi fitur\n",
        "  - Rumus standarisasi:  \n",
        "  $$x_{\\text{std}} = \\frac{x - \\mu}{\\sigma}$$\n",
        "\n",
        "* **Normalisasi Target**:\n",
        "  - Juga menggunakan `StandardScaler` untuk target\n",
        "  - Dilakukan invers transform setelah prediksi untuk mendapatkan nilai asli\n",
        "\n",
        "## 4. Pembagian Data\n",
        "\n",
        "* **Train-Test Split**:\n",
        "  - Membagi data menjadi 80% training dan 20% testing\n",
        "  - Menggunakan `random_state=42` untuk reproduktibilitas\n",
        "\n",
        "## 5. Pembangunan Model Neural Network\n",
        "\n",
        "* **Arsitektur Model**:\n",
        "  - Model Sequential dengan 3 hidden layer (256, 128, 64 neuron)\n",
        "  - Menggunakan L2 regularization dengan λ=0.001\n",
        "  - Batch Normalization setelah setiap dense layer\n",
        "  - Aktivasi LeakyReLU untuk non-linearitas\n",
        "  - Dropout rate 0.2 untuk pencegahan overfitting\n",
        "\n",
        "* **Konfigurasi Training**:\n",
        "  - Optimizer: Nadam dengan learning rate 0.0005\n",
        "  - Loss function: Huber loss (lebih robust terhadap outlier daripada MSE)\n",
        "  - Metrik evaluasi: MAE (Mean Absolute Error)\n",
        "  - Callbacks:\n",
        "    - EarlyStopping dengan patience=5\n",
        "    - ReduceLROnPlateau untuk penyesuaian learning rate otomatis\n",
        "\n",
        "## 6. Pelatihan Model\n",
        "\n",
        "* **Proses Training**:\n",
        "  - Epochs: 50 (dengan early stopping)\n",
        "  - Batch size: 64\n",
        "  - Validation split: 20% dari data training\n",
        "  - Menggunakan `verbose=1` untuk menampilkan progress\n",
        "\n",
        "## 7. Evaluasi Model\n",
        "\n",
        "* **Transformasi Kembali Prediksi**:\n",
        "  - Menginvers transformasi scaling pada prediksi dan nilai test aktual\n",
        "\n",
        "* **Metrik Evaluasi**:\n",
        "  - **Mean Squared Error (MSE)**:  \n",
        "  $$\\text{MSE} = \\frac{1}{n} \\sum_{i=1}^{n} (y_i - \\hat{y}_i)^2$$  \n",
        "\n",
        "  - **Root Mean Squared Error (RMSE)**:  \n",
        "  $$\\text{RMSE} = \\sqrt{\\text{MSE}}$$  \n",
        "\n",
        "  - **Mean Absolute Error (MAE)**:  \n",
        "  $$\\text{MAE} = \\frac{1}{n} \\sum_{i=1}^{n} |y_i - \\hat{y}_i|$$  \n",
        "\n",
        "  - **R-squared (R²)**:  \n",
        "  $$R^2 = 1 - \\frac{\\sum_{i=1}^{n} (y_i - \\hat{y}_i)^2}{\\sum_{i=1}^{n} (y_i - \\bar{y})^2}$$\n",
        "\n",
        "## 8. Visualisasi Hasil\n",
        "\n",
        "* **Actual vs Predicted Plot**:\n",
        "  - Scatter plot nilai aktual vs prediksi\n",
        "  - Garis diagonal merah menunjukkan prediksi sempurna\n",
        "  - Visualisasi membantu mengevaluasi sebaran dan pola prediksi"
      ],
      "metadata": {
        "id": "uiCaAsNQnEAm"
      }
    }
  ]
}