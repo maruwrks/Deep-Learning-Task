{
  "nbformat": 4,
  "nbformat_minor": 0,
  "metadata": {
    "colab": {
      "provenance": []
    },
    "kernelspec": {
      "name": "python3",
      "display_name": "Python 3"
    },
    "language_info": {
      "name": "python"
    }
  },
  "cells": [
    {
      "cell_type": "code",
      "execution_count": 60,
      "metadata": {
        "id": "AOtdEBmd6Ma3"
      },
      "outputs": [],
      "source": [
        "import tensorflow as tf\n",
        "from tensorflow import keras\n",
        "import numpy as np\n",
        "import matplotlib.pyplot as plt\n",
        "from sklearn.datasets import fetch_california_housing\n",
        "from sklearn.model_selection import train_test_split\n",
        "from sklearn.preprocessing import StandardScaler"
      ]
    },
    {
      "cell_type": "markdown",
      "source": [
        "#Data Loading"
      ],
      "metadata": {
        "id": "qFmTbWUVsvL5"
      }
    },
    {
      "cell_type": "code",
      "source": [
        "housing = fetch_california_housing()\n",
        "X_train_full, X_test, y_train_full, y_test = train_test_split(\n",
        "    housing.data, housing.target, random_state=42)\n",
        "X_train, X_valid, y_train, y_valid = train_test_split(\n",
        "    X_train_full, y_train_full, random_state=42)"
      ],
      "metadata": {
        "id": "F5h8oLBA7Wv9"
      },
      "execution_count": 61,
      "outputs": []
    },
    {
      "cell_type": "code",
      "source": [
        "scaler = StandardScaler()\n",
        "X_train = scaler.fit_transform(X_train)\n",
        "X_valid = scaler.transform(X_valid)\n",
        "X_test = scaler.transform(X_test)"
      ],
      "metadata": {
        "id": "qu_6usdD7Ywm"
      },
      "execution_count": 62,
      "outputs": []
    },
    {
      "cell_type": "markdown",
      "source": [
        "#Custom Loss Function"
      ],
      "metadata": {
        "id": "-wnpymVnsz_X"
      }
    },
    {
      "cell_type": "code",
      "source": [
        "class HuberLoss(keras.losses.Loss):\n",
        "    def __init__(self, threshold=1.0, **kwargs):\n",
        "        self.threshold = threshold\n",
        "        super().__init__(**kwargs)\n",
        "\n",
        "    def call(self, y_true, y_pred):\n",
        "        error = y_true - y_pred\n",
        "        is_small_error = tf.abs(error) < self.threshold\n",
        "        squared_loss = tf.square(error) / 2\n",
        "        linear_loss  = self.threshold * tf.abs(error) - self.threshold**2 / 2\n",
        "        return tf.where(is_small_error, squared_loss, linear_loss)\n",
        "\n",
        "    def get_config(self):\n",
        "        base_config = super().get_config()\n",
        "        return {**base_config, \"threshold\": self.threshold}"
      ],
      "metadata": {
        "id": "fpDyLOyk7aol"
      },
      "execution_count": 63,
      "outputs": []
    },
    {
      "cell_type": "code",
      "source": [
        "model = keras.models.Sequential([\n",
        "    keras.layers.Dense(30, activation=\"selu\", kernel_initializer=\"lecun_normal\", input_shape=X_train.shape[1:]),\n",
        "    keras.layers.Dense(1),\n",
        "])"
      ],
      "metadata": {
        "colab": {
          "base_uri": "https://localhost:8080/"
        },
        "id": "9HuLxD4pq2nk",
        "outputId": "5d96ed68-8811-45c7-827c-2115a239aaf9"
      },
      "execution_count": 64,
      "outputs": [
        {
          "output_type": "stream",
          "name": "stderr",
          "text": [
            "/usr/local/lib/python3.11/dist-packages/keras/src/layers/core/dense.py:87: UserWarning: Do not pass an `input_shape`/`input_dim` argument to a layer. When using Sequential models, prefer using an `Input(shape)` object as the first layer in the model instead.\n",
            "  super().__init__(activity_regularizer=activity_regularizer, **kwargs)\n"
          ]
        }
      ]
    },
    {
      "cell_type": "code",
      "source": [
        "model.compile(loss=HuberLoss(2.0), optimizer=\"nadam\", metrics=[\"mae\"])\n",
        "model.fit(X_train, y_train, epochs=5, validation_data=(X_valid, y_valid))"
      ],
      "metadata": {
        "colab": {
          "base_uri": "https://localhost:8080/"
        },
        "id": "7zWPsCGJ7cRf",
        "outputId": "da5df6b4-f3b4-42a4-8083-1b04016a6632"
      },
      "execution_count": 65,
      "outputs": [
        {
          "output_type": "stream",
          "name": "stdout",
          "text": [
            "Epoch 1/5\n",
            "\u001b[1m363/363\u001b[0m \u001b[32m━━━━━━━━━━━━━━━━━━━━\u001b[0m\u001b[37m\u001b[0m \u001b[1m2s\u001b[0m 3ms/step - loss: 1.9284 - mae: 1.5869 - val_loss: 0.6472 - val_mae: 0.8791\n",
            "Epoch 2/5\n",
            "\u001b[1m363/363\u001b[0m \u001b[32m━━━━━━━━━━━━━━━━━━━━\u001b[0m\u001b[37m\u001b[0m \u001b[1m1s\u001b[0m 3ms/step - loss: 0.6714 - mae: 0.9013 - val_loss: 0.6464 - val_mae: 0.8803\n",
            "Epoch 3/5\n",
            "\u001b[1m363/363\u001b[0m \u001b[32m━━━━━━━━━━━━━━━━━━━━\u001b[0m\u001b[37m\u001b[0m \u001b[1m1s\u001b[0m 3ms/step - loss: 0.6531 - mae: 0.8927 - val_loss: 0.6670 - val_mae: 0.8966\n",
            "Epoch 4/5\n",
            "\u001b[1m363/363\u001b[0m \u001b[32m━━━━━━━━━━━━━━━━━━━━\u001b[0m\u001b[37m\u001b[0m \u001b[1m1s\u001b[0m 2ms/step - loss: 0.6490 - mae: 0.8903 - val_loss: 0.6806 - val_mae: 0.8963\n",
            "Epoch 5/5\n",
            "\u001b[1m363/363\u001b[0m \u001b[32m━━━━━━━━━━━━━━━━━━━━\u001b[0m\u001b[37m\u001b[0m \u001b[1m1s\u001b[0m 3ms/step - loss: 0.6565 - mae: 0.8952 - val_loss: 0.6628 - val_mae: 0.8867\n"
          ]
        },
        {
          "output_type": "execute_result",
          "data": {
            "text/plain": [
              "<keras.src.callbacks.history.History at 0x7f21c8cc64d0>"
            ]
          },
          "metadata": {},
          "execution_count": 65
        }
      ]
    },
    {
      "cell_type": "markdown",
      "source": [
        "#Custom Layers and Models"
      ],
      "metadata": {
        "id": "nOA5KXVgs940"
      }
    },
    {
      "cell_type": "code",
      "source": [
        "class MyDense(keras.layers.Layer):\n",
        "    def __init__(self, units, activation=None, **kwargs):\n",
        "        super().__init__(**kwargs)\n",
        "        self.units = units\n",
        "        self.activation = keras.activations.get(activation)\n",
        "\n",
        "    def build(self, batch_input_shape):\n",
        "        self.kernel = self.add_weight(\n",
        "            name=\"kernel\", shape=[batch_input_shape[-1], self.units],\n",
        "            initializer=\"glorot_normal\")\n",
        "        self.bias = self.add_weight(\n",
        "            name=\"bias\", shape=[self.units], initializer=\"zeros\")\n",
        "        super().build(batch_input_shape)\n",
        "\n",
        "    def call(self, X):\n",
        "        return self.activation(X @ self.kernel + self.bias)\n",
        "\n",
        "    def get_config(self):\n",
        "        base_config = super().get_config()\n",
        "        return {**base_config, \"units\": self.units,\n",
        "                \"activation\": keras.activations.serialize(self.activation)}"
      ],
      "metadata": {
        "id": "AfNRnZhP7uZa"
      },
      "execution_count": 66,
      "outputs": []
    },
    {
      "cell_type": "code",
      "source": [
        "class MyModel(keras.Model):\n",
        "    def __init__(self, **kwargs):\n",
        "        super().__init__(**kwargs)\n",
        "        self.hidden1 = MyDense(30, activation=\"relu\")\n",
        "        self.hidden2 = MyDense(30, activation=\"relu\")\n",
        "        self.output_layer = MyDense(1)\n",
        "\n",
        "    def call(self, inputs):\n",
        "        x = self.hidden1(inputs)\n",
        "        x = self.hidden2(x)\n",
        "        return self.output_layer(x)"
      ],
      "metadata": {
        "id": "s5sjAxAf7zJc"
      },
      "execution_count": 67,
      "outputs": []
    },
    {
      "cell_type": "code",
      "source": [
        "custom_model = MyModel()\n",
        "custom_model.compile(loss=\"mse\", optimizer=\"adam\")\n",
        "print(\"\\nMelatih model kustom...\")\n",
        "custom_model.fit(X_train, y_train, epochs=5, validation_data=(X_valid, y_valid))"
      ],
      "metadata": {
        "colab": {
          "base_uri": "https://localhost:8080/"
        },
        "id": "vjqlEnW_72r3",
        "outputId": "388498e7-3f27-4006-8879-a8f09e0a2222"
      },
      "execution_count": 68,
      "outputs": [
        {
          "output_type": "stream",
          "name": "stdout",
          "text": [
            "\n",
            "Melatih model kustom...\n",
            "Epoch 1/5\n",
            "\u001b[1m363/363\u001b[0m \u001b[32m━━━━━━━━━━━━━━━━━━━━\u001b[0m\u001b[37m\u001b[0m \u001b[1m3s\u001b[0m 4ms/step - loss: 2.0362 - val_loss: 0.9538\n",
            "Epoch 2/5\n",
            "\u001b[1m363/363\u001b[0m \u001b[32m━━━━━━━━━━━━━━━━━━━━\u001b[0m\u001b[37m\u001b[0m \u001b[1m2s\u001b[0m 3ms/step - loss: 0.4810 - val_loss: 0.3942\n",
            "Epoch 3/5\n",
            "\u001b[1m363/363\u001b[0m \u001b[32m━━━━━━━━━━━━━━━━━━━━\u001b[0m\u001b[37m\u001b[0m \u001b[1m1s\u001b[0m 2ms/step - loss: 0.4008 - val_loss: 0.5956\n",
            "Epoch 4/5\n",
            "\u001b[1m363/363\u001b[0m \u001b[32m━━━━━━━━━━━━━━━━━━━━\u001b[0m\u001b[37m\u001b[0m \u001b[1m1s\u001b[0m 2ms/step - loss: 0.3744 - val_loss: 0.3670\n",
            "Epoch 5/5\n",
            "\u001b[1m363/363\u001b[0m \u001b[32m━━━━━━━━━━━━━━━━━━━━\u001b[0m\u001b[37m\u001b[0m \u001b[1m1s\u001b[0m 2ms/step - loss: 0.3556 - val_loss: 0.4350\n"
          ]
        },
        {
          "output_type": "execute_result",
          "data": {
            "text/plain": [
              "<keras.src.callbacks.history.History at 0x7f21b8f30e90>"
            ]
          },
          "metadata": {},
          "execution_count": 68
        }
      ]
    },
    {
      "cell_type": "markdown",
      "source": [
        "#Custom Training Loop"
      ],
      "metadata": {
        "id": "XHhcOf87tDP6"
      }
    },
    {
      "cell_type": "code",
      "source": [
        "model = keras.models.Sequential([\n",
        "    keras.layers.Dense(30, activation=\"selu\", kernel_initializer=\"lecun_normal\", input_shape=X_train.shape[1:]),\n",
        "    keras.layers.Dense(1),\n",
        "])"
      ],
      "metadata": {
        "id": "OXcyhjGK75I_"
      },
      "execution_count": 69,
      "outputs": []
    },
    {
      "cell_type": "code",
      "source": [
        "optimizer = keras.optimizers.Nadam(learning_rate=0.01)\n",
        "loss_fn = keras.losses.MeanSquaredError()\n",
        "mean_loss = keras.metrics.Mean()\n",
        "metrics = [keras.metrics.MeanAbsoluteError()]"
      ],
      "metadata": {
        "id": "dDeaAEhbrCrf"
      },
      "execution_count": 70,
      "outputs": []
    },
    {
      "cell_type": "code",
      "source": [
        "n_epochs = 5\n",
        "batch_size = 32\n",
        "n_steps = len(X_train) // batch_size"
      ],
      "metadata": {
        "id": "vnc3IyXErEkH"
      },
      "execution_count": 71,
      "outputs": []
    },
    {
      "cell_type": "code",
      "source": [
        "for epoch in range(1, n_epochs + 1):\n",
        "    print(f\"Epoch {epoch}/{n_epochs}\")\n",
        "    for step in range(1, n_steps + 1):\n",
        "        # Ambil satu batch data\n",
        "        indices = np.random.randint(len(X_train), size=batch_size)\n",
        "        X_batch, y_batch = X_train[indices], y_train[indices]\n",
        "\n",
        "        # Hitung gradien di dalam GradientTape\n",
        "        with tf.GradientTape() as tape:\n",
        "            y_pred = model(X_batch, training=True)\n",
        "            main_loss = tf.reduce_mean(loss_fn(y_batch, y_pred))\n",
        "            loss = tf.add_n([main_loss] + model.losses) # Tambahkan loss dari regularisasi jika ada\n",
        "\n",
        "        # Terapkan gradien\n",
        "        gradients = tape.gradient(loss, model.trainable_variables)\n",
        "        optimizer.apply_gradients(zip(gradients, model.trainable_variables))\n",
        "\n",
        "        # Update metrik\n",
        "        mean_loss(loss)\n",
        "        for metric in metrics:\n",
        "            metric(y_batch, y_pred)\n",
        "\n",
        "        # Tampilkan status\n",
        "        print(f\"\\rLangkah {step}/{n_steps} - loss: {mean_loss.result():.4f}\", end=\"\")\n",
        "\n",
        "    # Reset metrik di akhir setiap epoch\n",
        "    print() # Pindah baris\n",
        "    for metric in [mean_loss] + metrics:\n",
        "        metric.reset_state()"
      ],
      "metadata": {
        "colab": {
          "base_uri": "https://localhost:8080/"
        },
        "id": "DPrNmlWbrGLb",
        "outputId": "ad781761-9f1f-4e21-be37-757fa1e36f9d"
      },
      "execution_count": 72,
      "outputs": [
        {
          "output_type": "stream",
          "name": "stdout",
          "text": [
            "Epoch 1/5\n",
            "Langkah 362/362 - loss: 0.6882\n",
            "Epoch 2/5\n",
            "Langkah 362/362 - loss: 0.5870\n",
            "Epoch 3/5\n",
            "Langkah 362/362 - loss: 0.5386\n",
            "Epoch 4/5\n",
            "Langkah 362/362 - loss: 1.2418\n",
            "Epoch 5/5\n",
            "Langkah 362/362 - loss: 0.5206\n"
          ]
        }
      ]
    },
    {
      "cell_type": "markdown",
      "source": [
        "#TensorFlow Functions"
      ],
      "metadata": {
        "id": "KrcLK0tftJ-s"
      }
    },
    {
      "cell_type": "code",
      "source": [
        "import timeit\n",
        "\n",
        "# --- Versi Python Murni (Eager Execution) ---\n",
        "# Perulangan ini berjalan di Python, yang membuatnya lambat.\n",
        "def sum_up_to_eager(n):\n",
        "    total = tf.constant(0, dtype=tf.int32)\n",
        "    for i in range(n):\n",
        "        total += i\n",
        "    return total\n",
        "\n",
        "# --- Versi TF Function ---\n",
        "# @tf.function mengubah loop Python menjadi grafik komputasi.\n",
        "@tf.function\n",
        "def sum_up_to_graph(n):\n",
        "    total = tf.constant(0, dtype=tf.int32)\n",
        "    # AutoGraph akan mengubah loop ini menjadi tf.while_loop\n",
        "    for i in tf.range(n): # Menggunakan tf.range agar di-trace\n",
        "        total += i\n",
        "    return total\n",
        "\n",
        "# Jumlah iterasi untuk diuji\n",
        "num_iterations = 10000\n",
        "\n",
        "print(f\"Menguji fungsi dengan perulangan sebanyak {num_iterations} kali...\\n\")\n",
        "\n",
        "# Waktu eksekusi untuk fungsi Python murni\n",
        "start_time_eager = timeit.default_timer()\n",
        "sum_up_to_eager(num_iterations)\n",
        "end_time_eager = timeit.default_timer()\n",
        "print(f\"Waktu Eager Execution (Python Loop): {end_time_eager - start_time_eager:.4f} detik\")\n",
        "\n",
        "# Waktu eksekusi untuk TF Function (termasuk tracing pertama kali)\n",
        "start_time_graph = timeit.default_timer()\n",
        "sum_up_to_graph(tf.constant(num_iterations))\n",
        "end_time_graph = timeit.default_timer()\n",
        "print(f\"Waktu TF Function (Graph Loop): {end_time_graph - start_time_graph:.4f} detik\")"
      ],
      "metadata": {
        "colab": {
          "base_uri": "https://localhost:8080/"
        },
        "id": "dr6NhvWkrJPS",
        "outputId": "b300c702-0fa2-4de9-8966-885be1018a7f"
      },
      "execution_count": 73,
      "outputs": [
        {
          "output_type": "stream",
          "name": "stdout",
          "text": [
            "Menguji fungsi dengan perulangan sebanyak 10000 kali...\n",
            "\n",
            "Waktu Eager Execution (Python Loop): 1.1527 detik\n",
            "Waktu TF Function (Graph Loop): 0.3078 detik\n"
          ]
        }
      ]
    }
  ]
}