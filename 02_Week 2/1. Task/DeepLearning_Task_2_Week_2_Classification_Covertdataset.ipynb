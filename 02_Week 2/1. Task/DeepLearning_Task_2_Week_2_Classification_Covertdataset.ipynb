{
  "nbformat": 4,
  "nbformat_minor": 0,
  "metadata": {
    "colab": {
      "provenance": [],
      "gpuType": "T4",
      "collapsed_sections": [
        "2kkGPDmSIRqm",
        "dk9j1JQlYSbj",
        "yiCKSqK9IZXy"
      ],
      "include_colab_link": true
    },
    "kernelspec": {
      "name": "python3",
      "display_name": "Python 3"
    },
    "language_info": {
      "name": "python"
    },
    "accelerator": "GPU"
  },
  "cells": [
    {
      "cell_type": "markdown",
      "metadata": {
        "id": "view-in-github",
        "colab_type": "text"
      },
      "source": [
        "<a href=\"https://colab.research.google.com/github/maruwrks/Deep-Learning-Task/blob/main/DeepLearning_Task_2_Week_2_Classification_Covertdataset.ipynb\" target=\"_parent\"><img src=\"https://colab.research.google.com/assets/colab-badge.svg\" alt=\"Open In Colab\"/></a>"
      ]
    },
    {
      "cell_type": "code",
      "execution_count": null,
      "metadata": {
        "colab": {
          "base_uri": "https://localhost:8080/"
        },
        "id": "UAMoW416nLql",
        "outputId": "d7c91409-18c4-4274-be59-ce207b2033db"
      },
      "outputs": [
        {
          "output_type": "stream",
          "name": "stdout",
          "text": [
            "Requirement already satisfied: torch in /usr/local/lib/python3.11/dist-packages (2.5.1+cu124)\n",
            "Requirement already satisfied: torchvision in /usr/local/lib/python3.11/dist-packages (0.20.1+cu124)\n",
            "Requirement already satisfied: filelock in /usr/local/lib/python3.11/dist-packages (from torch) (3.17.0)\n",
            "Requirement already satisfied: typing-extensions>=4.8.0 in /usr/local/lib/python3.11/dist-packages (from torch) (4.12.2)\n",
            "Requirement already satisfied: networkx in /usr/local/lib/python3.11/dist-packages (from torch) (3.4.2)\n",
            "Requirement already satisfied: jinja2 in /usr/local/lib/python3.11/dist-packages (from torch) (3.1.6)\n",
            "Requirement already satisfied: fsspec in /usr/local/lib/python3.11/dist-packages (from torch) (2024.10.0)\n",
            "Collecting nvidia-cuda-nvrtc-cu12==12.4.127 (from torch)\n",
            "  Downloading nvidia_cuda_nvrtc_cu12-12.4.127-py3-none-manylinux2014_x86_64.whl.metadata (1.5 kB)\n",
            "Collecting nvidia-cuda-runtime-cu12==12.4.127 (from torch)\n",
            "  Downloading nvidia_cuda_runtime_cu12-12.4.127-py3-none-manylinux2014_x86_64.whl.metadata (1.5 kB)\n",
            "Collecting nvidia-cuda-cupti-cu12==12.4.127 (from torch)\n",
            "  Downloading nvidia_cuda_cupti_cu12-12.4.127-py3-none-manylinux2014_x86_64.whl.metadata (1.6 kB)\n",
            "Collecting nvidia-cudnn-cu12==9.1.0.70 (from torch)\n",
            "  Downloading nvidia_cudnn_cu12-9.1.0.70-py3-none-manylinux2014_x86_64.whl.metadata (1.6 kB)\n",
            "Collecting nvidia-cublas-cu12==12.4.5.8 (from torch)\n",
            "  Downloading nvidia_cublas_cu12-12.4.5.8-py3-none-manylinux2014_x86_64.whl.metadata (1.5 kB)\n",
            "Collecting nvidia-cufft-cu12==11.2.1.3 (from torch)\n",
            "  Downloading nvidia_cufft_cu12-11.2.1.3-py3-none-manylinux2014_x86_64.whl.metadata (1.5 kB)\n",
            "Collecting nvidia-curand-cu12==10.3.5.147 (from torch)\n",
            "  Downloading nvidia_curand_cu12-10.3.5.147-py3-none-manylinux2014_x86_64.whl.metadata (1.5 kB)\n",
            "Collecting nvidia-cusolver-cu12==11.6.1.9 (from torch)\n",
            "  Downloading nvidia_cusolver_cu12-11.6.1.9-py3-none-manylinux2014_x86_64.whl.metadata (1.6 kB)\n",
            "Collecting nvidia-cusparse-cu12==12.3.1.170 (from torch)\n",
            "  Downloading nvidia_cusparse_cu12-12.3.1.170-py3-none-manylinux2014_x86_64.whl.metadata (1.6 kB)\n",
            "Requirement already satisfied: nvidia-nccl-cu12==2.21.5 in /usr/local/lib/python3.11/dist-packages (from torch) (2.21.5)\n",
            "Requirement already satisfied: nvidia-nvtx-cu12==12.4.127 in /usr/local/lib/python3.11/dist-packages (from torch) (12.4.127)\n",
            "Collecting nvidia-nvjitlink-cu12==12.4.127 (from torch)\n",
            "  Downloading nvidia_nvjitlink_cu12-12.4.127-py3-none-manylinux2014_x86_64.whl.metadata (1.5 kB)\n",
            "Requirement already satisfied: triton==3.1.0 in /usr/local/lib/python3.11/dist-packages (from torch) (3.1.0)\n",
            "Requirement already satisfied: sympy==1.13.1 in /usr/local/lib/python3.11/dist-packages (from torch) (1.13.1)\n",
            "Requirement already satisfied: mpmath<1.4,>=1.1.0 in /usr/local/lib/python3.11/dist-packages (from sympy==1.13.1->torch) (1.3.0)\n",
            "Requirement already satisfied: numpy in /usr/local/lib/python3.11/dist-packages (from torchvision) (1.26.4)\n",
            "Requirement already satisfied: pillow!=8.3.*,>=5.3.0 in /usr/local/lib/python3.11/dist-packages (from torchvision) (11.1.0)\n",
            "Requirement already satisfied: MarkupSafe>=2.0 in /usr/local/lib/python3.11/dist-packages (from jinja2->torch) (3.0.2)\n",
            "Downloading nvidia_cublas_cu12-12.4.5.8-py3-none-manylinux2014_x86_64.whl (363.4 MB)\n",
            "\u001b[2K   \u001b[90m━━━━━━━━━━━━━━━━━━━━━━━━━━━━━━━━━━━━━━━━\u001b[0m \u001b[32m363.4/363.4 MB\u001b[0m \u001b[31m4.4 MB/s\u001b[0m eta \u001b[36m0:00:00\u001b[0m\n",
            "\u001b[?25hDownloading nvidia_cuda_cupti_cu12-12.4.127-py3-none-manylinux2014_x86_64.whl (13.8 MB)\n",
            "\u001b[2K   \u001b[90m━━━━━━━━━━━━━━━━━━━━━━━━━━━━━━━━━━━━━━━━\u001b[0m \u001b[32m13.8/13.8 MB\u001b[0m \u001b[31m49.5 MB/s\u001b[0m eta \u001b[36m0:00:00\u001b[0m\n",
            "\u001b[?25hDownloading nvidia_cuda_nvrtc_cu12-12.4.127-py3-none-manylinux2014_x86_64.whl (24.6 MB)\n",
            "\u001b[2K   \u001b[90m━━━━━━━━━━━━━━━━━━━━━━━━━━━━━━━━━━━━━━━━\u001b[0m \u001b[32m24.6/24.6 MB\u001b[0m \u001b[31m44.4 MB/s\u001b[0m eta \u001b[36m0:00:00\u001b[0m\n",
            "\u001b[?25hDownloading nvidia_cuda_runtime_cu12-12.4.127-py3-none-manylinux2014_x86_64.whl (883 kB)\n",
            "\u001b[2K   \u001b[90m━━━━━━━━━━━━━━━━━━━━━━━━━━━━━━━━━━━━━━━━\u001b[0m \u001b[32m883.7/883.7 kB\u001b[0m \u001b[31m26.4 MB/s\u001b[0m eta \u001b[36m0:00:00\u001b[0m\n",
            "\u001b[?25hDownloading nvidia_cudnn_cu12-9.1.0.70-py3-none-manylinux2014_x86_64.whl (664.8 MB)\n",
            "\u001b[2K   \u001b[90m━━━━━━━━━━━━━━━━━━━━━━━━━━━━━━━━━━━━━━━━\u001b[0m \u001b[32m664.8/664.8 MB\u001b[0m \u001b[31m848.2 kB/s\u001b[0m eta \u001b[36m0:00:00\u001b[0m\n",
            "\u001b[?25hDownloading nvidia_cufft_cu12-11.2.1.3-py3-none-manylinux2014_x86_64.whl (211.5 MB)\n",
            "\u001b[2K   \u001b[90m━━━━━━━━━━━━━━━━━━━━━━━━━━━━━━━━━━━━━━━━\u001b[0m \u001b[32m211.5/211.5 MB\u001b[0m \u001b[31m5.8 MB/s\u001b[0m eta \u001b[36m0:00:00\u001b[0m\n",
            "\u001b[?25hDownloading nvidia_curand_cu12-10.3.5.147-py3-none-manylinux2014_x86_64.whl (56.3 MB)\n",
            "\u001b[2K   \u001b[90m━━━━━━━━━━━━━━━━━━━━━━━━━━━━━━━━━━━━━━━━\u001b[0m \u001b[32m56.3/56.3 MB\u001b[0m \u001b[31m9.8 MB/s\u001b[0m eta \u001b[36m0:00:00\u001b[0m\n",
            "\u001b[?25hDownloading nvidia_cusolver_cu12-11.6.1.9-py3-none-manylinux2014_x86_64.whl (127.9 MB)\n",
            "\u001b[2K   \u001b[90m━━━━━━━━━━━━━━━━━━━━━━━━━━━━━━━━━━━━━━━━\u001b[0m \u001b[32m127.9/127.9 MB\u001b[0m \u001b[31m7.7 MB/s\u001b[0m eta \u001b[36m0:00:00\u001b[0m\n",
            "\u001b[?25hDownloading nvidia_cusparse_cu12-12.3.1.170-py3-none-manylinux2014_x86_64.whl (207.5 MB)\n",
            "\u001b[2K   \u001b[90m━━━━━━━━━━━━━━━━━━━━━━━━━━━━━━━━━━━━━━━━\u001b[0m \u001b[32m207.5/207.5 MB\u001b[0m \u001b[31m5.8 MB/s\u001b[0m eta \u001b[36m0:00:00\u001b[0m\n",
            "\u001b[?25hDownloading nvidia_nvjitlink_cu12-12.4.127-py3-none-manylinux2014_x86_64.whl (21.1 MB)\n",
            "\u001b[2K   \u001b[90m━━━━━━━━━━━━━━━━━━━━━━━━━━━━━━━━━━━━━━━━\u001b[0m \u001b[32m21.1/21.1 MB\u001b[0m \u001b[31m46.1 MB/s\u001b[0m eta \u001b[36m0:00:00\u001b[0m\n",
            "\u001b[?25hInstalling collected packages: nvidia-nvjitlink-cu12, nvidia-curand-cu12, nvidia-cufft-cu12, nvidia-cuda-runtime-cu12, nvidia-cuda-nvrtc-cu12, nvidia-cuda-cupti-cu12, nvidia-cublas-cu12, nvidia-cusparse-cu12, nvidia-cudnn-cu12, nvidia-cusolver-cu12\n",
            "  Attempting uninstall: nvidia-nvjitlink-cu12\n",
            "    Found existing installation: nvidia-nvjitlink-cu12 12.5.82\n",
            "    Uninstalling nvidia-nvjitlink-cu12-12.5.82:\n",
            "      Successfully uninstalled nvidia-nvjitlink-cu12-12.5.82\n",
            "  Attempting uninstall: nvidia-curand-cu12\n",
            "    Found existing installation: nvidia-curand-cu12 10.3.6.82\n",
            "    Uninstalling nvidia-curand-cu12-10.3.6.82:\n",
            "      Successfully uninstalled nvidia-curand-cu12-10.3.6.82\n",
            "  Attempting uninstall: nvidia-cufft-cu12\n",
            "    Found existing installation: nvidia-cufft-cu12 11.2.3.61\n",
            "    Uninstalling nvidia-cufft-cu12-11.2.3.61:\n",
            "      Successfully uninstalled nvidia-cufft-cu12-11.2.3.61\n",
            "  Attempting uninstall: nvidia-cuda-runtime-cu12\n",
            "    Found existing installation: nvidia-cuda-runtime-cu12 12.5.82\n",
            "    Uninstalling nvidia-cuda-runtime-cu12-12.5.82:\n",
            "      Successfully uninstalled nvidia-cuda-runtime-cu12-12.5.82\n",
            "  Attempting uninstall: nvidia-cuda-nvrtc-cu12\n",
            "    Found existing installation: nvidia-cuda-nvrtc-cu12 12.5.82\n",
            "    Uninstalling nvidia-cuda-nvrtc-cu12-12.5.82:\n",
            "      Successfully uninstalled nvidia-cuda-nvrtc-cu12-12.5.82\n",
            "  Attempting uninstall: nvidia-cuda-cupti-cu12\n",
            "    Found existing installation: nvidia-cuda-cupti-cu12 12.5.82\n",
            "    Uninstalling nvidia-cuda-cupti-cu12-12.5.82:\n",
            "      Successfully uninstalled nvidia-cuda-cupti-cu12-12.5.82\n",
            "  Attempting uninstall: nvidia-cublas-cu12\n",
            "    Found existing installation: nvidia-cublas-cu12 12.5.3.2\n",
            "    Uninstalling nvidia-cublas-cu12-12.5.3.2:\n",
            "      Successfully uninstalled nvidia-cublas-cu12-12.5.3.2\n",
            "  Attempting uninstall: nvidia-cusparse-cu12\n",
            "    Found existing installation: nvidia-cusparse-cu12 12.5.1.3\n",
            "    Uninstalling nvidia-cusparse-cu12-12.5.1.3:\n",
            "      Successfully uninstalled nvidia-cusparse-cu12-12.5.1.3\n",
            "  Attempting uninstall: nvidia-cudnn-cu12\n",
            "    Found existing installation: nvidia-cudnn-cu12 9.3.0.75\n",
            "    Uninstalling nvidia-cudnn-cu12-9.3.0.75:\n",
            "      Successfully uninstalled nvidia-cudnn-cu12-9.3.0.75\n",
            "  Attempting uninstall: nvidia-cusolver-cu12\n",
            "    Found existing installation: nvidia-cusolver-cu12 11.6.3.83\n",
            "    Uninstalling nvidia-cusolver-cu12-11.6.3.83:\n",
            "      Successfully uninstalled nvidia-cusolver-cu12-11.6.3.83\n",
            "Successfully installed nvidia-cublas-cu12-12.4.5.8 nvidia-cuda-cupti-cu12-12.4.127 nvidia-cuda-nvrtc-cu12-12.4.127 nvidia-cuda-runtime-cu12-12.4.127 nvidia-cudnn-cu12-9.1.0.70 nvidia-cufft-cu12-11.2.1.3 nvidia-curand-cu12-10.3.5.147 nvidia-cusolver-cu12-11.6.1.9 nvidia-cusparse-cu12-12.3.1.170 nvidia-nvjitlink-cu12-12.4.127\n"
          ]
        }
      ],
      "source": [
        "#!pip install torch torchvision"
      ]
    },
    {
      "cell_type": "code",
      "source": [
        "import torch\n",
        "import torch.nn as nn\n",
        "import torch.optim as optim\n",
        "from torch.utils.data import DataLoader, TensorDataset\n",
        "import pandas as pd\n",
        "import numpy as np\n",
        "import matplotlib.pyplot as plt\n",
        "from sklearn.model_selection import train_test_split\n",
        "from sklearn.preprocessing import LabelEncoder, StandardScaler, label_binarize\n",
        "from sklearn.metrics import accuracy_score, precision_score, recall_score, f1_score, roc_auc_score, roc_curve\n",
        "from imblearn.over_sampling import SMOTE\n",
        "from imblearn.under_sampling import RandomUnderSampler\n",
        "import tensorflow as tf\n",
        "from tensorflow import keras\n",
        "from tensorflow.keras import layers\n",
        "from tensorflow.keras.models import Sequential\n",
        "from tensorflow.keras.layers import Dense\n",
        "from tensorflow.keras.callbacks import EarlyStopping"
      ],
      "metadata": {
        "id": "_FRpVg5qnpwT"
      },
      "execution_count": null,
      "outputs": []
    },
    {
      "cell_type": "markdown",
      "source": [
        "# Data Exploring"
      ],
      "metadata": {
        "id": "2kkGPDmSIRqm"
      }
    },
    {
      "cell_type": "code",
      "source": [
        "url = \"https://raw.githubusercontent.com/farrelrassya/teachingMLDL/main/02.%20Deep%20Learning/Dataset/compressed_data.csv.gz\"\n",
        "df = pd.read_csv(url, compression=\"gzip\")\n",
        "df.head(10)"
      ],
      "metadata": {
        "id": "xHrKnUXznkBG",
        "colab": {
          "base_uri": "https://localhost:8080/"
        },
        "outputId": "b8368420-cc86-41f6-ab6d-e7f94c99832f"
      },
      "execution_count": null,
      "outputs": [
        {
          "output_type": "execute_result",
          "data": {
            "text/plain": [
              "   Elevation  Aspect  Slope  Horizontal_Distance_To_Hydrology  \\\n",
              "0       2596      51      3                               258   \n",
              "1       2590      56      2                               212   \n",
              "2       2804     139      9                               268   \n",
              "3       2785     155     18                               242   \n",
              "4       2595      45      2                               153   \n",
              "5       2579     132      6                               300   \n",
              "6       2606      45      7                               270   \n",
              "7       2605      49      4                               234   \n",
              "8       2617      45      9                               240   \n",
              "9       2612      59     10                               247   \n",
              "\n",
              "   Vertical_Distance_To_Hydrology  Horizontal_Distance_To_Roadways  \\\n",
              "0                               0                              510   \n",
              "1                              -6                              390   \n",
              "2                              65                             3180   \n",
              "3                             118                             3090   \n",
              "4                              -1                              391   \n",
              "5                             -15                               67   \n",
              "6                               5                              633   \n",
              "7                               7                              573   \n",
              "8                              56                              666   \n",
              "9                              11                              636   \n",
              "\n",
              "   Hillshade_9am  Hillshade_Noon  Hillshade_3pm  \\\n",
              "0            221             232            148   \n",
              "1            220             235            151   \n",
              "2            234             238            135   \n",
              "3            238             238            122   \n",
              "4            220             234            150   \n",
              "5            230             237            140   \n",
              "6            222             225            138   \n",
              "7            222             230            144   \n",
              "8            223             221            133   \n",
              "9            228             219            124   \n",
              "\n",
              "   Horizontal_Distance_To_Fire_Points  ...  Soil_Type35  Soil_Type36  \\\n",
              "0                                6279  ...            0            0   \n",
              "1                                6225  ...            0            0   \n",
              "2                                6121  ...            0            0   \n",
              "3                                6211  ...            0            0   \n",
              "4                                6172  ...            0            0   \n",
              "5                                6031  ...            0            0   \n",
              "6                                6256  ...            0            0   \n",
              "7                                6228  ...            0            0   \n",
              "8                                6244  ...            0            0   \n",
              "9                                6230  ...            0            0   \n",
              "\n",
              "   Soil_Type37  Soil_Type38  Soil_Type39  Soil_Type40  Wilderness_Area2  \\\n",
              "0            0            0            0            0                 0   \n",
              "1            0            0            0            0                 0   \n",
              "2            0            0            0            0                 0   \n",
              "3            0            0            0            0                 0   \n",
              "4            0            0            0            0                 0   \n",
              "5            0            0            0            0                 0   \n",
              "6            0            0            0            0                 0   \n",
              "7            0            0            0            0                 0   \n",
              "8            0            0            0            0                 0   \n",
              "9            0            0            0            0                 0   \n",
              "\n",
              "   Wilderness_Area3  Wilderness_Area4  Cover_Type  \n",
              "0                 0                 0           5  \n",
              "1                 0                 0           5  \n",
              "2                 0                 0           2  \n",
              "3                 0                 0           2  \n",
              "4                 0                 0           5  \n",
              "5                 0                 0           2  \n",
              "6                 0                 0           5  \n",
              "7                 0                 0           5  \n",
              "8                 0                 0           5  \n",
              "9                 0                 0           5  \n",
              "\n",
              "[10 rows x 55 columns]"
            ],
            "text/html": [
              "\n",
              "  <div id=\"df-5062e150-a90c-4105-80bf-f8add5190a3d\" class=\"colab-df-container\">\n",
              "    <div>\n",
              "<style scoped>\n",
              "    .dataframe tbody tr th:only-of-type {\n",
              "        vertical-align: middle;\n",
              "    }\n",
              "\n",
              "    .dataframe tbody tr th {\n",
              "        vertical-align: top;\n",
              "    }\n",
              "\n",
              "    .dataframe thead th {\n",
              "        text-align: right;\n",
              "    }\n",
              "</style>\n",
              "<table border=\"1\" class=\"dataframe\">\n",
              "  <thead>\n",
              "    <tr style=\"text-align: right;\">\n",
              "      <th></th>\n",
              "      <th>Elevation</th>\n",
              "      <th>Aspect</th>\n",
              "      <th>Slope</th>\n",
              "      <th>Horizontal_Distance_To_Hydrology</th>\n",
              "      <th>Vertical_Distance_To_Hydrology</th>\n",
              "      <th>Horizontal_Distance_To_Roadways</th>\n",
              "      <th>Hillshade_9am</th>\n",
              "      <th>Hillshade_Noon</th>\n",
              "      <th>Hillshade_3pm</th>\n",
              "      <th>Horizontal_Distance_To_Fire_Points</th>\n",
              "      <th>...</th>\n",
              "      <th>Soil_Type35</th>\n",
              "      <th>Soil_Type36</th>\n",
              "      <th>Soil_Type37</th>\n",
              "      <th>Soil_Type38</th>\n",
              "      <th>Soil_Type39</th>\n",
              "      <th>Soil_Type40</th>\n",
              "      <th>Wilderness_Area2</th>\n",
              "      <th>Wilderness_Area3</th>\n",
              "      <th>Wilderness_Area4</th>\n",
              "      <th>Cover_Type</th>\n",
              "    </tr>\n",
              "  </thead>\n",
              "  <tbody>\n",
              "    <tr>\n",
              "      <th>0</th>\n",
              "      <td>2596</td>\n",
              "      <td>51</td>\n",
              "      <td>3</td>\n",
              "      <td>258</td>\n",
              "      <td>0</td>\n",
              "      <td>510</td>\n",
              "      <td>221</td>\n",
              "      <td>232</td>\n",
              "      <td>148</td>\n",
              "      <td>6279</td>\n",
              "      <td>...</td>\n",
              "      <td>0</td>\n",
              "      <td>0</td>\n",
              "      <td>0</td>\n",
              "      <td>0</td>\n",
              "      <td>0</td>\n",
              "      <td>0</td>\n",
              "      <td>0</td>\n",
              "      <td>0</td>\n",
              "      <td>0</td>\n",
              "      <td>5</td>\n",
              "    </tr>\n",
              "    <tr>\n",
              "      <th>1</th>\n",
              "      <td>2590</td>\n",
              "      <td>56</td>\n",
              "      <td>2</td>\n",
              "      <td>212</td>\n",
              "      <td>-6</td>\n",
              "      <td>390</td>\n",
              "      <td>220</td>\n",
              "      <td>235</td>\n",
              "      <td>151</td>\n",
              "      <td>6225</td>\n",
              "      <td>...</td>\n",
              "      <td>0</td>\n",
              "      <td>0</td>\n",
              "      <td>0</td>\n",
              "      <td>0</td>\n",
              "      <td>0</td>\n",
              "      <td>0</td>\n",
              "      <td>0</td>\n",
              "      <td>0</td>\n",
              "      <td>0</td>\n",
              "      <td>5</td>\n",
              "    </tr>\n",
              "    <tr>\n",
              "      <th>2</th>\n",
              "      <td>2804</td>\n",
              "      <td>139</td>\n",
              "      <td>9</td>\n",
              "      <td>268</td>\n",
              "      <td>65</td>\n",
              "      <td>3180</td>\n",
              "      <td>234</td>\n",
              "      <td>238</td>\n",
              "      <td>135</td>\n",
              "      <td>6121</td>\n",
              "      <td>...</td>\n",
              "      <td>0</td>\n",
              "      <td>0</td>\n",
              "      <td>0</td>\n",
              "      <td>0</td>\n",
              "      <td>0</td>\n",
              "      <td>0</td>\n",
              "      <td>0</td>\n",
              "      <td>0</td>\n",
              "      <td>0</td>\n",
              "      <td>2</td>\n",
              "    </tr>\n",
              "    <tr>\n",
              "      <th>3</th>\n",
              "      <td>2785</td>\n",
              "      <td>155</td>\n",
              "      <td>18</td>\n",
              "      <td>242</td>\n",
              "      <td>118</td>\n",
              "      <td>3090</td>\n",
              "      <td>238</td>\n",
              "      <td>238</td>\n",
              "      <td>122</td>\n",
              "      <td>6211</td>\n",
              "      <td>...</td>\n",
              "      <td>0</td>\n",
              "      <td>0</td>\n",
              "      <td>0</td>\n",
              "      <td>0</td>\n",
              "      <td>0</td>\n",
              "      <td>0</td>\n",
              "      <td>0</td>\n",
              "      <td>0</td>\n",
              "      <td>0</td>\n",
              "      <td>2</td>\n",
              "    </tr>\n",
              "    <tr>\n",
              "      <th>4</th>\n",
              "      <td>2595</td>\n",
              "      <td>45</td>\n",
              "      <td>2</td>\n",
              "      <td>153</td>\n",
              "      <td>-1</td>\n",
              "      <td>391</td>\n",
              "      <td>220</td>\n",
              "      <td>234</td>\n",
              "      <td>150</td>\n",
              "      <td>6172</td>\n",
              "      <td>...</td>\n",
              "      <td>0</td>\n",
              "      <td>0</td>\n",
              "      <td>0</td>\n",
              "      <td>0</td>\n",
              "      <td>0</td>\n",
              "      <td>0</td>\n",
              "      <td>0</td>\n",
              "      <td>0</td>\n",
              "      <td>0</td>\n",
              "      <td>5</td>\n",
              "    </tr>\n",
              "    <tr>\n",
              "      <th>5</th>\n",
              "      <td>2579</td>\n",
              "      <td>132</td>\n",
              "      <td>6</td>\n",
              "      <td>300</td>\n",
              "      <td>-15</td>\n",
              "      <td>67</td>\n",
              "      <td>230</td>\n",
              "      <td>237</td>\n",
              "      <td>140</td>\n",
              "      <td>6031</td>\n",
              "      <td>...</td>\n",
              "      <td>0</td>\n",
              "      <td>0</td>\n",
              "      <td>0</td>\n",
              "      <td>0</td>\n",
              "      <td>0</td>\n",
              "      <td>0</td>\n",
              "      <td>0</td>\n",
              "      <td>0</td>\n",
              "      <td>0</td>\n",
              "      <td>2</td>\n",
              "    </tr>\n",
              "    <tr>\n",
              "      <th>6</th>\n",
              "      <td>2606</td>\n",
              "      <td>45</td>\n",
              "      <td>7</td>\n",
              "      <td>270</td>\n",
              "      <td>5</td>\n",
              "      <td>633</td>\n",
              "      <td>222</td>\n",
              "      <td>225</td>\n",
              "      <td>138</td>\n",
              "      <td>6256</td>\n",
              "      <td>...</td>\n",
              "      <td>0</td>\n",
              "      <td>0</td>\n",
              "      <td>0</td>\n",
              "      <td>0</td>\n",
              "      <td>0</td>\n",
              "      <td>0</td>\n",
              "      <td>0</td>\n",
              "      <td>0</td>\n",
              "      <td>0</td>\n",
              "      <td>5</td>\n",
              "    </tr>\n",
              "    <tr>\n",
              "      <th>7</th>\n",
              "      <td>2605</td>\n",
              "      <td>49</td>\n",
              "      <td>4</td>\n",
              "      <td>234</td>\n",
              "      <td>7</td>\n",
              "      <td>573</td>\n",
              "      <td>222</td>\n",
              "      <td>230</td>\n",
              "      <td>144</td>\n",
              "      <td>6228</td>\n",
              "      <td>...</td>\n",
              "      <td>0</td>\n",
              "      <td>0</td>\n",
              "      <td>0</td>\n",
              "      <td>0</td>\n",
              "      <td>0</td>\n",
              "      <td>0</td>\n",
              "      <td>0</td>\n",
              "      <td>0</td>\n",
              "      <td>0</td>\n",
              "      <td>5</td>\n",
              "    </tr>\n",
              "    <tr>\n",
              "      <th>8</th>\n",
              "      <td>2617</td>\n",
              "      <td>45</td>\n",
              "      <td>9</td>\n",
              "      <td>240</td>\n",
              "      <td>56</td>\n",
              "      <td>666</td>\n",
              "      <td>223</td>\n",
              "      <td>221</td>\n",
              "      <td>133</td>\n",
              "      <td>6244</td>\n",
              "      <td>...</td>\n",
              "      <td>0</td>\n",
              "      <td>0</td>\n",
              "      <td>0</td>\n",
              "      <td>0</td>\n",
              "      <td>0</td>\n",
              "      <td>0</td>\n",
              "      <td>0</td>\n",
              "      <td>0</td>\n",
              "      <td>0</td>\n",
              "      <td>5</td>\n",
              "    </tr>\n",
              "    <tr>\n",
              "      <th>9</th>\n",
              "      <td>2612</td>\n",
              "      <td>59</td>\n",
              "      <td>10</td>\n",
              "      <td>247</td>\n",
              "      <td>11</td>\n",
              "      <td>636</td>\n",
              "      <td>228</td>\n",
              "      <td>219</td>\n",
              "      <td>124</td>\n",
              "      <td>6230</td>\n",
              "      <td>...</td>\n",
              "      <td>0</td>\n",
              "      <td>0</td>\n",
              "      <td>0</td>\n",
              "      <td>0</td>\n",
              "      <td>0</td>\n",
              "      <td>0</td>\n",
              "      <td>0</td>\n",
              "      <td>0</td>\n",
              "      <td>0</td>\n",
              "      <td>5</td>\n",
              "    </tr>\n",
              "  </tbody>\n",
              "</table>\n",
              "<p>10 rows × 55 columns</p>\n",
              "</div>\n",
              "    <div class=\"colab-df-buttons\">\n",
              "\n",
              "  <div class=\"colab-df-container\">\n",
              "    <button class=\"colab-df-convert\" onclick=\"convertToInteractive('df-5062e150-a90c-4105-80bf-f8add5190a3d')\"\n",
              "            title=\"Convert this dataframe to an interactive table.\"\n",
              "            style=\"display:none;\">\n",
              "\n",
              "  <svg xmlns=\"http://www.w3.org/2000/svg\" height=\"24px\" viewBox=\"0 -960 960 960\">\n",
              "    <path d=\"M120-120v-720h720v720H120Zm60-500h600v-160H180v160Zm220 220h160v-160H400v160Zm0 220h160v-160H400v160ZM180-400h160v-160H180v160Zm440 0h160v-160H620v160ZM180-180h160v-160H180v160Zm440 0h160v-160H620v160Z\"/>\n",
              "  </svg>\n",
              "    </button>\n",
              "\n",
              "  <style>\n",
              "    .colab-df-container {\n",
              "      display:flex;\n",
              "      gap: 12px;\n",
              "    }\n",
              "\n",
              "    .colab-df-convert {\n",
              "      background-color: #E8F0FE;\n",
              "      border: none;\n",
              "      border-radius: 50%;\n",
              "      cursor: pointer;\n",
              "      display: none;\n",
              "      fill: #1967D2;\n",
              "      height: 32px;\n",
              "      padding: 0 0 0 0;\n",
              "      width: 32px;\n",
              "    }\n",
              "\n",
              "    .colab-df-convert:hover {\n",
              "      background-color: #E2EBFA;\n",
              "      box-shadow: 0px 1px 2px rgba(60, 64, 67, 0.3), 0px 1px 3px 1px rgba(60, 64, 67, 0.15);\n",
              "      fill: #174EA6;\n",
              "    }\n",
              "\n",
              "    .colab-df-buttons div {\n",
              "      margin-bottom: 4px;\n",
              "    }\n",
              "\n",
              "    [theme=dark] .colab-df-convert {\n",
              "      background-color: #3B4455;\n",
              "      fill: #D2E3FC;\n",
              "    }\n",
              "\n",
              "    [theme=dark] .colab-df-convert:hover {\n",
              "      background-color: #434B5C;\n",
              "      box-shadow: 0px 1px 3px 1px rgba(0, 0, 0, 0.15);\n",
              "      filter: drop-shadow(0px 1px 2px rgba(0, 0, 0, 0.3));\n",
              "      fill: #FFFFFF;\n",
              "    }\n",
              "  </style>\n",
              "\n",
              "    <script>\n",
              "      const buttonEl =\n",
              "        document.querySelector('#df-5062e150-a90c-4105-80bf-f8add5190a3d button.colab-df-convert');\n",
              "      buttonEl.style.display =\n",
              "        google.colab.kernel.accessAllowed ? 'block' : 'none';\n",
              "\n",
              "      async function convertToInteractive(key) {\n",
              "        const element = document.querySelector('#df-5062e150-a90c-4105-80bf-f8add5190a3d');\n",
              "        const dataTable =\n",
              "          await google.colab.kernel.invokeFunction('convertToInteractive',\n",
              "                                                    [key], {});\n",
              "        if (!dataTable) return;\n",
              "\n",
              "        const docLinkHtml = 'Like what you see? Visit the ' +\n",
              "          '<a target=\"_blank\" href=https://colab.research.google.com/notebooks/data_table.ipynb>data table notebook</a>'\n",
              "          + ' to learn more about interactive tables.';\n",
              "        element.innerHTML = '';\n",
              "        dataTable['output_type'] = 'display_data';\n",
              "        await google.colab.output.renderOutput(dataTable, element);\n",
              "        const docLink = document.createElement('div');\n",
              "        docLink.innerHTML = docLinkHtml;\n",
              "        element.appendChild(docLink);\n",
              "      }\n",
              "    </script>\n",
              "  </div>\n",
              "\n",
              "\n",
              "<div id=\"df-10af0eee-face-4f28-af21-3de0390f323c\">\n",
              "  <button class=\"colab-df-quickchart\" onclick=\"quickchart('df-10af0eee-face-4f28-af21-3de0390f323c')\"\n",
              "            title=\"Suggest charts\"\n",
              "            style=\"display:none;\">\n",
              "\n",
              "<svg xmlns=\"http://www.w3.org/2000/svg\" height=\"24px\"viewBox=\"0 0 24 24\"\n",
              "     width=\"24px\">\n",
              "    <g>\n",
              "        <path d=\"M19 3H5c-1.1 0-2 .9-2 2v14c0 1.1.9 2 2 2h14c1.1 0 2-.9 2-2V5c0-1.1-.9-2-2-2zM9 17H7v-7h2v7zm4 0h-2V7h2v10zm4 0h-2v-4h2v4z\"/>\n",
              "    </g>\n",
              "</svg>\n",
              "  </button>\n",
              "\n",
              "<style>\n",
              "  .colab-df-quickchart {\n",
              "      --bg-color: #E8F0FE;\n",
              "      --fill-color: #1967D2;\n",
              "      --hover-bg-color: #E2EBFA;\n",
              "      --hover-fill-color: #174EA6;\n",
              "      --disabled-fill-color: #AAA;\n",
              "      --disabled-bg-color: #DDD;\n",
              "  }\n",
              "\n",
              "  [theme=dark] .colab-df-quickchart {\n",
              "      --bg-color: #3B4455;\n",
              "      --fill-color: #D2E3FC;\n",
              "      --hover-bg-color: #434B5C;\n",
              "      --hover-fill-color: #FFFFFF;\n",
              "      --disabled-bg-color: #3B4455;\n",
              "      --disabled-fill-color: #666;\n",
              "  }\n",
              "\n",
              "  .colab-df-quickchart {\n",
              "    background-color: var(--bg-color);\n",
              "    border: none;\n",
              "    border-radius: 50%;\n",
              "    cursor: pointer;\n",
              "    display: none;\n",
              "    fill: var(--fill-color);\n",
              "    height: 32px;\n",
              "    padding: 0;\n",
              "    width: 32px;\n",
              "  }\n",
              "\n",
              "  .colab-df-quickchart:hover {\n",
              "    background-color: var(--hover-bg-color);\n",
              "    box-shadow: 0 1px 2px rgba(60, 64, 67, 0.3), 0 1px 3px 1px rgba(60, 64, 67, 0.15);\n",
              "    fill: var(--button-hover-fill-color);\n",
              "  }\n",
              "\n",
              "  .colab-df-quickchart-complete:disabled,\n",
              "  .colab-df-quickchart-complete:disabled:hover {\n",
              "    background-color: var(--disabled-bg-color);\n",
              "    fill: var(--disabled-fill-color);\n",
              "    box-shadow: none;\n",
              "  }\n",
              "\n",
              "  .colab-df-spinner {\n",
              "    border: 2px solid var(--fill-color);\n",
              "    border-color: transparent;\n",
              "    border-bottom-color: var(--fill-color);\n",
              "    animation:\n",
              "      spin 1s steps(1) infinite;\n",
              "  }\n",
              "\n",
              "  @keyframes spin {\n",
              "    0% {\n",
              "      border-color: transparent;\n",
              "      border-bottom-color: var(--fill-color);\n",
              "      border-left-color: var(--fill-color);\n",
              "    }\n",
              "    20% {\n",
              "      border-color: transparent;\n",
              "      border-left-color: var(--fill-color);\n",
              "      border-top-color: var(--fill-color);\n",
              "    }\n",
              "    30% {\n",
              "      border-color: transparent;\n",
              "      border-left-color: var(--fill-color);\n",
              "      border-top-color: var(--fill-color);\n",
              "      border-right-color: var(--fill-color);\n",
              "    }\n",
              "    40% {\n",
              "      border-color: transparent;\n",
              "      border-right-color: var(--fill-color);\n",
              "      border-top-color: var(--fill-color);\n",
              "    }\n",
              "    60% {\n",
              "      border-color: transparent;\n",
              "      border-right-color: var(--fill-color);\n",
              "    }\n",
              "    80% {\n",
              "      border-color: transparent;\n",
              "      border-right-color: var(--fill-color);\n",
              "      border-bottom-color: var(--fill-color);\n",
              "    }\n",
              "    90% {\n",
              "      border-color: transparent;\n",
              "      border-bottom-color: var(--fill-color);\n",
              "    }\n",
              "  }\n",
              "</style>\n",
              "\n",
              "  <script>\n",
              "    async function quickchart(key) {\n",
              "      const quickchartButtonEl =\n",
              "        document.querySelector('#' + key + ' button');\n",
              "      quickchartButtonEl.disabled = true;  // To prevent multiple clicks.\n",
              "      quickchartButtonEl.classList.add('colab-df-spinner');\n",
              "      try {\n",
              "        const charts = await google.colab.kernel.invokeFunction(\n",
              "            'suggestCharts', [key], {});\n",
              "      } catch (error) {\n",
              "        console.error('Error during call to suggestCharts:', error);\n",
              "      }\n",
              "      quickchartButtonEl.classList.remove('colab-df-spinner');\n",
              "      quickchartButtonEl.classList.add('colab-df-quickchart-complete');\n",
              "    }\n",
              "    (() => {\n",
              "      let quickchartButtonEl =\n",
              "        document.querySelector('#df-10af0eee-face-4f28-af21-3de0390f323c button');\n",
              "      quickchartButtonEl.style.display =\n",
              "        google.colab.kernel.accessAllowed ? 'block' : 'none';\n",
              "    })();\n",
              "  </script>\n",
              "</div>\n",
              "\n",
              "    </div>\n",
              "  </div>\n"
            ],
            "application/vnd.google.colaboratory.intrinsic+json": {
              "type": "dataframe",
              "variable_name": "df"
            }
          },
          "metadata": {},
          "execution_count": 3
        }
      ]
    },
    {
      "cell_type": "code",
      "source": [
        "df.info()"
      ],
      "metadata": {
        "id": "d9uq1F7EvbEq",
        "colab": {
          "base_uri": "https://localhost:8080/"
        },
        "outputId": "3fca6df0-9330-4cac-c75f-0473da6a1145"
      },
      "execution_count": null,
      "outputs": [
        {
          "output_type": "stream",
          "name": "stdout",
          "text": [
            "<class 'pandas.core.frame.DataFrame'>\n",
            "RangeIndex: 581012 entries, 0 to 581011\n",
            "Data columns (total 55 columns):\n",
            " #   Column                              Non-Null Count   Dtype\n",
            "---  ------                              --------------   -----\n",
            " 0   Elevation                           581012 non-null  int64\n",
            " 1   Aspect                              581012 non-null  int64\n",
            " 2   Slope                               581012 non-null  int64\n",
            " 3   Horizontal_Distance_To_Hydrology    581012 non-null  int64\n",
            " 4   Vertical_Distance_To_Hydrology      581012 non-null  int64\n",
            " 5   Horizontal_Distance_To_Roadways     581012 non-null  int64\n",
            " 6   Hillshade_9am                       581012 non-null  int64\n",
            " 7   Hillshade_Noon                      581012 non-null  int64\n",
            " 8   Hillshade_3pm                       581012 non-null  int64\n",
            " 9   Horizontal_Distance_To_Fire_Points  581012 non-null  int64\n",
            " 10  Wilderness_Area1                    581012 non-null  int64\n",
            " 11  Soil_Type1                          581012 non-null  int64\n",
            " 12  Soil_Type2                          581012 non-null  int64\n",
            " 13  Soil_Type3                          581012 non-null  int64\n",
            " 14  Soil_Type4                          581012 non-null  int64\n",
            " 15  Soil_Type5                          581012 non-null  int64\n",
            " 16  Soil_Type6                          581012 non-null  int64\n",
            " 17  Soil_Type7                          581012 non-null  int64\n",
            " 18  Soil_Type8                          581012 non-null  int64\n",
            " 19  Soil_Type9                          581012 non-null  int64\n",
            " 20  Soil_Type10                         581012 non-null  int64\n",
            " 21  Soil_Type11                         581012 non-null  int64\n",
            " 22  Soil_Type12                         581012 non-null  int64\n",
            " 23  Soil_Type13                         581012 non-null  int64\n",
            " 24  Soil_Type14                         581012 non-null  int64\n",
            " 25  Soil_Type15                         581012 non-null  int64\n",
            " 26  Soil_Type16                         581012 non-null  int64\n",
            " 27  Soil_Type17                         581012 non-null  int64\n",
            " 28  Soil_Type18                         581012 non-null  int64\n",
            " 29  Soil_Type19                         581012 non-null  int64\n",
            " 30  Soil_Type20                         581012 non-null  int64\n",
            " 31  Soil_Type21                         581012 non-null  int64\n",
            " 32  Soil_Type22                         581012 non-null  int64\n",
            " 33  Soil_Type23                         581012 non-null  int64\n",
            " 34  Soil_Type24                         581012 non-null  int64\n",
            " 35  Soil_Type25                         581012 non-null  int64\n",
            " 36  Soil_Type26                         581012 non-null  int64\n",
            " 37  Soil_Type27                         581012 non-null  int64\n",
            " 38  Soil_Type28                         581012 non-null  int64\n",
            " 39  Soil_Type29                         581012 non-null  int64\n",
            " 40  Soil_Type30                         581012 non-null  int64\n",
            " 41  Soil_Type31                         581012 non-null  int64\n",
            " 42  Soil_Type32                         581012 non-null  int64\n",
            " 43  Soil_Type33                         581012 non-null  int64\n",
            " 44  Soil_Type34                         581012 non-null  int64\n",
            " 45  Soil_Type35                         581012 non-null  int64\n",
            " 46  Soil_Type36                         581012 non-null  int64\n",
            " 47  Soil_Type37                         581012 non-null  int64\n",
            " 48  Soil_Type38                         581012 non-null  int64\n",
            " 49  Soil_Type39                         581012 non-null  int64\n",
            " 50  Soil_Type40                         581012 non-null  int64\n",
            " 51  Wilderness_Area2                    581012 non-null  int64\n",
            " 52  Wilderness_Area3                    581012 non-null  int64\n",
            " 53  Wilderness_Area4                    581012 non-null  int64\n",
            " 54  Cover_Type                          581012 non-null  int64\n",
            "dtypes: int64(55)\n",
            "memory usage: 243.8 MB\n"
          ]
        }
      ]
    },
    {
      "cell_type": "code",
      "source": [
        "df = df.dropna()\n",
        "X = df.drop('Cover_Type', axis=1)\n",
        "y = df['Cover_Type']"
      ],
      "metadata": {
        "id": "askGyorDYRZc"
      },
      "execution_count": null,
      "outputs": []
    },
    {
      "cell_type": "markdown",
      "source": [
        "# Data preparation"
      ],
      "metadata": {
        "id": "dk9j1JQlYSbj"
      }
    },
    {
      "cell_type": "code",
      "source": [
        "print(df['Cover_Type'].value_counts())"
      ],
      "metadata": {
        "colab": {
          "base_uri": "https://localhost:8080/"
        },
        "id": "fMduvrE0j4rt",
        "outputId": "b5cc74fc-a88f-43da-b62f-3e28f46f3779"
      },
      "execution_count": null,
      "outputs": [
        {
          "output_type": "stream",
          "name": "stdout",
          "text": [
            "Cover_Type\n",
            "2    283301\n",
            "1    211840\n",
            "3     35754\n",
            "7     20510\n",
            "6     17367\n",
            "5      9493\n",
            "4      2747\n",
            "Name: count, dtype: int64\n"
          ]
        }
      ]
    },
    {
      "cell_type": "markdown",
      "source": [
        "data oversampling"
      ],
      "metadata": {
        "id": "hHj_OTmOjY2M"
      }
    },
    {
      "cell_type": "code",
      "source": [
        "#gunakan oversampling dan undersamling untuk membagi data karena sebarannya tidak merata\n",
        "undersample = RandomUnderSampler(sampling_strategy={1: 30000, 2: 30000, 3: 30000})\n",
        "X_under, y_under = undersample.fit_resample(X, y)\n",
        "\n",
        "oversample = SMOTE(sampling_strategy={4: 30000, 5: 30000, 6: 30000, 7: 30000})\n",
        "X_res, y_res = oversample.fit_resample(X_under, y_under)"
      ],
      "metadata": {
        "id": "7hkQioncj6rP"
      },
      "execution_count": null,
      "outputs": []
    },
    {
      "cell_type": "code",
      "source": [
        "X_train, X_test, y_train, y_test = train_test_split(X_res, y_res, test_size=0.2, random_state=42)"
      ],
      "metadata": {
        "id": "iROXsKKaH82_"
      },
      "execution_count": null,
      "outputs": []
    },
    {
      "cell_type": "code",
      "source": [
        "scaler = StandardScaler()\n",
        "X_train = scaler.fit_transform(X_train)\n",
        "X_test = scaler.transform(X_test)"
      ],
      "metadata": {
        "id": "-tDtqiMeIYNx"
      },
      "execution_count": null,
      "outputs": []
    },
    {
      "cell_type": "markdown",
      "source": [
        "# Pytorch"
      ],
      "metadata": {
        "id": "yiCKSqK9IZXy"
      }
    },
    {
      "cell_type": "code",
      "source": [
        "X_train_tensor = torch.tensor(X_train, dtype=torch.float32)\n",
        "y_train_tensor = torch.tensor(y_train.values -1, dtype=torch.long).squeeze()\n",
        "X_test_tensor = torch.tensor(X_test, dtype=torch.float32)\n",
        "y_test_tensor = torch.tensor(y_test.values -1, dtype=torch.long).squeeze()"
      ],
      "metadata": {
        "id": "BmfImcfcIeNJ"
      },
      "execution_count": null,
      "outputs": []
    },
    {
      "cell_type": "code",
      "source": [
        "train_data = TensorDataset(X_train_tensor, y_train_tensor)\n",
        "train_loader = DataLoader(train_data, batch_size=512, shuffle=True)"
      ],
      "metadata": {
        "id": "R7zllbxKIgSg"
      },
      "execution_count": null,
      "outputs": []
    },
    {
      "cell_type": "markdown",
      "source": [
        "## Modeling Neural Network"
      ],
      "metadata": {
        "id": "NDV6dYOfYZOw"
      }
    },
    {
      "cell_type": "code",
      "source": [
        "class Net(nn.Module):\n",
        "    def __init__(self,input_size, n_classes):\n",
        "        super(Net, self).__init__()\n",
        "        self.fc1 = nn.Linear(input_size, 128)\n",
        "        self.fc2 = nn.Linear(128, 64)\n",
        "        self.fc3 = nn.Linear(64, 32)\n",
        "        self.fc4 = nn.Linear(32, n_classes)\n",
        "        self.dropout = nn.Dropout(0.2)\n",
        "        self.softmax = nn.Softmax(dim=1)\n",
        "\n",
        "    def forward(self, x):\n",
        "        x = torch.relu(self.fc1(x))\n",
        "        x = self.dropout(x)\n",
        "        x = torch.relu(self.fc2(x))\n",
        "        x = self.dropout(x)\n",
        "        x = torch.relu(self.fc3(x))\n",
        "        x = self.dropout(x)\n",
        "        x = self.fc4(x)\n",
        "        return self.softmax(x)\n",
        "\n",
        "input_size = X_train.shape[1]"
      ],
      "metadata": {
        "id": "VTOMpYd-IknL"
      },
      "execution_count": null,
      "outputs": []
    },
    {
      "cell_type": "code",
      "source": [
        "n_classes = len(df['Cover_Type'].unique())\n",
        "model_pytorch = Net(input_size, n_classes)\n",
        "criterion = nn.CrossEntropyLoss()\n",
        "optimizer = optim.Adam(model_pytorch.parameters(), lr=0.001)\n",
        "scheduler = optim.lr_scheduler.ReduceLROnPlateau(optimizer, 'min', patience=5, factor=0.5)"
      ],
      "metadata": {
        "id": "ho7Et48YIwo5"
      },
      "execution_count": null,
      "outputs": []
    },
    {
      "cell_type": "markdown",
      "source": [
        "## Training Model"
      ],
      "metadata": {
        "id": "cWCUQdnVYo1h"
      }
    },
    {
      "cell_type": "code",
      "source": [
        "epochs = 500 #menggunakan epoch yang banyak agar data yang dihasilkan optimal\n",
        "for epoch in range(epochs):\n",
        "    model_pytorch.train()\n",
        "    optimizer.zero_grad()\n",
        "    outputs = model_pytorch(X_train_tensor)\n",
        "    loss = criterion(outputs, y_train_tensor)\n",
        "    loss.backward()\n",
        "    optimizer.step()\n",
        "\n",
        "    model_pytorch.eval()\n",
        "    with torch.no_grad():\n",
        "      val_out = model_pytorch(X_test_tensor)\n",
        "      val_loss = criterion(val_out, y_test_tensor)\n",
        "\n",
        "    print(f'Epoch {epoch+1}, Loss: {loss.item()}, Val Loss: {val_loss.item()}')"
      ],
      "metadata": {
        "colab": {
          "base_uri": "https://localhost:8080/"
        },
        "id": "z8w6AJ1bI0iV",
        "outputId": "1857368f-285b-4f96-e907-bb9baa6f7a04"
      },
      "execution_count": null,
      "outputs": [
        {
          "output_type": "stream",
          "name": "stdout",
          "text": [
            "Epoch 1, Loss: 1.945940613746643, Val Loss: 1.9448398351669312\n",
            "Epoch 2, Loss: 1.945073127746582, Val Loss: 1.943880558013916\n",
            "Epoch 3, Loss: 1.9442226886749268, Val Loss: 1.9428929090499878\n",
            "Epoch 4, Loss: 1.9433242082595825, Val Loss: 1.9418469667434692\n",
            "Epoch 5, Loss: 1.942375898361206, Val Loss: 1.940724492073059\n",
            "Epoch 6, Loss: 1.9413329362869263, Val Loss: 1.9395049810409546\n",
            "Epoch 7, Loss: 1.940199613571167, Val Loss: 1.938164472579956\n",
            "Epoch 8, Loss: 1.938956618309021, Val Loss: 1.9366751909255981\n",
            "Epoch 9, Loss: 1.9375892877578735, Val Loss: 1.9350059032440186\n",
            "Epoch 10, Loss: 1.935957431793213, Val Loss: 1.933124303817749\n",
            "Epoch 11, Loss: 1.934227705001831, Val Loss: 1.9310035705566406\n",
            "Epoch 12, Loss: 1.9322693347930908, Val Loss: 1.9286086559295654\n",
            "Epoch 13, Loss: 1.9299825429916382, Val Loss: 1.9258995056152344\n",
            "Epoch 14, Loss: 1.9275306463241577, Val Loss: 1.9228407144546509\n",
            "Epoch 15, Loss: 1.924713134765625, Val Loss: 1.9193953275680542\n",
            "Epoch 16, Loss: 1.9214122295379639, Val Loss: 1.915511131286621\n",
            "Epoch 17, Loss: 1.9177509546279907, Val Loss: 1.9111331701278687\n",
            "Epoch 18, Loss: 1.9137276411056519, Val Loss: 1.9062198400497437\n",
            "Epoch 19, Loss: 1.9091448783874512, Val Loss: 1.9007152318954468\n",
            "Epoch 20, Loss: 1.9040818214416504, Val Loss: 1.8945872783660889\n",
            "Epoch 21, Loss: 1.8983256816864014, Val Loss: 1.887827754020691\n",
            "Epoch 22, Loss: 1.8921184539794922, Val Loss: 1.880435824394226\n",
            "Epoch 23, Loss: 1.8853836059570312, Val Loss: 1.8724274635314941\n",
            "Epoch 24, Loss: 1.8779741525650024, Val Loss: 1.863869547843933\n",
            "Epoch 25, Loss: 1.87022864818573, Val Loss: 1.8548901081085205\n",
            "Epoch 26, Loss: 1.8617522716522217, Val Loss: 1.8456666469573975\n",
            "Epoch 27, Loss: 1.8536059856414795, Val Loss: 1.83636474609375\n",
            "Epoch 28, Loss: 1.8450531959533691, Val Loss: 1.8271435499191284\n",
            "Epoch 29, Loss: 1.8364872932434082, Val Loss: 1.8180862665176392\n",
            "Epoch 30, Loss: 1.8283377885818481, Val Loss: 1.8091819286346436\n",
            "Epoch 31, Loss: 1.8201186656951904, Val Loss: 1.8003714084625244\n",
            "Epoch 32, Loss: 1.8114525079727173, Val Loss: 1.7915552854537964\n",
            "Epoch 33, Loss: 1.803460717201233, Val Loss: 1.7826288938522339\n",
            "Epoch 34, Loss: 1.795300006866455, Val Loss: 1.773476243019104\n",
            "Epoch 35, Loss: 1.7867591381072998, Val Loss: 1.764058232307434\n",
            "Epoch 36, Loss: 1.7785991430282593, Val Loss: 1.7543693780899048\n",
            "Epoch 37, Loss: 1.769574761390686, Val Loss: 1.744424819946289\n",
            "Epoch 38, Loss: 1.7609649896621704, Val Loss: 1.7342385053634644\n",
            "Epoch 39, Loss: 1.7519036531448364, Val Loss: 1.7238636016845703\n",
            "Epoch 40, Loss: 1.7429442405700684, Val Loss: 1.7134180068969727\n",
            "Epoch 41, Loss: 1.7343474626541138, Val Loss: 1.7030606269836426\n",
            "Epoch 42, Loss: 1.725324273109436, Val Loss: 1.6929279565811157\n",
            "Epoch 43, Loss: 1.7167829275131226, Val Loss: 1.6830971240997314\n",
            "Epoch 44, Loss: 1.7074406147003174, Val Loss: 1.6735941171646118\n",
            "Epoch 45, Loss: 1.6995824575424194, Val Loss: 1.6644392013549805\n",
            "Epoch 46, Loss: 1.690600872039795, Val Loss: 1.655670166015625\n",
            "Epoch 47, Loss: 1.682462453842163, Val Loss: 1.6472922563552856\n",
            "Epoch 48, Loss: 1.674810767173767, Val Loss: 1.6393038034439087\n",
            "Epoch 49, Loss: 1.6673582792282104, Val Loss: 1.631709098815918\n",
            "Epoch 50, Loss: 1.6602799892425537, Val Loss: 1.624511957168579\n",
            "Epoch 51, Loss: 1.6527785062789917, Val Loss: 1.617695689201355\n",
            "Epoch 52, Loss: 1.646121859550476, Val Loss: 1.6112945079803467\n",
            "Epoch 53, Loss: 1.6396350860595703, Val Loss: 1.6053485870361328\n",
            "Epoch 54, Loss: 1.6338574886322021, Val Loss: 1.5999107360839844\n",
            "Epoch 55, Loss: 1.6281368732452393, Val Loss: 1.5950093269348145\n",
            "Epoch 56, Loss: 1.6240007877349854, Val Loss: 1.5906296968460083\n",
            "Epoch 57, Loss: 1.6188539266586304, Val Loss: 1.5867176055908203\n",
            "Epoch 58, Loss: 1.614134430885315, Val Loss: 1.5831959247589111\n",
            "Epoch 59, Loss: 1.6099380254745483, Val Loss: 1.5800021886825562\n",
            "Epoch 60, Loss: 1.607459306716919, Val Loss: 1.5770574808120728\n",
            "Epoch 61, Loss: 1.6032209396362305, Val Loss: 1.5742934942245483\n",
            "Epoch 62, Loss: 1.6000086069107056, Val Loss: 1.571638584136963\n",
            "Epoch 63, Loss: 1.5965113639831543, Val Loss: 1.5690451860427856\n",
            "Epoch 64, Loss: 1.5930429697036743, Val Loss: 1.5664687156677246\n",
            "Epoch 65, Loss: 1.5903031826019287, Val Loss: 1.5638927221298218\n",
            "Epoch 66, Loss: 1.5880107879638672, Val Loss: 1.5613389015197754\n",
            "Epoch 67, Loss: 1.5856974124908447, Val Loss: 1.5588749647140503\n",
            "Epoch 68, Loss: 1.5825308561325073, Val Loss: 1.5566011667251587\n",
            "Epoch 69, Loss: 1.5807493925094604, Val Loss: 1.5545260906219482\n",
            "Epoch 70, Loss: 1.5784244537353516, Val Loss: 1.5526221990585327\n",
            "Epoch 71, Loss: 1.5780009031295776, Val Loss: 1.5508670806884766\n",
            "Epoch 72, Loss: 1.5742695331573486, Val Loss: 1.5492264032363892\n",
            "Epoch 73, Loss: 1.572967290878296, Val Loss: 1.5476611852645874\n",
            "Epoch 74, Loss: 1.5722284317016602, Val Loss: 1.5461704730987549\n",
            "Epoch 75, Loss: 1.5704903602600098, Val Loss: 1.5447518825531006\n",
            "Epoch 76, Loss: 1.5679458379745483, Val Loss: 1.5433794260025024\n",
            "Epoch 77, Loss: 1.566541314125061, Val Loss: 1.5420589447021484\n",
            "Epoch 78, Loss: 1.5652395486831665, Val Loss: 1.5407789945602417\n",
            "Epoch 79, Loss: 1.5629998445510864, Val Loss: 1.5395289659500122\n",
            "Epoch 80, Loss: 1.5626436471939087, Val Loss: 1.5382976531982422\n",
            "Epoch 81, Loss: 1.5599459409713745, Val Loss: 1.537083387374878\n",
            "Epoch 82, Loss: 1.5583827495574951, Val Loss: 1.5358693599700928\n",
            "Epoch 83, Loss: 1.5580981969833374, Val Loss: 1.534674882888794\n",
            "Epoch 84, Loss: 1.5559046268463135, Val Loss: 1.5335239171981812\n",
            "Epoch 85, Loss: 1.5550329685211182, Val Loss: 1.5324325561523438\n",
            "Epoch 86, Loss: 1.5536648035049438, Val Loss: 1.5313661098480225\n",
            "Epoch 87, Loss: 1.5529732704162598, Val Loss: 1.5303139686584473\n",
            "Epoch 88, Loss: 1.551383137702942, Val Loss: 1.5292915105819702\n",
            "Epoch 89, Loss: 1.550135612487793, Val Loss: 1.5282654762268066\n",
            "Epoch 90, Loss: 1.5490750074386597, Val Loss: 1.5272343158721924\n",
            "Epoch 91, Loss: 1.548196792602539, Val Loss: 1.5262017250061035\n",
            "Epoch 92, Loss: 1.5467736721038818, Val Loss: 1.5251784324645996\n",
            "Epoch 93, Loss: 1.5452359914779663, Val Loss: 1.5241268873214722\n",
            "Epoch 94, Loss: 1.544495701789856, Val Loss: 1.5230305194854736\n",
            "Epoch 95, Loss: 1.5431427955627441, Val Loss: 1.5219005346298218\n",
            "Epoch 96, Loss: 1.5424774885177612, Val Loss: 1.5207489728927612\n",
            "Epoch 97, Loss: 1.5415599346160889, Val Loss: 1.5195808410644531\n",
            "Epoch 98, Loss: 1.5405038595199585, Val Loss: 1.5183659791946411\n",
            "Epoch 99, Loss: 1.5389479398727417, Val Loss: 1.5171077251434326\n",
            "Epoch 100, Loss: 1.5380357503890991, Val Loss: 1.515862226486206\n",
            "Epoch 101, Loss: 1.5370664596557617, Val Loss: 1.5146160125732422\n",
            "Epoch 102, Loss: 1.5371626615524292, Val Loss: 1.5133496522903442\n",
            "Epoch 103, Loss: 1.5360361337661743, Val Loss: 1.5120404958724976\n",
            "Epoch 104, Loss: 1.534615397453308, Val Loss: 1.5107378959655762\n",
            "Epoch 105, Loss: 1.532823920249939, Val Loss: 1.5094722509384155\n",
            "Epoch 106, Loss: 1.532527208328247, Val Loss: 1.5082544088363647\n",
            "Epoch 107, Loss: 1.5305290222167969, Val Loss: 1.5070651769638062\n",
            "Epoch 108, Loss: 1.5309929847717285, Val Loss: 1.5059082508087158\n",
            "Epoch 109, Loss: 1.529337763786316, Val Loss: 1.5047606229782104\n",
            "Epoch 110, Loss: 1.528183102607727, Val Loss: 1.5036160945892334\n",
            "Epoch 111, Loss: 1.5283222198486328, Val Loss: 1.5025025606155396\n",
            "Epoch 112, Loss: 1.526619553565979, Val Loss: 1.5013864040374756\n",
            "Epoch 113, Loss: 1.5264062881469727, Val Loss: 1.500288724899292\n",
            "Epoch 114, Loss: 1.5252389907836914, Val Loss: 1.499208688735962\n",
            "Epoch 115, Loss: 1.5235499143600464, Val Loss: 1.4981422424316406\n",
            "Epoch 116, Loss: 1.522970199584961, Val Loss: 1.497115969657898\n",
            "Epoch 117, Loss: 1.5221772193908691, Val Loss: 1.4961447715759277\n",
            "Epoch 118, Loss: 1.5217187404632568, Val Loss: 1.4952157735824585\n",
            "Epoch 119, Loss: 1.5205782651901245, Val Loss: 1.49433434009552\n",
            "Epoch 120, Loss: 1.5197473764419556, Val Loss: 1.4935238361358643\n",
            "Epoch 121, Loss: 1.519708514213562, Val Loss: 1.4927396774291992\n",
            "Epoch 122, Loss: 1.5181283950805664, Val Loss: 1.4919602870941162\n",
            "Epoch 123, Loss: 1.5175645351409912, Val Loss: 1.49118971824646\n",
            "Epoch 124, Loss: 1.5160268545150757, Val Loss: 1.4904097318649292\n",
            "Epoch 125, Loss: 1.5159311294555664, Val Loss: 1.4896477460861206\n",
            "Epoch 126, Loss: 1.515392780303955, Val Loss: 1.488938570022583\n",
            "Epoch 127, Loss: 1.5140208005905151, Val Loss: 1.4882705211639404\n",
            "Epoch 128, Loss: 1.5136765241622925, Val Loss: 1.487650990486145\n",
            "Epoch 129, Loss: 1.5135003328323364, Val Loss: 1.4870649576187134\n",
            "Epoch 130, Loss: 1.5119717121124268, Val Loss: 1.4864758253097534\n",
            "Epoch 131, Loss: 1.5118720531463623, Val Loss: 1.4858794212341309\n",
            "Epoch 132, Loss: 1.5106816291809082, Val Loss: 1.4852718114852905\n",
            "Epoch 133, Loss: 1.5099915266036987, Val Loss: 1.4846653938293457\n",
            "Epoch 134, Loss: 1.510246992111206, Val Loss: 1.484075665473938\n",
            "Epoch 135, Loss: 1.508975863456726, Val Loss: 1.483474850654602\n",
            "Epoch 136, Loss: 1.5081950426101685, Val Loss: 1.4828426837921143\n",
            "Epoch 137, Loss: 1.5073251724243164, Val Loss: 1.4822168350219727\n",
            "Epoch 138, Loss: 1.507277488708496, Val Loss: 1.4816111326217651\n",
            "Epoch 139, Loss: 1.5060290098190308, Val Loss: 1.4810272455215454\n",
            "Epoch 140, Loss: 1.5062042474746704, Val Loss: 1.4804742336273193\n",
            "Epoch 141, Loss: 1.505319356918335, Val Loss: 1.479936957359314\n",
            "Epoch 142, Loss: 1.5050302743911743, Val Loss: 1.4794014692306519\n",
            "Epoch 143, Loss: 1.5049597024917603, Val Loss: 1.4789034128189087\n",
            "Epoch 144, Loss: 1.503736972808838, Val Loss: 1.478447675704956\n",
            "Epoch 145, Loss: 1.5025092363357544, Val Loss: 1.4779820442199707\n",
            "Epoch 146, Loss: 1.5023372173309326, Val Loss: 1.4775168895721436\n",
            "Epoch 147, Loss: 1.5016460418701172, Val Loss: 1.4770296812057495\n",
            "Epoch 148, Loss: 1.501438021659851, Val Loss: 1.476527452468872\n",
            "Epoch 149, Loss: 1.5008677244186401, Val Loss: 1.4759882688522339\n",
            "Epoch 150, Loss: 1.4993555545806885, Val Loss: 1.4754379987716675\n",
            "Epoch 151, Loss: 1.4996341466903687, Val Loss: 1.4748653173446655\n",
            "Epoch 152, Loss: 1.5001142024993896, Val Loss: 1.4743059873580933\n",
            "Epoch 153, Loss: 1.498608112335205, Val Loss: 1.4737781286239624\n",
            "Epoch 154, Loss: 1.498267412185669, Val Loss: 1.4732848405838013\n",
            "Epoch 155, Loss: 1.4973580837249756, Val Loss: 1.472823143005371\n",
            "Epoch 156, Loss: 1.4971940517425537, Val Loss: 1.4723700284957886\n",
            "Epoch 157, Loss: 1.4966310262680054, Val Loss: 1.4718937873840332\n",
            "Epoch 158, Loss: 1.4968677759170532, Val Loss: 1.471435308456421\n",
            "Epoch 159, Loss: 1.495917558670044, Val Loss: 1.4709856510162354\n",
            "Epoch 160, Loss: 1.4947915077209473, Val Loss: 1.470515251159668\n",
            "Epoch 161, Loss: 1.494789481163025, Val Loss: 1.4700758457183838\n",
            "Epoch 162, Loss: 1.4938700199127197, Val Loss: 1.4696381092071533\n",
            "Epoch 163, Loss: 1.4935389757156372, Val Loss: 1.4692074060440063\n",
            "Epoch 164, Loss: 1.4929075241088867, Val Loss: 1.4687530994415283\n",
            "Epoch 165, Loss: 1.491957664489746, Val Loss: 1.468274712562561\n",
            "Epoch 166, Loss: 1.4924367666244507, Val Loss: 1.4678099155426025\n",
            "Epoch 167, Loss: 1.4905891418457031, Val Loss: 1.4673596620559692\n",
            "Epoch 168, Loss: 1.4907469749450684, Val Loss: 1.4669071435928345\n",
            "Epoch 169, Loss: 1.4903907775878906, Val Loss: 1.4664661884307861\n",
            "Epoch 170, Loss: 1.4912813901901245, Val Loss: 1.4660232067108154\n",
            "Epoch 171, Loss: 1.4899386167526245, Val Loss: 1.4656051397323608\n",
            "Epoch 172, Loss: 1.4891650676727295, Val Loss: 1.465201497077942\n",
            "Epoch 173, Loss: 1.488710641860962, Val Loss: 1.4648393392562866\n",
            "Epoch 174, Loss: 1.4884113073349, Val Loss: 1.4645001888275146\n",
            "Epoch 175, Loss: 1.4879734516143799, Val Loss: 1.464160442352295\n",
            "Epoch 176, Loss: 1.4875737428665161, Val Loss: 1.4637974500656128\n",
            "Epoch 177, Loss: 1.4865370988845825, Val Loss: 1.4634145498275757\n",
            "Epoch 178, Loss: 1.4865481853485107, Val Loss: 1.4630059003829956\n",
            "Epoch 179, Loss: 1.4864318370819092, Val Loss: 1.462576985359192\n",
            "Epoch 180, Loss: 1.4859155416488647, Val Loss: 1.4621610641479492\n",
            "Epoch 181, Loss: 1.4847869873046875, Val Loss: 1.4617594480514526\n",
            "Epoch 182, Loss: 1.485127568244934, Val Loss: 1.4613548517227173\n",
            "Epoch 183, Loss: 1.4839274883270264, Val Loss: 1.4609360694885254\n",
            "Epoch 184, Loss: 1.4837594032287598, Val Loss: 1.4605048894882202\n",
            "Epoch 185, Loss: 1.4829927682876587, Val Loss: 1.4600770473480225\n",
            "Epoch 186, Loss: 1.4831708669662476, Val Loss: 1.4596531391143799\n",
            "Epoch 187, Loss: 1.482513666152954, Val Loss: 1.459265947341919\n",
            "Epoch 188, Loss: 1.481787919998169, Val Loss: 1.4588783979415894\n",
            "Epoch 189, Loss: 1.4820435047149658, Val Loss: 1.458500623703003\n",
            "Epoch 190, Loss: 1.4814623594284058, Val Loss: 1.4580888748168945\n",
            "Epoch 191, Loss: 1.480665683746338, Val Loss: 1.4576748609542847\n",
            "Epoch 192, Loss: 1.4805859327316284, Val Loss: 1.4572341442108154\n",
            "Epoch 193, Loss: 1.480434536933899, Val Loss: 1.4567575454711914\n",
            "Epoch 194, Loss: 1.4797059297561646, Val Loss: 1.4562649726867676\n",
            "Epoch 195, Loss: 1.479880928993225, Val Loss: 1.4557596445083618\n",
            "Epoch 196, Loss: 1.4790953397750854, Val Loss: 1.455263614654541\n",
            "Epoch 197, Loss: 1.4779905080795288, Val Loss: 1.454781413078308\n",
            "Epoch 198, Loss: 1.4781341552734375, Val Loss: 1.454309105873108\n",
            "Epoch 199, Loss: 1.477211356163025, Val Loss: 1.4538509845733643\n",
            "Epoch 200, Loss: 1.4769096374511719, Val Loss: 1.4533956050872803\n",
            "Epoch 201, Loss: 1.4761160612106323, Val Loss: 1.4529216289520264\n",
            "Epoch 202, Loss: 1.4761290550231934, Val Loss: 1.452429175376892\n",
            "Epoch 203, Loss: 1.4760329723358154, Val Loss: 1.4519256353378296\n",
            "Epoch 204, Loss: 1.475422978401184, Val Loss: 1.4514052867889404\n",
            "Epoch 205, Loss: 1.4750527143478394, Val Loss: 1.4508728981018066\n",
            "Epoch 206, Loss: 1.4747658967971802, Val Loss: 1.450363278388977\n",
            "Epoch 207, Loss: 1.4743751287460327, Val Loss: 1.4498679637908936\n",
            "Epoch 208, Loss: 1.4742423295974731, Val Loss: 1.4493695497512817\n",
            "Epoch 209, Loss: 1.4734439849853516, Val Loss: 1.448921799659729\n",
            "Epoch 210, Loss: 1.472780704498291, Val Loss: 1.4485161304473877\n",
            "Epoch 211, Loss: 1.4721647500991821, Val Loss: 1.4481431245803833\n",
            "Epoch 212, Loss: 1.4714624881744385, Val Loss: 1.4478020668029785\n",
            "Epoch 213, Loss: 1.4719167947769165, Val Loss: 1.4474868774414062\n",
            "Epoch 214, Loss: 1.4708452224731445, Val Loss: 1.4471728801727295\n",
            "Epoch 215, Loss: 1.4703582525253296, Val Loss: 1.446808099746704\n",
            "Epoch 216, Loss: 1.4701783657073975, Val Loss: 1.4464192390441895\n",
            "Epoch 217, Loss: 1.4703601598739624, Val Loss: 1.4460530281066895\n",
            "Epoch 218, Loss: 1.4696394205093384, Val Loss: 1.445702075958252\n",
            "Epoch 219, Loss: 1.4696635007858276, Val Loss: 1.445346713066101\n",
            "Epoch 220, Loss: 1.4687401056289673, Val Loss: 1.4450093507766724\n",
            "Epoch 221, Loss: 1.4685059785842896, Val Loss: 1.4446635246276855\n",
            "Epoch 222, Loss: 1.4679056406021118, Val Loss: 1.444305419921875\n",
            "Epoch 223, Loss: 1.4675883054733276, Val Loss: 1.443915843963623\n",
            "Epoch 224, Loss: 1.4669899940490723, Val Loss: 1.4435181617736816\n",
            "Epoch 225, Loss: 1.4671484231948853, Val Loss: 1.4431371688842773\n",
            "Epoch 226, Loss: 1.4662542343139648, Val Loss: 1.4427882432937622\n",
            "Epoch 227, Loss: 1.4663196802139282, Val Loss: 1.4424391984939575\n",
            "Epoch 228, Loss: 1.4653618335723877, Val Loss: 1.4420818090438843\n",
            "Epoch 229, Loss: 1.4656004905700684, Val Loss: 1.4417141675949097\n",
            "Epoch 230, Loss: 1.465775489807129, Val Loss: 1.4413684606552124\n",
            "Epoch 231, Loss: 1.4648069143295288, Val Loss: 1.441043496131897\n",
            "Epoch 232, Loss: 1.4642770290374756, Val Loss: 1.4407252073287964\n",
            "Epoch 233, Loss: 1.464173674583435, Val Loss: 1.4403955936431885\n",
            "Epoch 234, Loss: 1.4631891250610352, Val Loss: 1.4400606155395508\n",
            "Epoch 235, Loss: 1.4638538360595703, Val Loss: 1.4397478103637695\n",
            "Epoch 236, Loss: 1.4624265432357788, Val Loss: 1.4394426345825195\n",
            "Epoch 237, Loss: 1.4617692232131958, Val Loss: 1.4391722679138184\n",
            "Epoch 238, Loss: 1.4623240232467651, Val Loss: 1.4389206171035767\n",
            "Epoch 239, Loss: 1.4616655111312866, Val Loss: 1.4386616945266724\n",
            "Epoch 240, Loss: 1.4618221521377563, Val Loss: 1.4383785724639893\n",
            "Epoch 241, Loss: 1.46082603931427, Val Loss: 1.4380666017532349\n",
            "Epoch 242, Loss: 1.460882306098938, Val Loss: 1.437695860862732\n",
            "Epoch 243, Loss: 1.4599133729934692, Val Loss: 1.4373252391815186\n",
            "Epoch 244, Loss: 1.4593077898025513, Val Loss: 1.4369471073150635\n",
            "Epoch 245, Loss: 1.4594026803970337, Val Loss: 1.4365739822387695\n",
            "Epoch 246, Loss: 1.4588512182235718, Val Loss: 1.4362229108810425\n",
            "Epoch 247, Loss: 1.4588491916656494, Val Loss: 1.4358551502227783\n",
            "Epoch 248, Loss: 1.4584561586380005, Val Loss: 1.4354512691497803\n",
            "Epoch 249, Loss: 1.458548903465271, Val Loss: 1.4350694417953491\n",
            "Epoch 250, Loss: 1.4573789834976196, Val Loss: 1.4346996545791626\n",
            "Epoch 251, Loss: 1.456941843032837, Val Loss: 1.4343212842941284\n",
            "Epoch 252, Loss: 1.4567954540252686, Val Loss: 1.4339383840560913\n",
            "Epoch 253, Loss: 1.455946683883667, Val Loss: 1.433581829071045\n",
            "Epoch 254, Loss: 1.4565205574035645, Val Loss: 1.4332103729248047\n",
            "Epoch 255, Loss: 1.45618736743927, Val Loss: 1.4328334331512451\n",
            "Epoch 256, Loss: 1.4554085731506348, Val Loss: 1.4324439764022827\n",
            "Epoch 257, Loss: 1.455084204673767, Val Loss: 1.4320344924926758\n",
            "Epoch 258, Loss: 1.4548888206481934, Val Loss: 1.431641936302185\n",
            "Epoch 259, Loss: 1.4541703462600708, Val Loss: 1.4312317371368408\n",
            "Epoch 260, Loss: 1.4534000158309937, Val Loss: 1.43086838722229\n",
            "Epoch 261, Loss: 1.4535852670669556, Val Loss: 1.4305320978164673\n",
            "Epoch 262, Loss: 1.4538742303848267, Val Loss: 1.4302164316177368\n",
            "Epoch 263, Loss: 1.4529838562011719, Val Loss: 1.429909348487854\n",
            "Epoch 264, Loss: 1.4521334171295166, Val Loss: 1.42958402633667\n",
            "Epoch 265, Loss: 1.452620506286621, Val Loss: 1.429288387298584\n",
            "Epoch 266, Loss: 1.452416181564331, Val Loss: 1.4290271997451782\n",
            "Epoch 267, Loss: 1.4516531229019165, Val Loss: 1.4287919998168945\n",
            "Epoch 268, Loss: 1.4512825012207031, Val Loss: 1.4285471439361572\n",
            "Epoch 269, Loss: 1.4511507749557495, Val Loss: 1.4282691478729248\n",
            "Epoch 270, Loss: 1.451153039932251, Val Loss: 1.427965760231018\n",
            "Epoch 271, Loss: 1.4499454498291016, Val Loss: 1.4276654720306396\n",
            "Epoch 272, Loss: 1.4498568773269653, Val Loss: 1.42738676071167\n",
            "Epoch 273, Loss: 1.4499588012695312, Val Loss: 1.4271165132522583\n",
            "Epoch 274, Loss: 1.4496698379516602, Val Loss: 1.4268364906311035\n",
            "Epoch 275, Loss: 1.4487779140472412, Val Loss: 1.4265402555465698\n",
            "Epoch 276, Loss: 1.4487018585205078, Val Loss: 1.4262351989746094\n",
            "Epoch 277, Loss: 1.4478446245193481, Val Loss: 1.4259520769119263\n",
            "Epoch 278, Loss: 1.4489600658416748, Val Loss: 1.4256892204284668\n",
            "Epoch 279, Loss: 1.4477179050445557, Val Loss: 1.4254306554794312\n",
            "Epoch 280, Loss: 1.4474878311157227, Val Loss: 1.4251524209976196\n",
            "Epoch 281, Loss: 1.4476839303970337, Val Loss: 1.424862027168274\n",
            "Epoch 282, Loss: 1.4467417001724243, Val Loss: 1.4245713949203491\n",
            "Epoch 283, Loss: 1.4465335607528687, Val Loss: 1.424249291419983\n",
            "Epoch 284, Loss: 1.4465371370315552, Val Loss: 1.4239619970321655\n",
            "Epoch 285, Loss: 1.4461991786956787, Val Loss: 1.4236819744110107\n",
            "Epoch 286, Loss: 1.445366382598877, Val Loss: 1.4233849048614502\n",
            "Epoch 287, Loss: 1.4454586505889893, Val Loss: 1.423095941543579\n",
            "Epoch 288, Loss: 1.4448447227478027, Val Loss: 1.4228284358978271\n",
            "Epoch 289, Loss: 1.443968415260315, Val Loss: 1.4225579500198364\n",
            "Epoch 290, Loss: 1.444783091545105, Val Loss: 1.4222646951675415\n",
            "Epoch 291, Loss: 1.4451336860656738, Val Loss: 1.421959400177002\n",
            "Epoch 292, Loss: 1.443476676940918, Val Loss: 1.4216378927230835\n",
            "Epoch 293, Loss: 1.4434462785720825, Val Loss: 1.4213383197784424\n",
            "Epoch 294, Loss: 1.4435726404190063, Val Loss: 1.4210253953933716\n",
            "Epoch 295, Loss: 1.4434971809387207, Val Loss: 1.4207632541656494\n",
            "Epoch 296, Loss: 1.4428627490997314, Val Loss: 1.4204697608947754\n",
            "Epoch 297, Loss: 1.4421695470809937, Val Loss: 1.4201425313949585\n",
            "Epoch 298, Loss: 1.442948818206787, Val Loss: 1.4198182821273804\n",
            "Epoch 299, Loss: 1.4412565231323242, Val Loss: 1.4195023775100708\n",
            "Epoch 300, Loss: 1.4416741132736206, Val Loss: 1.4192167520523071\n",
            "Epoch 301, Loss: 1.4414739608764648, Val Loss: 1.418919324874878\n",
            "Epoch 302, Loss: 1.4412727355957031, Val Loss: 1.4186193943023682\n",
            "Epoch 303, Loss: 1.4413968324661255, Val Loss: 1.4183180332183838\n",
            "Epoch 304, Loss: 1.4409242868423462, Val Loss: 1.418033480644226\n",
            "Epoch 305, Loss: 1.440246343612671, Val Loss: 1.4177788496017456\n",
            "Epoch 306, Loss: 1.4399009943008423, Val Loss: 1.4175477027893066\n",
            "Epoch 307, Loss: 1.43959379196167, Val Loss: 1.417269229888916\n",
            "Epoch 308, Loss: 1.4397900104522705, Val Loss: 1.4169620275497437\n",
            "Epoch 309, Loss: 1.4386498928070068, Val Loss: 1.416614294052124\n",
            "Epoch 310, Loss: 1.4384407997131348, Val Loss: 1.4162817001342773\n",
            "Epoch 311, Loss: 1.4379072189331055, Val Loss: 1.4159997701644897\n",
            "Epoch 312, Loss: 1.4386688470840454, Val Loss: 1.4156701564788818\n",
            "Epoch 313, Loss: 1.4374537467956543, Val Loss: 1.4152787923812866\n",
            "Epoch 314, Loss: 1.4378318786621094, Val Loss: 1.4148845672607422\n",
            "Epoch 315, Loss: 1.437700629234314, Val Loss: 1.4145448207855225\n",
            "Epoch 316, Loss: 1.437041997909546, Val Loss: 1.4142069816589355\n",
            "Epoch 317, Loss: 1.4370731115341187, Val Loss: 1.4138362407684326\n",
            "Epoch 318, Loss: 1.4363658428192139, Val Loss: 1.4134365320205688\n",
            "Epoch 319, Loss: 1.435692548751831, Val Loss: 1.4131271839141846\n",
            "Epoch 320, Loss: 1.4362365007400513, Val Loss: 1.412808895111084\n",
            "Epoch 321, Loss: 1.4360463619232178, Val Loss: 1.4124997854232788\n",
            "Epoch 322, Loss: 1.4354631900787354, Val Loss: 1.4121984243392944\n",
            "Epoch 323, Loss: 1.4356591701507568, Val Loss: 1.4119126796722412\n",
            "Epoch 324, Loss: 1.4349840879440308, Val Loss: 1.4116078615188599\n",
            "Epoch 325, Loss: 1.4343674182891846, Val Loss: 1.411296010017395\n",
            "Epoch 326, Loss: 1.4344184398651123, Val Loss: 1.411030888557434\n",
            "Epoch 327, Loss: 1.4338351488113403, Val Loss: 1.41078782081604\n",
            "Epoch 328, Loss: 1.4342015981674194, Val Loss: 1.4105491638183594\n",
            "Epoch 329, Loss: 1.4339396953582764, Val Loss: 1.4102373123168945\n",
            "Epoch 330, Loss: 1.432102084159851, Val Loss: 1.409920334815979\n",
            "Epoch 331, Loss: 1.4329235553741455, Val Loss: 1.409622311592102\n",
            "Epoch 332, Loss: 1.4324469566345215, Val Loss: 1.4092963933944702\n",
            "Epoch 333, Loss: 1.4319177865982056, Val Loss: 1.4089473485946655\n",
            "Epoch 334, Loss: 1.4320950508117676, Val Loss: 1.408629298210144\n",
            "Epoch 335, Loss: 1.4313182830810547, Val Loss: 1.4083513021469116\n",
            "Epoch 336, Loss: 1.431814432144165, Val Loss: 1.4081339836120605\n",
            "Epoch 337, Loss: 1.4305095672607422, Val Loss: 1.4078949689865112\n",
            "Epoch 338, Loss: 1.4308496713638306, Val Loss: 1.4076104164123535\n",
            "Epoch 339, Loss: 1.4308165311813354, Val Loss: 1.4072972536087036\n",
            "Epoch 340, Loss: 1.4307020902633667, Val Loss: 1.4070165157318115\n",
            "Epoch 341, Loss: 1.4297406673431396, Val Loss: 1.4067161083221436\n",
            "Epoch 342, Loss: 1.4294508695602417, Val Loss: 1.4064342975616455\n",
            "Epoch 343, Loss: 1.4286612272262573, Val Loss: 1.406110167503357\n",
            "Epoch 344, Loss: 1.428662657737732, Val Loss: 1.4057365655899048\n",
            "Epoch 345, Loss: 1.4272325038909912, Val Loss: 1.4053633213043213\n",
            "Epoch 346, Loss: 1.42843759059906, Val Loss: 1.4050543308258057\n",
            "Epoch 347, Loss: 1.4278589487075806, Val Loss: 1.4047764539718628\n",
            "Epoch 348, Loss: 1.4279892444610596, Val Loss: 1.4045183658599854\n",
            "Epoch 349, Loss: 1.428043007850647, Val Loss: 1.4043065309524536\n",
            "Epoch 350, Loss: 1.4273350238800049, Val Loss: 1.4040813446044922\n",
            "Epoch 351, Loss: 1.4266804456710815, Val Loss: 1.4038668870925903\n",
            "Epoch 352, Loss: 1.4265693426132202, Val Loss: 1.4036401510238647\n",
            "Epoch 353, Loss: 1.4262691736221313, Val Loss: 1.4033780097961426\n",
            "Epoch 354, Loss: 1.4258140325546265, Val Loss: 1.4030767679214478\n",
            "Epoch 355, Loss: 1.425566554069519, Val Loss: 1.4027658700942993\n",
            "Epoch 356, Loss: 1.4258995056152344, Val Loss: 1.4025110006332397\n",
            "Epoch 357, Loss: 1.425120234489441, Val Loss: 1.4022839069366455\n",
            "Epoch 358, Loss: 1.4244413375854492, Val Loss: 1.4019660949707031\n",
            "Epoch 359, Loss: 1.4247698783874512, Val Loss: 1.4016464948654175\n",
            "Epoch 360, Loss: 1.4243955612182617, Val Loss: 1.401346206665039\n",
            "Epoch 361, Loss: 1.4240022897720337, Val Loss: 1.401133418083191\n",
            "Epoch 362, Loss: 1.4242686033248901, Val Loss: 1.4009737968444824\n",
            "Epoch 363, Loss: 1.423883080482483, Val Loss: 1.4008171558380127\n",
            "Epoch 364, Loss: 1.4240041971206665, Val Loss: 1.4006524085998535\n",
            "Epoch 365, Loss: 1.4224416017532349, Val Loss: 1.400449275970459\n",
            "Epoch 366, Loss: 1.4218673706054688, Val Loss: 1.4001877307891846\n",
            "Epoch 367, Loss: 1.422433853149414, Val Loss: 1.3998067378997803\n",
            "Epoch 368, Loss: 1.4222344160079956, Val Loss: 1.3994871377944946\n",
            "Epoch 369, Loss: 1.4219721555709839, Val Loss: 1.3992122411727905\n",
            "Epoch 370, Loss: 1.422245740890503, Val Loss: 1.3989880084991455\n",
            "Epoch 371, Loss: 1.421487808227539, Val Loss: 1.3987586498260498\n",
            "Epoch 372, Loss: 1.421328067779541, Val Loss: 1.3985384702682495\n",
            "Epoch 373, Loss: 1.4209568500518799, Val Loss: 1.3983649015426636\n",
            "Epoch 374, Loss: 1.4209035634994507, Val Loss: 1.3982034921646118\n",
            "Epoch 375, Loss: 1.4210344552993774, Val Loss: 1.3979195356369019\n",
            "Epoch 376, Loss: 1.420945167541504, Val Loss: 1.397554636001587\n",
            "Epoch 377, Loss: 1.4200278520584106, Val Loss: 1.3972647190093994\n",
            "Epoch 378, Loss: 1.419350504875183, Val Loss: 1.397036075592041\n",
            "Epoch 379, Loss: 1.420011281967163, Val Loss: 1.396835207939148\n",
            "Epoch 380, Loss: 1.4200177192687988, Val Loss: 1.3967127799987793\n",
            "Epoch 381, Loss: 1.419824481010437, Val Loss: 1.396575689315796\n",
            "Epoch 382, Loss: 1.418168067932129, Val Loss: 1.396398901939392\n",
            "Epoch 383, Loss: 1.4192463159561157, Val Loss: 1.3962152004241943\n",
            "Epoch 384, Loss: 1.4181125164031982, Val Loss: 1.395950198173523\n",
            "Epoch 385, Loss: 1.4175857305526733, Val Loss: 1.3957302570343018\n",
            "Epoch 386, Loss: 1.4181435108184814, Val Loss: 1.3955174684524536\n",
            "Epoch 387, Loss: 1.4186631441116333, Val Loss: 1.3953275680541992\n",
            "Epoch 388, Loss: 1.417647123336792, Val Loss: 1.3951009511947632\n",
            "Epoch 389, Loss: 1.417730450630188, Val Loss: 1.3948590755462646\n",
            "Epoch 390, Loss: 1.4178444147109985, Val Loss: 1.3946037292480469\n",
            "Epoch 391, Loss: 1.4165180921554565, Val Loss: 1.3943305015563965\n",
            "Epoch 392, Loss: 1.4161913394927979, Val Loss: 1.3940966129302979\n",
            "Epoch 393, Loss: 1.4168798923492432, Val Loss: 1.3938981294631958\n",
            "Epoch 394, Loss: 1.4156007766723633, Val Loss: 1.3937182426452637\n",
            "Epoch 395, Loss: 1.416426181793213, Val Loss: 1.3935205936431885\n",
            "Epoch 396, Loss: 1.4150447845458984, Val Loss: 1.3933230638504028\n",
            "Epoch 397, Loss: 1.415264368057251, Val Loss: 1.3932054042816162\n",
            "Epoch 398, Loss: 1.4150947332382202, Val Loss: 1.3931083679199219\n",
            "Epoch 399, Loss: 1.4147759675979614, Val Loss: 1.392976999282837\n",
            "Epoch 400, Loss: 1.415157437324524, Val Loss: 1.3928329944610596\n",
            "Epoch 401, Loss: 1.4146859645843506, Val Loss: 1.3925893306732178\n",
            "Epoch 402, Loss: 1.4132219552993774, Val Loss: 1.3922843933105469\n",
            "Epoch 403, Loss: 1.4138888120651245, Val Loss: 1.391993522644043\n",
            "Epoch 404, Loss: 1.4143922328948975, Val Loss: 1.3917700052261353\n",
            "Epoch 405, Loss: 1.4139996767044067, Val Loss: 1.3916171789169312\n",
            "Epoch 406, Loss: 1.4132421016693115, Val Loss: 1.3914307355880737\n",
            "Epoch 407, Loss: 1.413200855255127, Val Loss: 1.3912701606750488\n",
            "Epoch 408, Loss: 1.4139302968978882, Val Loss: 1.3910982608795166\n",
            "Epoch 409, Loss: 1.413022756576538, Val Loss: 1.3908745050430298\n",
            "Epoch 410, Loss: 1.4130157232284546, Val Loss: 1.3906859159469604\n",
            "Epoch 411, Loss: 1.4120151996612549, Val Loss: 1.3904879093170166\n",
            "Epoch 412, Loss: 1.411855936050415, Val Loss: 1.3902642726898193\n",
            "Epoch 413, Loss: 1.4116322994232178, Val Loss: 1.3900338411331177\n",
            "Epoch 414, Loss: 1.4115899801254272, Val Loss: 1.3898439407348633\n",
            "Epoch 415, Loss: 1.4116419553756714, Val Loss: 1.3896795511245728\n",
            "Epoch 416, Loss: 1.4112972021102905, Val Loss: 1.3894925117492676\n",
            "Epoch 417, Loss: 1.4108613729476929, Val Loss: 1.3893681764602661\n",
            "Epoch 418, Loss: 1.4107816219329834, Val Loss: 1.3891541957855225\n",
            "Epoch 419, Loss: 1.4108220338821411, Val Loss: 1.3889274597167969\n",
            "Epoch 420, Loss: 1.4110578298568726, Val Loss: 1.3886404037475586\n",
            "Epoch 421, Loss: 1.4104069471359253, Val Loss: 1.388370156288147\n",
            "Epoch 422, Loss: 1.4101930856704712, Val Loss: 1.3881219625473022\n",
            "Epoch 423, Loss: 1.40975022315979, Val Loss: 1.3879090547561646\n",
            "Epoch 424, Loss: 1.4097970724105835, Val Loss: 1.3876820802688599\n",
            "Epoch 425, Loss: 1.4098619222640991, Val Loss: 1.3874231576919556\n",
            "Epoch 426, Loss: 1.4090931415557861, Val Loss: 1.3871718645095825\n",
            "Epoch 427, Loss: 1.4090242385864258, Val Loss: 1.3869060277938843\n",
            "Epoch 428, Loss: 1.4082680940628052, Val Loss: 1.3865911960601807\n",
            "Epoch 429, Loss: 1.407936692237854, Val Loss: 1.3862762451171875\n",
            "Epoch 430, Loss: 1.4079570770263672, Val Loss: 1.3859801292419434\n",
            "Epoch 431, Loss: 1.4088109731674194, Val Loss: 1.3857457637786865\n",
            "Epoch 432, Loss: 1.4080018997192383, Val Loss: 1.3855783939361572\n",
            "Epoch 433, Loss: 1.4084542989730835, Val Loss: 1.3854703903198242\n",
            "Epoch 434, Loss: 1.4085239171981812, Val Loss: 1.385346531867981\n",
            "Epoch 435, Loss: 1.4075204133987427, Val Loss: 1.3851943016052246\n",
            "Epoch 436, Loss: 1.4069669246673584, Val Loss: 1.3850184679031372\n",
            "Epoch 437, Loss: 1.407286524772644, Val Loss: 1.3848851919174194\n",
            "Epoch 438, Loss: 1.4068474769592285, Val Loss: 1.3847450017929077\n",
            "Epoch 439, Loss: 1.4065064191818237, Val Loss: 1.3845174312591553\n",
            "Epoch 440, Loss: 1.406396746635437, Val Loss: 1.3842315673828125\n",
            "Epoch 441, Loss: 1.4061359167099, Val Loss: 1.3839188814163208\n",
            "Epoch 442, Loss: 1.4056017398834229, Val Loss: 1.3836266994476318\n",
            "Epoch 443, Loss: 1.4056541919708252, Val Loss: 1.3833999633789062\n",
            "Epoch 444, Loss: 1.4054208993911743, Val Loss: 1.3832513093948364\n",
            "Epoch 445, Loss: 1.4053798913955688, Val Loss: 1.3831579685211182\n",
            "Epoch 446, Loss: 1.4051966667175293, Val Loss: 1.3830902576446533\n",
            "Epoch 447, Loss: 1.4044973850250244, Val Loss: 1.3830251693725586\n",
            "Epoch 448, Loss: 1.404336929321289, Val Loss: 1.3829346895217896\n",
            "Epoch 449, Loss: 1.4044033288955688, Val Loss: 1.3827989101409912\n",
            "Epoch 450, Loss: 1.4042564630508423, Val Loss: 1.3824796676635742\n",
            "Epoch 451, Loss: 1.404237151145935, Val Loss: 1.3821488618850708\n",
            "Epoch 452, Loss: 1.4044687747955322, Val Loss: 1.3819279670715332\n",
            "Epoch 453, Loss: 1.4039758443832397, Val Loss: 1.3817187547683716\n",
            "Epoch 454, Loss: 1.4030081033706665, Val Loss: 1.381583571434021\n",
            "Epoch 455, Loss: 1.4032752513885498, Val Loss: 1.3814820051193237\n",
            "Epoch 456, Loss: 1.4035148620605469, Val Loss: 1.381287693977356\n",
            "Epoch 457, Loss: 1.4029386043548584, Val Loss: 1.3810324668884277\n",
            "Epoch 458, Loss: 1.4028536081314087, Val Loss: 1.3808174133300781\n",
            "Epoch 459, Loss: 1.4029778242111206, Val Loss: 1.3806345462799072\n",
            "Epoch 460, Loss: 1.40257728099823, Val Loss: 1.380460500717163\n",
            "Epoch 461, Loss: 1.4020546674728394, Val Loss: 1.3803235292434692\n",
            "Epoch 462, Loss: 1.401479721069336, Val Loss: 1.3801978826522827\n",
            "Epoch 463, Loss: 1.4016084671020508, Val Loss: 1.3800427913665771\n",
            "Epoch 464, Loss: 1.4025006294250488, Val Loss: 1.3797831535339355\n",
            "Epoch 465, Loss: 1.402068018913269, Val Loss: 1.379514455795288\n",
            "Epoch 466, Loss: 1.4017846584320068, Val Loss: 1.3792768716812134\n",
            "Epoch 467, Loss: 1.4008077383041382, Val Loss: 1.379029631614685\n",
            "Epoch 468, Loss: 1.4005573987960815, Val Loss: 1.378843903541565\n",
            "Epoch 469, Loss: 1.4013326168060303, Val Loss: 1.3787461519241333\n",
            "Epoch 470, Loss: 1.4007775783538818, Val Loss: 1.3786194324493408\n",
            "Epoch 471, Loss: 1.4010697603225708, Val Loss: 1.3784849643707275\n",
            "Epoch 472, Loss: 1.3998854160308838, Val Loss: 1.378389835357666\n",
            "Epoch 473, Loss: 1.4004673957824707, Val Loss: 1.378316044807434\n",
            "Epoch 474, Loss: 1.3998138904571533, Val Loss: 1.3783073425292969\n",
            "Epoch 475, Loss: 1.4002548456192017, Val Loss: 1.378265619277954\n",
            "Epoch 476, Loss: 1.4002723693847656, Val Loss: 1.3780932426452637\n",
            "Epoch 477, Loss: 1.3999261856079102, Val Loss: 1.377826452255249\n",
            "Epoch 478, Loss: 1.3990691900253296, Val Loss: 1.3775794506072998\n",
            "Epoch 479, Loss: 1.39873468875885, Val Loss: 1.3773473501205444\n",
            "Epoch 480, Loss: 1.3985227346420288, Val Loss: 1.3771477937698364\n",
            "Epoch 481, Loss: 1.3984378576278687, Val Loss: 1.3771018981933594\n",
            "Epoch 482, Loss: 1.3993881940841675, Val Loss: 1.3769780397415161\n",
            "Epoch 483, Loss: 1.3984439373016357, Val Loss: 1.3768115043640137\n",
            "Epoch 484, Loss: 1.3989697694778442, Val Loss: 1.3766206502914429\n",
            "Epoch 485, Loss: 1.3982396125793457, Val Loss: 1.376482367515564\n",
            "Epoch 486, Loss: 1.398539662361145, Val Loss: 1.3763580322265625\n",
            "Epoch 487, Loss: 1.3985356092453003, Val Loss: 1.3762400150299072\n",
            "Epoch 488, Loss: 1.3979809284210205, Val Loss: 1.37613844871521\n",
            "Epoch 489, Loss: 1.3974560499191284, Val Loss: 1.376014232635498\n",
            "Epoch 490, Loss: 1.3970532417297363, Val Loss: 1.3758337497711182\n",
            "Epoch 491, Loss: 1.3974683284759521, Val Loss: 1.375634789466858\n",
            "Epoch 492, Loss: 1.397694706916809, Val Loss: 1.3755114078521729\n",
            "Epoch 493, Loss: 1.3965861797332764, Val Loss: 1.375394582748413\n",
            "Epoch 494, Loss: 1.3970263004302979, Val Loss: 1.3753299713134766\n",
            "Epoch 495, Loss: 1.3966889381408691, Val Loss: 1.3752423524856567\n",
            "Epoch 496, Loss: 1.3957176208496094, Val Loss: 1.375157356262207\n",
            "Epoch 497, Loss: 1.3959743976593018, Val Loss: 1.3750333786010742\n",
            "Epoch 498, Loss: 1.3960466384887695, Val Loss: 1.3749526739120483\n",
            "Epoch 499, Loss: 1.3964303731918335, Val Loss: 1.3748795986175537\n",
            "Epoch 500, Loss: 1.3959059715270996, Val Loss: 1.3748059272766113\n"
          ]
        }
      ]
    },
    {
      "cell_type": "code",
      "source": [
        "model_pytorch.eval()\n",
        "with torch.no_grad():\n",
        "    y_pred_pytorch = model_pytorch(X_test_tensor).numpy()\n",
        "    y_pred = y_pred_pytorch.argmax(axis=1)"
      ],
      "metadata": {
        "id": "Gu_oH4CwfFCg"
      },
      "execution_count": null,
      "outputs": []
    },
    {
      "cell_type": "code",
      "source": [
        "accuracy_pytorch = accuracy_score(y_test_tensor, y_pred)"
      ],
      "metadata": {
        "id": "Hjr7w4dy1XE2"
      },
      "execution_count": null,
      "outputs": []
    },
    {
      "cell_type": "markdown",
      "source": [
        "akurasi untuk proporsi prediksi yang benar terhadap total data\n",
        "\n",
        "akurasi = (True Positif + True Negatif) / (True Positif + True Negatif + False Positif + False Negatif)"
      ],
      "metadata": {
        "id": "WB7FbCPV1Jck"
      }
    },
    {
      "cell_type": "code",
      "source": [
        "precision_pytorch = precision_score(y_test_tensor, y_pred, average='weighted')"
      ],
      "metadata": {
        "id": "d5ZOrthw2euN"
      },
      "execution_count": null,
      "outputs": []
    },
    {
      "cell_type": "markdown",
      "source": [
        "presisi digunakan untuk prediksi positif yang benar terhadap total prediksi positif\n",
        "\n",
        "presisi = True Positif/(True Positif+False Positif)"
      ],
      "metadata": {
        "id": "7HPfmsDu2hlk"
      }
    },
    {
      "cell_type": "code",
      "source": [
        "recall_pytorch = recall_score(y_test_tensor, y_pred, average='weighted')"
      ],
      "metadata": {
        "id": "PIcwxViX27FF"
      },
      "execution_count": null,
      "outputs": []
    },
    {
      "cell_type": "markdown",
      "source": [
        "Recall digunakan untuk prediksi positif yang benar terhadap total data positif\n",
        "\n",
        "Recall True Positif/(True Positif+False Negatif)"
      ],
      "metadata": {
        "id": "yFBMeONP28TX"
      }
    },
    {
      "cell_type": "code",
      "source": [
        "f1_pytorch = f1_score(y_test_tensor, y_pred,average='weighted')"
      ],
      "metadata": {
        "id": "BuOjp8nv3QVw"
      },
      "execution_count": null,
      "outputs": []
    },
    {
      "cell_type": "markdown",
      "source": [
        "F1 digunakan untuk rata rata dari presisi dan recall\n",
        "\n",
        "F1 = 2 * ((Presisi * Recall)/(Presisi + Recall))"
      ],
      "metadata": {
        "id": "Y6IGzeW43Sqt"
      }
    },
    {
      "cell_type": "code",
      "source": [
        "auc_pytorch = roc_auc_score(y_test_tensor, y_pred_pytorch,average='weighted', multi_class='ovo')"
      ],
      "metadata": {
        "id": "e7WTF2jQ3kMd"
      },
      "execution_count": null,
      "outputs": []
    },
    {
      "cell_type": "markdown",
      "source": [
        "ROC dan AUC untuk mengevaluasi kinerja model klasifikasi biner. ROC adalah grafik, sedangkan AUC adalah nilai yang menggambarkan kinerja model."
      ],
      "metadata": {
        "id": "CZxyd7Q23myU"
      }
    },
    {
      "cell_type": "code",
      "source": [
        "y_test_bin = label_binarize(y_test_tensor, classes=np.unique(y_test_tensor))\n",
        "fpr_pytorch = dict()\n",
        "tpr_pytorch = dict()\n",
        "for i in range(n_classes):  # Assuming n_classes is 7\n",
        "    fpr_pytorch[i], tpr_pytorch[i], _ = roc_curve(y_test_bin[:, i], y_pred_pytorch[:, i])\n",
        "\n",
        "print(f'Akurasi: {accuracy_pytorch}\\nPresisi: {precision_pytorch}\\nRecall: {recall_pytorch}\\nF1-Score: {f1_pytorch}\\nAUC: {auc_pytorch}')"
      ],
      "metadata": {
        "id": "Jt8W-uTZ4Msl",
        "colab": {
          "base_uri": "https://localhost:8080/"
        },
        "outputId": "cfd41906-84fe-4992-b9e1-f04f414c99b6"
      },
      "execution_count": null,
      "outputs": [
        {
          "output_type": "stream",
          "name": "stdout",
          "text": [
            "Akurasi: 0.7926428571428571\n",
            "Presisi: 0.7912253250845889\n",
            "Recall: 0.7926428571428571\n",
            "F1-Score: 0.790266206618458\n",
            "AUC: 0.9435150449639432\n"
          ]
        }
      ]
    },
    {
      "cell_type": "code",
      "source": [
        "plt.figure()\n",
        "for i in range(n_classes):\n",
        "    plt.plot(fpr_pytorch[i], tpr_pytorch[i], label=f'Class {i} PyTorch ROC')\n",
        "plt.xlabel('False Positive Rate')\n",
        "plt.ylabel('True Positive Rate')\n",
        "plt.title('ROC Curve')\n",
        "plt.legend()\n",
        "plt.show()"
      ],
      "metadata": {
        "id": "Mkj2ykgv4Rl7",
        "colab": {
          "base_uri": "https://localhost:8080/",
          "height": 472
        },
        "outputId": "905dee8e-7676-4fe3-e534-5d513985dbcc"
      },
      "execution_count": null,
      "outputs": [
        {
          "output_type": "display_data",
          "data": {
            "text/plain": [
              "<Figure size 640x480 with 1 Axes>"
            ],
            "image/png": "[encoded data removed]"
          },
          "metadata": {}
        }
      ]
    },
    {
      "cell_type": "markdown",
      "source": [
        "# Tensorflow"
      ],
      "metadata": {
        "id": "Haz6K88Muh6g"
      }
    },
    {
      "cell_type": "markdown",
      "source": [
        "## Modeling Neural Network"
      ],
      "metadata": {
        "id": "JjpyHQGRxnLS"
      }
    },
    {
      "cell_type": "code",
      "source": [
        "inputs = tf.keras.Input(shape=(X_train.shape[1],))\n",
        "x = tf.keras.layers.Dense(128, activation='relu')(inputs)\n",
        "x = tf.keras.layers.Dense(64, activation='relu')(x)\n",
        "x = tf.keras.layers.Dense(32, activation='relu')(x)\n",
        "x = tf.keras.layers.Dropout(0.2)(x)\n",
        "outputs = tf.keras.layers.Dense(7, activation='softmax')(x)"
      ],
      "metadata": {
        "id": "4u2oWriHulSd"
      },
      "execution_count": null,
      "outputs": []
    },
    {
      "cell_type": "code",
      "source": [
        "model_tf = tf.keras.Model(inputs=inputs, outputs=outputs)\n",
        "\n",
        "# menggunakan early stopping untuk mengurangi overfitting pada model\n",
        "early_stopping = EarlyStopping(monitor='val_loss',patience=5,restore_best_weights=True)\n",
        "model_tf.compile(optimizer='adam',\n",
        "                 loss='sparse_categorical_crossentropy')"
      ],
      "metadata": {
        "id": "KCpVcAN1u5AW"
      },
      "execution_count": null,
      "outputs": []
    },
    {
      "cell_type": "markdown",
      "source": [
        "## Training Model"
      ],
      "metadata": {
        "id": "xY6XwfJPyP4P"
      }
    },
    {
      "cell_type": "code",
      "source": [
        "history = model_tf.fit(X_train, y_train, epochs=100, batch_size=256, validation_split=0.2, callbacks=[early_stopping])"
      ],
      "metadata": {
        "colab": {
          "base_uri": "https://localhost:8080/"
        },
        "id": "Xmo03_pWu6sL",
        "outputId": "8f577a07-f257-4ef2-aa7e-147bd5ac260a"
      },
      "execution_count": null,
      "outputs": [
        {
          "output_type": "stream",
          "name": "stdout",
          "text": [
            "Epoch 1/100\n",
            "\u001b[1m525/525\u001b[0m \u001b[32m━━━━━━━━━━━━━━━━━━━━\u001b[0m\u001b[37m\u001b[0m \u001b[1m6s\u001b[0m 6ms/step - loss: nan - val_loss: nan\n",
            "Epoch 2/100\n",
            "\u001b[1m525/525\u001b[0m \u001b[32m━━━━━━━━━━━━━━━━━━━━\u001b[0m\u001b[37m\u001b[0m \u001b[1m7s\u001b[0m 3ms/step - loss: nan - val_loss: nan\n",
            "Epoch 3/100\n",
            "\u001b[1m525/525\u001b[0m \u001b[32m━━━━━━━━━━━━━━━━━━━━\u001b[0m\u001b[37m\u001b[0m \u001b[1m3s\u001b[0m 3ms/step - loss: nan - val_loss: nan\n",
            "Epoch 4/100\n",
            "\u001b[1m525/525\u001b[0m \u001b[32m━━━━━━━━━━━━━━━━━━━━\u001b[0m\u001b[37m\u001b[0m \u001b[1m3s\u001b[0m 3ms/step - loss: nan - val_loss: nan\n",
            "Epoch 5/100\n",
            "\u001b[1m525/525\u001b[0m \u001b[32m━━━━━━━━━━━━━━━━━━━━\u001b[0m\u001b[37m\u001b[0m \u001b[1m2s\u001b[0m 3ms/step - loss: nan - val_loss: nan\n",
            "Epoch 6/100\n",
            "\u001b[1m525/525\u001b[0m \u001b[32m━━━━━━━━━━━━━━━━━━━━\u001b[0m\u001b[37m\u001b[0m \u001b[1m3s\u001b[0m 3ms/step - loss: nan - val_loss: nan\n"
          ]
        }
      ]
    },
    {
      "cell_type": "code",
      "source": [
        "y_pred_prob_tf = model_tf.predict(X_test).flatten()\n",
        "y_pred_tf = (y_pred_prob_tf > 0.5).astype(int)"
      ],
      "metadata": {
        "colab": {
          "base_uri": "https://localhost:8080/"
        },
        "id": "QlpmWfplu_t9",
        "outputId": "ee7a8a20-140d-43d6-c1eb-540c19f9a609"
      },
      "execution_count": null,
      "outputs": [
        {
          "output_type": "stream",
          "name": "stdout",
          "text": [
            "\u001b[1m513/513\u001b[0m \u001b[32m━━━━━━━━━━━━━━━━━━━━\u001b[0m\u001b[37m\u001b[0m \u001b[1m1s\u001b[0m 2ms/step\n"
          ]
        }
      ]
    },
    {
      "cell_type": "code",
      "source": [
        "accuracy_tf = accuracy_score(y_test, y_pred_tf)"
      ],
      "metadata": {
        "id": "qT7Q65Yj5EhU"
      },
      "execution_count": null,
      "outputs": []
    },
    {
      "cell_type": "markdown",
      "source": [
        "akurasi untuk proporsi prediksi yang benar terhadap total data\n",
        "\n",
        "akurasi = (True Positif + True Negatif) / (True Positif + True Negatif + False Positif + False Negatif)"
      ],
      "metadata": {
        "id": "NV6kvnlN5FoL"
      }
    },
    {
      "cell_type": "code",
      "source": [
        "precision_tf = precision_score(y_test, y_pred_tf)"
      ],
      "metadata": {
        "id": "VaJT3PXa5H0d"
      },
      "execution_count": null,
      "outputs": []
    },
    {
      "cell_type": "markdown",
      "source": [
        "presisi digunakan untuk prediksi positif yang benar terhadap total prediksi positif\n",
        "\n",
        "presisi = True Positif/(True Positif+False Positif)"
      ],
      "metadata": {
        "id": "W778tGb35Jil"
      }
    },
    {
      "cell_type": "code",
      "source": [
        "recall_tf = recall_score(y_test, y_pred_tf)"
      ],
      "metadata": {
        "id": "rRn2AJcZ5NHy"
      },
      "execution_count": null,
      "outputs": []
    },
    {
      "cell_type": "markdown",
      "source": [
        "Recall digunakan untuk prediksi positif yang benar terhadap total data positif\n",
        "\n",
        "Recall True Positif/(True Positif+False Negatif)"
      ],
      "metadata": {
        "id": "lEGgQtQ55PRN"
      }
    },
    {
      "cell_type": "code",
      "source": [
        "f1_tf = f1_score(y_test, y_pred_tf)"
      ],
      "metadata": {
        "id": "Tvxe05dq5Prl"
      },
      "execution_count": null,
      "outputs": []
    },
    {
      "cell_type": "markdown",
      "source": [
        "F1 digunakan untuk rata rata dari presisi dan recall\n",
        "\n",
        "F1 = 2 * ((Presisi * Recall)/(Presisi + Recall))"
      ],
      "metadata": {
        "id": "UgF-oUyq5TfZ"
      }
    },
    {
      "cell_type": "code",
      "source": [
        "roc_auc_tf = roc_auc_score(y_test, y_pred_prob_tf)"
      ],
      "metadata": {
        "id": "E5ChtP_a5Tx_"
      },
      "execution_count": null,
      "outputs": []
    },
    {
      "cell_type": "markdown",
      "source": [
        "ROC dan AUC untuk mengevaluasi kinerja model klasifikasi biner. ROC adalah grafik, sedangkan AUC adalah nilai yang menggambarkan kinerja model."
      ],
      "metadata": {
        "id": "8pvec7Cc5Xxt"
      }
    },
    {
      "cell_type": "code",
      "source": [
        "fpr_tensorflow, tpr_tensorflow, _ = roc_curve(y_test, y_pred_prob_tf)\n",
        "print(f'Akurasi: {accuracy_tf}\\nPresisi: {precision_tf}\\nRecall: {recall_tf}\\nF1-Score: {f1_tf}\\nAUC: {roc_auc_tf}')"
      ],
      "metadata": {
        "colab": {
          "base_uri": "https://localhost:8080/"
        },
        "id": "cC72gEgz5U_s",
        "outputId": "9bcbe1fd-b62d-4203-b420-b4da11ab8982"
      },
      "execution_count": null,
      "outputs": [
        {
          "output_type": "stream",
          "name": "stdout",
          "text": [
            "Akurasi: 0.8719590268886044\n",
            "Presisi: 0.8694325808419768\n",
            "Recall: 0.8736971183323115\n",
            "F1-Score: 0.8715596330275229\n",
            "AUC: 0.9518032413166378\n"
          ]
        }
      ]
    },
    {
      "cell_type": "code",
      "source": [
        "plt.figure()\n",
        "plt.plot(fpr_tensorflow, tpr_tensorflow, label='TensorFlow ROC')\n",
        "plt.xlabel('False Positive Rate')\n",
        "plt.ylabel('True Positive Rate')\n",
        "plt.title('ROC Curve')\n",
        "plt.legend()\n",
        "plt.show()"
      ],
      "metadata": {
        "colab": {
          "base_uri": "https://localhost:8080/",
          "height": 472
        },
        "id": "IxBU1A145a99",
        "outputId": "63cbe6b6-fb66-412a-f079-1ea1ad238860"
      },
      "execution_count": null,
      "outputs": [
        {
          "output_type": "display_data",
          "data": {
            "text/plain": [
              "<Figure size 640x480 with 1 Axes>"
            ],
            "image/png": "[encoded data removed]"
          },
          "metadata": {}
        }
      ]
    },
    {
      "cell_type": "markdown",
      "source": [
        "#Matriks Evaluasi yang terbaik untuk klasifikasi adalah F1_score dan AUC karena dataset tidak seimbang (oversamping ke negatif)"
      ],
      "metadata": {
        "id": "-yPl_q13DgKi"
      }
    }
  ]
}
