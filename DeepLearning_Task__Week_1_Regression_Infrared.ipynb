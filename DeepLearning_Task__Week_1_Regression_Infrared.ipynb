{
  "nbformat": 4,
  "nbformat_minor": 0,
  "metadata": {
    "colab": {
      "provenance": [],
      "include_colab_link": true
    },
    "kernelspec": {
      "name": "python3",
      "display_name": "Python 3"
    },
    "language_info": {
      "name": "python"
    }
  },
  "cells": [
    {
      "cell_type": "markdown",
      "metadata": {
        "id": "view-in-github",
        "colab_type": "text"
      },
      "source": [
        "<a href=\"https://colab.research.google.com/github/maruwrks/Deep-Learning-Task/blob/main/DeepLearning_Task__Week_1_Regression_Infrared.ipynb\" target=\"_parent\"><img src=\"https://colab.research.google.com/assets/colab-badge.svg\" alt=\"Open In Colab\"/></a>"
      ]
    },
    {
      "cell_type": "markdown",
      "source": [
        "# Deep Learning training model"
      ],
      "metadata": {
        "id": "Qb855AGC5Lro"
      }
    },
    {
      "cell_type": "code",
      "execution_count": null,
      "metadata": {
        "id": "GsdArvJ8NDmy"
      },
      "outputs": [],
      "source": [
        "# pip install torch torchvision"
      ]
    },
    {
      "cell_type": "code",
      "source": [
        "import torch\n",
        "import torch.nn as nn\n",
        "import torch.optim as optim\n",
        "import pandas as pd\n",
        "import numpy as np\n",
        "import matplotlib.pyplot as plt\n",
        "from sklearn.model_selection import train_test_split\n",
        "from sklearn.preprocessing import StandardScaler, MinMaxScaler\n",
        "from sklearn.preprocessing import OneHotEncoder, LabelEncoder\n",
        "from sklearn.metrics import mean_squared_error, r2_score\n",
        "from sklearn.impute import SimpleImputer\n",
        "import tensorflow as tf\n",
        "from tensorflow.keras.callbacks import EarlyStopping"
      ],
      "metadata": {
        "id": "ipeoy-rk5Wn5"
      },
      "execution_count": null,
      "outputs": []
    },
    {
      "cell_type": "markdown",
      "source": [
        "## Data Exploring"
      ],
      "metadata": {
        "id": "yv7FNZAjUqJy"
      }
    },
    {
      "cell_type": "code",
      "source": [
        "url = \"https://raw.githubusercontent.com/farrelrassya/teachingMLDL/refs/heads/main/02.%20Deep%20Learning/Dataset/Infrared.csv\"\n",
        "df = pd.read_csv(url)\n",
        "df.head()"
      ],
      "metadata": {
        "id": "L-7iqpb6_6h3",
        "colab": {
          "base_uri": "https://localhost:8080/"
        },
        "outputId": "80eef95c-445d-44e8-b2ff-2f0c4e8e045d"
      },
      "execution_count": null,
      "outputs": [
        {
          "output_type": "execute_result",
          "data": {
            "text/plain": [
              "   Gender    Age                  Ethnicity  T_atm  Humidity  Distance  \\\n",
              "0    Male  41-50                      White   24.0      28.0       0.8   \n",
              "1  Female  31-40  Black or African-American   24.0      26.0       0.8   \n",
              "2  Female  21-30                      White   24.0      26.0       0.8   \n",
              "3  Female  21-30  Black or African-American   24.0      27.0       0.8   \n",
              "4    Male  18-20                      White   24.0      27.0       0.8   \n",
              "\n",
              "   T_offset1  Max1R13_1  Max1L13_1  aveAllR13_1  ...  T_FHRC1  T_FHLC1  \\\n",
              "0     0.7025    35.0300    35.3775      34.4000  ...  33.4775  33.3725   \n",
              "1     0.7800    34.5500    34.5200      33.9300  ...  34.0550  33.6775   \n",
              "2     0.8625    35.6525    35.5175      34.2775  ...  34.8275  34.6475   \n",
              "3     0.9300    35.2225    35.6125      34.3850  ...  34.4225  34.6550   \n",
              "4     0.8950    35.5450    35.6650      34.9100  ...  35.1600  34.3975   \n",
              "\n",
              "   T_FHBC1  T_FHTC1  T_FH_Max1  T_FHC_Max1   T_Max1    T_OR1  T_OR_Max1  \\\n",
              "0  33.4925  33.0025    34.5300     34.0075  35.6925  35.6350    35.6525   \n",
              "1  33.9700  34.0025    34.6825     34.6600  35.1750  35.0925    35.1075   \n",
              "2  34.8200  34.6700    35.3450     35.2225  35.9125  35.8600    35.8850   \n",
              "3  34.3025  34.9175    35.6025     35.3150  35.7200  34.9650    34.9825   \n",
              "4  34.6700  33.8275    35.4175     35.3725  35.8950  35.5875    35.6175   \n",
              "\n",
              "   aveOralM  \n",
              "0     36.59  \n",
              "1     37.19  \n",
              "2     37.34  \n",
              "3     37.09  \n",
              "4     37.04  \n",
              "\n",
              "[5 rows x 34 columns]"
            ],
            "text/html": [
              "\n",
              "  <div id=\"df-b8b0fced-9656-446b-a4a9-060fc513224b\" class=\"colab-df-container\">\n",
              "    <div>\n",
              "<style scoped>\n",
              "    .dataframe tbody tr th:only-of-type {\n",
              "        vertical-align: middle;\n",
              "    }\n",
              "\n",
              "    .dataframe tbody tr th {\n",
              "        vertical-align: top;\n",
              "    }\n",
              "\n",
              "    .dataframe thead th {\n",
              "        text-align: right;\n",
              "    }\n",
              "</style>\n",
              "<table border=\"1\" class=\"dataframe\">\n",
              "  <thead>\n",
              "    <tr style=\"text-align: right;\">\n",
              "      <th></th>\n",
              "      <th>Gender</th>\n",
              "      <th>Age</th>\n",
              "      <th>Ethnicity</th>\n",
              "      <th>T_atm</th>\n",
              "      <th>Humidity</th>\n",
              "      <th>Distance</th>\n",
              "      <th>T_offset1</th>\n",
              "      <th>Max1R13_1</th>\n",
              "      <th>Max1L13_1</th>\n",
              "      <th>aveAllR13_1</th>\n",
              "      <th>...</th>\n",
              "      <th>T_FHRC1</th>\n",
              "      <th>T_FHLC1</th>\n",
              "      <th>T_FHBC1</th>\n",
              "      <th>T_FHTC1</th>\n",
              "      <th>T_FH_Max1</th>\n",
              "      <th>T_FHC_Max1</th>\n",
              "      <th>T_Max1</th>\n",
              "      <th>T_OR1</th>\n",
              "      <th>T_OR_Max1</th>\n",
              "      <th>aveOralM</th>\n",
              "    </tr>\n",
              "  </thead>\n",
              "  <tbody>\n",
              "    <tr>\n",
              "      <th>0</th>\n",
              "      <td>Male</td>\n",
              "      <td>41-50</td>\n",
              "      <td>White</td>\n",
              "      <td>24.0</td>\n",
              "      <td>28.0</td>\n",
              "      <td>0.8</td>\n",
              "      <td>0.7025</td>\n",
              "      <td>35.0300</td>\n",
              "      <td>35.3775</td>\n",
              "      <td>34.4000</td>\n",
              "      <td>...</td>\n",
              "      <td>33.4775</td>\n",
              "      <td>33.3725</td>\n",
              "      <td>33.4925</td>\n",
              "      <td>33.0025</td>\n",
              "      <td>34.5300</td>\n",
              "      <td>34.0075</td>\n",
              "      <td>35.6925</td>\n",
              "      <td>35.6350</td>\n",
              "      <td>35.6525</td>\n",
              "      <td>36.59</td>\n",
              "    </tr>\n",
              "    <tr>\n",
              "      <th>1</th>\n",
              "      <td>Female</td>\n",
              "      <td>31-40</td>\n",
              "      <td>Black or African-American</td>\n",
              "      <td>24.0</td>\n",
              "      <td>26.0</td>\n",
              "      <td>0.8</td>\n",
              "      <td>0.7800</td>\n",
              "      <td>34.5500</td>\n",
              "      <td>34.5200</td>\n",
              "      <td>33.9300</td>\n",
              "      <td>...</td>\n",
              "      <td>34.0550</td>\n",
              "      <td>33.6775</td>\n",
              "      <td>33.9700</td>\n",
              "      <td>34.0025</td>\n",
              "      <td>34.6825</td>\n",
              "      <td>34.6600</td>\n",
              "      <td>35.1750</td>\n",
              "      <td>35.0925</td>\n",
              "      <td>35.1075</td>\n",
              "      <td>37.19</td>\n",
              "    </tr>\n",
              "    <tr>\n",
              "      <th>2</th>\n",
              "      <td>Female</td>\n",
              "      <td>21-30</td>\n",
              "      <td>White</td>\n",
              "      <td>24.0</td>\n",
              "      <td>26.0</td>\n",
              "      <td>0.8</td>\n",
              "      <td>0.8625</td>\n",
              "      <td>35.6525</td>\n",
              "      <td>35.5175</td>\n",
              "      <td>34.2775</td>\n",
              "      <td>...</td>\n",
              "      <td>34.8275</td>\n",
              "      <td>34.6475</td>\n",
              "      <td>34.8200</td>\n",
              "      <td>34.6700</td>\n",
              "      <td>35.3450</td>\n",
              "      <td>35.2225</td>\n",
              "      <td>35.9125</td>\n",
              "      <td>35.8600</td>\n",
              "      <td>35.8850</td>\n",
              "      <td>37.34</td>\n",
              "    </tr>\n",
              "    <tr>\n",
              "      <th>3</th>\n",
              "      <td>Female</td>\n",
              "      <td>21-30</td>\n",
              "      <td>Black or African-American</td>\n",
              "      <td>24.0</td>\n",
              "      <td>27.0</td>\n",
              "      <td>0.8</td>\n",
              "      <td>0.9300</td>\n",
              "      <td>35.2225</td>\n",
              "      <td>35.6125</td>\n",
              "      <td>34.3850</td>\n",
              "      <td>...</td>\n",
              "      <td>34.4225</td>\n",
              "      <td>34.6550</td>\n",
              "      <td>34.3025</td>\n",
              "      <td>34.9175</td>\n",
              "      <td>35.6025</td>\n",
              "      <td>35.3150</td>\n",
              "      <td>35.7200</td>\n",
              "      <td>34.9650</td>\n",
              "      <td>34.9825</td>\n",
              "      <td>37.09</td>\n",
              "    </tr>\n",
              "    <tr>\n",
              "      <th>4</th>\n",
              "      <td>Male</td>\n",
              "      <td>18-20</td>\n",
              "      <td>White</td>\n",
              "      <td>24.0</td>\n",
              "      <td>27.0</td>\n",
              "      <td>0.8</td>\n",
              "      <td>0.8950</td>\n",
              "      <td>35.5450</td>\n",
              "      <td>35.6650</td>\n",
              "      <td>34.9100</td>\n",
              "      <td>...</td>\n",
              "      <td>35.1600</td>\n",
              "      <td>34.3975</td>\n",
              "      <td>34.6700</td>\n",
              "      <td>33.8275</td>\n",
              "      <td>35.4175</td>\n",
              "      <td>35.3725</td>\n",
              "      <td>35.8950</td>\n",
              "      <td>35.5875</td>\n",
              "      <td>35.6175</td>\n",
              "      <td>37.04</td>\n",
              "    </tr>\n",
              "  </tbody>\n",
              "</table>\n",
              "<p>5 rows × 34 columns</p>\n",
              "</div>\n",
              "    <div class=\"colab-df-buttons\">\n",
              "\n",
              "  <div class=\"colab-df-container\">\n",
              "    <button class=\"colab-df-convert\" onclick=\"convertToInteractive('df-b8b0fced-9656-446b-a4a9-060fc513224b')\"\n",
              "            title=\"Convert this dataframe to an interactive table.\"\n",
              "            style=\"display:none;\">\n",
              "\n",
              "  <svg xmlns=\"http://www.w3.org/2000/svg\" height=\"24px\" viewBox=\"0 -960 960 960\">\n",
              "    <path d=\"M120-120v-720h720v720H120Zm60-500h600v-160H180v160Zm220 220h160v-160H400v160Zm0 220h160v-160H400v160ZM180-400h160v-160H180v160Zm440 0h160v-160H620v160ZM180-180h160v-160H180v160Zm440 0h160v-160H620v160Z\"/>\n",
              "  </svg>\n",
              "    </button>\n",
              "\n",
              "  <style>\n",
              "    .colab-df-container {\n",
              "      display:flex;\n",
              "      gap: 12px;\n",
              "    }\n",
              "\n",
              "    .colab-df-convert {\n",
              "      background-color: #E8F0FE;\n",
              "      border: none;\n",
              "      border-radius: 50%;\n",
              "      cursor: pointer;\n",
              "      display: none;\n",
              "      fill: #1967D2;\n",
              "      height: 32px;\n",
              "      padding: 0 0 0 0;\n",
              "      width: 32px;\n",
              "    }\n",
              "\n",
              "    .colab-df-convert:hover {\n",
              "      background-color: #E2EBFA;\n",
              "      box-shadow: 0px 1px 2px rgba(60, 64, 67, 0.3), 0px 1px 3px 1px rgba(60, 64, 67, 0.15);\n",
              "      fill: #174EA6;\n",
              "    }\n",
              "\n",
              "    .colab-df-buttons div {\n",
              "      margin-bottom: 4px;\n",
              "    }\n",
              "\n",
              "    [theme=dark] .colab-df-convert {\n",
              "      background-color: #3B4455;\n",
              "      fill: #D2E3FC;\n",
              "    }\n",
              "\n",
              "    [theme=dark] .colab-df-convert:hover {\n",
              "      background-color: #434B5C;\n",
              "      box-shadow: 0px 1px 3px 1px rgba(0, 0, 0, 0.15);\n",
              "      filter: drop-shadow(0px 1px 2px rgba(0, 0, 0, 0.3));\n",
              "      fill: #FFFFFF;\n",
              "    }\n",
              "  </style>\n",
              "\n",
              "    <script>\n",
              "      const buttonEl =\n",
              "        document.querySelector('#df-b8b0fced-9656-446b-a4a9-060fc513224b button.colab-df-convert');\n",
              "      buttonEl.style.display =\n",
              "        google.colab.kernel.accessAllowed ? 'block' : 'none';\n",
              "\n",
              "      async function convertToInteractive(key) {\n",
              "        const element = document.querySelector('#df-b8b0fced-9656-446b-a4a9-060fc513224b');\n",
              "        const dataTable =\n",
              "          await google.colab.kernel.invokeFunction('convertToInteractive',\n",
              "                                                    [key], {});\n",
              "        if (!dataTable) return;\n",
              "\n",
              "        const docLinkHtml = 'Like what you see? Visit the ' +\n",
              "          '<a target=\"_blank\" href=https://colab.research.google.com/notebooks/data_table.ipynb>data table notebook</a>'\n",
              "          + ' to learn more about interactive tables.';\n",
              "        element.innerHTML = '';\n",
              "        dataTable['output_type'] = 'display_data';\n",
              "        await google.colab.output.renderOutput(dataTable, element);\n",
              "        const docLink = document.createElement('div');\n",
              "        docLink.innerHTML = docLinkHtml;\n",
              "        element.appendChild(docLink);\n",
              "      }\n",
              "    </script>\n",
              "  </div>\n",
              "\n",
              "\n",
              "<div id=\"df-a9555e11-1cf3-408e-a5de-ec330d4b5a47\">\n",
              "  <button class=\"colab-df-quickchart\" onclick=\"quickchart('df-a9555e11-1cf3-408e-a5de-ec330d4b5a47')\"\n",
              "            title=\"Suggest charts\"\n",
              "            style=\"display:none;\">\n",
              "\n",
              "<svg xmlns=\"http://www.w3.org/2000/svg\" height=\"24px\"viewBox=\"0 0 24 24\"\n",
              "     width=\"24px\">\n",
              "    <g>\n",
              "        <path d=\"M19 3H5c-1.1 0-2 .9-2 2v14c0 1.1.9 2 2 2h14c1.1 0 2-.9 2-2V5c0-1.1-.9-2-2-2zM9 17H7v-7h2v7zm4 0h-2V7h2v10zm4 0h-2v-4h2v4z\"/>\n",
              "    </g>\n",
              "</svg>\n",
              "  </button>\n",
              "\n",
              "<style>\n",
              "  .colab-df-quickchart {\n",
              "      --bg-color: #E8F0FE;\n",
              "      --fill-color: #1967D2;\n",
              "      --hover-bg-color: #E2EBFA;\n",
              "      --hover-fill-color: #174EA6;\n",
              "      --disabled-fill-color: #AAA;\n",
              "      --disabled-bg-color: #DDD;\n",
              "  }\n",
              "\n",
              "  [theme=dark] .colab-df-quickchart {\n",
              "      --bg-color: #3B4455;\n",
              "      --fill-color: #D2E3FC;\n",
              "      --hover-bg-color: #434B5C;\n",
              "      --hover-fill-color: #FFFFFF;\n",
              "      --disabled-bg-color: #3B4455;\n",
              "      --disabled-fill-color: #666;\n",
              "  }\n",
              "\n",
              "  .colab-df-quickchart {\n",
              "    background-color: var(--bg-color);\n",
              "    border: none;\n",
              "    border-radius: 50%;\n",
              "    cursor: pointer;\n",
              "    display: none;\n",
              "    fill: var(--fill-color);\n",
              "    height: 32px;\n",
              "    padding: 0;\n",
              "    width: 32px;\n",
              "  }\n",
              "\n",
              "  .colab-df-quickchart:hover {\n",
              "    background-color: var(--hover-bg-color);\n",
              "    box-shadow: 0 1px 2px rgba(60, 64, 67, 0.3), 0 1px 3px 1px rgba(60, 64, 67, 0.15);\n",
              "    fill: var(--button-hover-fill-color);\n",
              "  }\n",
              "\n",
              "  .colab-df-quickchart-complete:disabled,\n",
              "  .colab-df-quickchart-complete:disabled:hover {\n",
              "    background-color: var(--disabled-bg-color);\n",
              "    fill: var(--disabled-fill-color);\n",
              "    box-shadow: none;\n",
              "  }\n",
              "\n",
              "  .colab-df-spinner {\n",
              "    border: 2px solid var(--fill-color);\n",
              "    border-color: transparent;\n",
              "    border-bottom-color: var(--fill-color);\n",
              "    animation:\n",
              "      spin 1s steps(1) infinite;\n",
              "  }\n",
              "\n",
              "  @keyframes spin {\n",
              "    0% {\n",
              "      border-color: transparent;\n",
              "      border-bottom-color: var(--fill-color);\n",
              "      border-left-color: var(--fill-color);\n",
              "    }\n",
              "    20% {\n",
              "      border-color: transparent;\n",
              "      border-left-color: var(--fill-color);\n",
              "      border-top-color: var(--fill-color);\n",
              "    }\n",
              "    30% {\n",
              "      border-color: transparent;\n",
              "      border-left-color: var(--fill-color);\n",
              "      border-top-color: var(--fill-color);\n",
              "      border-right-color: var(--fill-color);\n",
              "    }\n",
              "    40% {\n",
              "      border-color: transparent;\n",
              "      border-right-color: var(--fill-color);\n",
              "      border-top-color: var(--fill-color);\n",
              "    }\n",
              "    60% {\n",
              "      border-color: transparent;\n",
              "      border-right-color: var(--fill-color);\n",
              "    }\n",
              "    80% {\n",
              "      border-color: transparent;\n",
              "      border-right-color: var(--fill-color);\n",
              "      border-bottom-color: var(--fill-color);\n",
              "    }\n",
              "    90% {\n",
              "      border-color: transparent;\n",
              "      border-bottom-color: var(--fill-color);\n",
              "    }\n",
              "  }\n",
              "</style>\n",
              "\n",
              "  <script>\n",
              "    async function quickchart(key) {\n",
              "      const quickchartButtonEl =\n",
              "        document.querySelector('#' + key + ' button');\n",
              "      quickchartButtonEl.disabled = true;  // To prevent multiple clicks.\n",
              "      quickchartButtonEl.classList.add('colab-df-spinner');\n",
              "      try {\n",
              "        const charts = await google.colab.kernel.invokeFunction(\n",
              "            'suggestCharts', [key], {});\n",
              "      } catch (error) {\n",
              "        console.error('Error during call to suggestCharts:', error);\n",
              "      }\n",
              "      quickchartButtonEl.classList.remove('colab-df-spinner');\n",
              "      quickchartButtonEl.classList.add('colab-df-quickchart-complete');\n",
              "    }\n",
              "    (() => {\n",
              "      let quickchartButtonEl =\n",
              "        document.querySelector('#df-a9555e11-1cf3-408e-a5de-ec330d4b5a47 button');\n",
              "      quickchartButtonEl.style.display =\n",
              "        google.colab.kernel.accessAllowed ? 'block' : 'none';\n",
              "    })();\n",
              "  </script>\n",
              "</div>\n",
              "\n",
              "    </div>\n",
              "  </div>\n"
            ],
            "application/vnd.google.colaboratory.intrinsic+json": {
              "type": "dataframe",
              "variable_name": "df"
            }
          },
          "metadata": {},
          "execution_count": 64
        }
      ]
    },
    {
      "cell_type": "code",
      "source": [
        "#ubah kolom gender dari object menjadi float agar dapat digunakan untuk pemodelan\n",
        "label_encoder = LabelEncoder()\n",
        "df['Gender'] = label_encoder.fit_transform(df['Gender'])\n",
        "df['Gender'] = df['Gender'].astype(float)\n",
        "df = df.select_dtypes(include=[np.number]) #seleksi hanya data numeric saja yang dipilih\n",
        "df.info()"
      ],
      "metadata": {
        "colab": {
          "base_uri": "https://localhost:8080/"
        },
        "id": "BCgLV5y6FRtZ",
        "outputId": "5134cf6a-6115-4de8-f452-618da8bc7005"
      },
      "execution_count": null,
      "outputs": [
        {
          "output_type": "stream",
          "name": "stdout",
          "text": [
            "<class 'pandas.core.frame.DataFrame'>\n",
            "RangeIndex: 1020 entries, 0 to 1019\n",
            "Data columns (total 32 columns):\n",
            " #   Column       Non-Null Count  Dtype  \n",
            "---  ------       --------------  -----  \n",
            " 0   Gender       1020 non-null   float64\n",
            " 1   T_atm        1020 non-null   float64\n",
            " 2   Humidity     1020 non-null   float64\n",
            " 3   Distance     1018 non-null   float64\n",
            " 4   T_offset1    1020 non-null   float64\n",
            " 5   Max1R13_1    1020 non-null   float64\n",
            " 6   Max1L13_1    1020 non-null   float64\n",
            " 7   aveAllR13_1  1020 non-null   float64\n",
            " 8   aveAllL13_1  1020 non-null   float64\n",
            " 9   T_RC1        1020 non-null   float64\n",
            " 10  T_RC_Dry1    1020 non-null   float64\n",
            " 11  T_RC_Wet1    1020 non-null   float64\n",
            " 12  T_RC_Max1    1020 non-null   float64\n",
            " 13  T_LC1        1020 non-null   float64\n",
            " 14  T_LC_Dry1    1020 non-null   float64\n",
            " 15  T_LC_Wet1    1020 non-null   float64\n",
            " 16  T_LC_Max1    1020 non-null   float64\n",
            " 17  RCC1         1020 non-null   float64\n",
            " 18  LCC1         1020 non-null   float64\n",
            " 19  canthiMax1   1020 non-null   float64\n",
            " 20  canthi4Max1  1020 non-null   float64\n",
            " 21  T_FHCC1      1020 non-null   float64\n",
            " 22  T_FHRC1      1020 non-null   float64\n",
            " 23  T_FHLC1      1020 non-null   float64\n",
            " 24  T_FHBC1      1020 non-null   float64\n",
            " 25  T_FHTC1      1020 non-null   float64\n",
            " 26  T_FH_Max1    1020 non-null   float64\n",
            " 27  T_FHC_Max1   1020 non-null   float64\n",
            " 28  T_Max1       1020 non-null   float64\n",
            " 29  T_OR1        1020 non-null   float64\n",
            " 30  T_OR_Max1    1020 non-null   float64\n",
            " 31  aveOralM     1020 non-null   float64\n",
            "dtypes: float64(32)\n",
            "memory usage: 255.1 KB\n"
          ]
        }
      ]
    },
    {
      "cell_type": "code",
      "source": [
        "df = df.dropna() #drop data yang berisi nilai NaN agar tidak ada kesalahan saat menghitung loss nanti\n",
        "x = df.drop('aveOralM', axis=1)\n",
        "y = df['aveOralM']"
      ],
      "metadata": {
        "id": "muUtUQRvJnaF"
      },
      "execution_count": null,
      "outputs": []
    },
    {
      "cell_type": "markdown",
      "source": [
        "## Data preperation"
      ],
      "metadata": {
        "id": "MYMDbz-1VUqB"
      }
    },
    {
      "cell_type": "code",
      "source": [
        "#split data menjadi 80% train dan 20% test\n",
        "x_train, x_test, y_train, y_test = train_test_split(x, y, test_size=0.2, random_state=42)"
      ],
      "metadata": {
        "id": "0XkoNsUqKKKE"
      },
      "execution_count": null,
      "outputs": []
    },
    {
      "cell_type": "code",
      "source": [
        "#gunakan scaler untuk membuat model lebih stabil lagi\n",
        "scaler = StandardScaler()\n",
        "x_train = scaler.fit_transform(x_train)\n",
        "x_test = scaler.transform(x_test)\n",
        "x_train.shape[1]"
      ],
      "metadata": {
        "id": "Y8y8pmjZXMhC",
        "colab": {
          "base_uri": "https://localhost:8080/"
        },
        "outputId": "c7c5023f-188d-440e-dada-c893add84c6c"
      },
      "execution_count": null,
      "outputs": [
        {
          "output_type": "execute_result",
          "data": {
            "text/plain": [
              "31"
            ]
          },
          "metadata": {},
          "execution_count": 68
        }
      ]
    },
    {
      "cell_type": "code",
      "source": [
        "#ini optional, output tidak harus di scaling lagi\n",
        "y_scaler = StandardScaler()\n",
        "y_train = y_scaler.fit_transform(y_train.values.reshape(-1, 1))\n",
        "y_test = y_scaler.transform(y_test.values.reshape(-1, 1))"
      ],
      "metadata": {
        "id": "Z3nrDziSSmJe"
      },
      "execution_count": null,
      "outputs": []
    },
    {
      "cell_type": "markdown",
      "source": [
        "# Pytorch"
      ],
      "metadata": {
        "id": "i9IcL3qmu9zc"
      }
    },
    {
      "cell_type": "code",
      "source": [
        "#ubah data menjadi format tensor untuk train dan test nanti\n",
        "x_train_torch = torch.tensor(x_train, dtype=torch.float32)\n",
        "x_test_torch = torch.tensor(x_test, dtype=torch.float32)\n",
        "y_train_torch = torch.tensor(y_train, dtype=torch.float32).view(-1, 1)\n",
        "y_test_torch = torch.tensor(y_test, dtype=torch.float32).view(-1, 1)"
      ],
      "metadata": {
        "id": "QQbFo8sgExDy"
      },
      "execution_count": null,
      "outputs": []
    },
    {
      "cell_type": "markdown",
      "source": [
        "## Modeling Neural Networks"
      ],
      "metadata": {
        "id": "l6KBfxF1WzVq"
      }
    },
    {
      "cell_type": "code",
      "source": [
        "class Modeling(nn.Module):\n",
        "  def __init__(self,input):\n",
        "    super(Modeling, self).__init__()\n",
        "    self.fc1 = nn.Linear(input, 64)\n",
        "    self.fc2 = nn.Linear(64, 32)\n",
        "    self.fc3 = nn.Linear(32, 1)\n",
        "  def forward(self, x):\n",
        "    x = torch.relu(self.fc1(x))#menggunakan ReLU Activation\n",
        "    x = torch.relu(self.fc2(x))#menggunakan RelU Activition\n",
        "    x = self.fc3(x)\n",
        "    return x"
      ],
      "metadata": {
        "id": "jLWJtQP-KOW2"
      },
      "execution_count": null,
      "outputs": []
    },
    {
      "cell_type": "code",
      "source": [
        "model = Modeling(x_train.shape[1])\n",
        "criterion = nn.MSELoss()#menggunakan Mean Squared Error Loss, karena variabel yang kita gunakan bukan binary\n",
        "optimizer = optim.Adam(model.parameters(), lr=0.001)"
      ],
      "metadata": {
        "id": "ZG__5ww-LOQL"
      },
      "execution_count": null,
      "outputs": []
    },
    {
      "cell_type": "markdown",
      "source": [
        "## Training Data"
      ],
      "metadata": {
        "id": "32XdXIhIYhZ4"
      }
    },
    {
      "cell_type": "code",
      "source": [
        "#Training model menggunakan pytorch\n",
        "for epoch in range(100):\n",
        "  model.train()\n",
        "  optimizer.zero_grad()\n",
        "  outputs = model(x_train_torch)\n",
        "  loss = criterion(outputs, y_train_torch)\n",
        "  loss.backward()\n",
        "  optimizer.step()\n",
        "\n",
        "#Kode ini untuk menentukan validation dari loss yang kita hitung\n",
        "  model.eval()\n",
        "  with torch.no_grad():\n",
        "    val_out = model(x_test_torch)\n",
        "    val_loss = criterion(val_out, y_test_torch)\n",
        "\n",
        "  if epoch % 10 == 0:\n",
        "    print(f'Epoch {epoch}, Train Loss: {loss.item()}, Val Loss: {val_loss.item()}')"
      ],
      "metadata": {
        "colab": {
          "base_uri": "https://localhost:8080/"
        },
        "id": "08OPoDkIMCt_",
        "outputId": "65031b13-e21b-4678-c1f2-394b70c7013a"
      },
      "execution_count": null,
      "outputs": [
        {
          "output_type": "stream",
          "name": "stdout",
          "text": [
            "Epoch 0, Train Loss: 1.1006532907485962, Val Loss: 0.7597088813781738\n",
            "Epoch 10, Train Loss: 0.6649003624916077, Val Loss: 0.44561851024627686\n",
            "Epoch 20, Train Loss: 0.4185132682323456, Val Loss: 0.3038439154624939\n",
            "Epoch 30, Train Loss: 0.32319608330726624, Val Loss: 0.2864750027656555\n",
            "Epoch 40, Train Loss: 0.2799713909626007, Val Loss: 0.24376963078975677\n",
            "Epoch 50, Train Loss: 0.24606622755527496, Val Loss: 0.2444562017917633\n",
            "Epoch 60, Train Loss: 0.21894173324108124, Val Loss: 0.23313428461551666\n",
            "Epoch 70, Train Loss: 0.2027149200439453, Val Loss: 0.23105129599571228\n",
            "Epoch 80, Train Loss: 0.1938198357820511, Val Loss: 0.22762472927570343\n",
            "Epoch 90, Train Loss: 0.18893489241600037, Val Loss: 0.228718563914299\n"
          ]
        }
      ]
    },
    {
      "cell_type": "code",
      "source": [
        "#buat variable predict untuk mengevaluasi performa model yang diuji\n",
        "y_pred_torch = model(x_test_torch).detach().numpy()\n",
        "\n",
        "#rmse adalah root mean squeared error, gunanya untuk menghitung eror dari suatu model dengan cara meng kuadratkan hasil eror MSE. semakin kecil RMSE semakin baik modelnya\n",
        "rmse_torch = np.sqrt(mean_squared_error(y_test,y_pred_torch))\n",
        "mse_torch = mean_squared_error(y_test, y_pred_torch)\n",
        "\n",
        "#pada R2 gunanya untuk menjelaskan variabilitas dalam model, range nilainya antara 0 - 1, semakin besar nilai R2 maka semakin bagus training yang dilakukan model.\n",
        "#R2 sendiri sudah seperti akurasi jika dijadikan persentase\n",
        "r2_torch = r2_score(y_test, y_pred_torch)"
      ],
      "metadata": {
        "id": "GPNyy2q63--e"
      },
      "execution_count": null,
      "outputs": []
    },
    {
      "cell_type": "code",
      "source": [
        "print(f'RMSE: {rmse_torch} \\nMSE: {mse_torch}\\nR2: {r2_torch}')"
      ],
      "metadata": {
        "id": "7z6Vozzl6EYL",
        "colab": {
          "base_uri": "https://localhost:8080/"
        },
        "outputId": "4786ce9a-ea22-4274-f5e2-dae9af13be2d"
      },
      "execution_count": null,
      "outputs": [
        {
          "output_type": "stream",
          "name": "stdout",
          "text": [
            "RMSE: 0.4702644529999838 \n",
            "MSE: 0.221148655755374\n",
            "R2: 0.6945600812144945\n"
          ]
        }
      ]
    },
    {
      "cell_type": "code",
      "source": [
        "#untuk menghitung range antara min dan max dari model test, jika range dari test nya sekitar 5 maka model sudah cukup baguis\n",
        "y_min = torch.min(y_test_torch).item()\n",
        "y_max = torch.max(y_test_torch).item()\n",
        "y_range = y_max - y_min\n",
        "\n",
        "#menghitung range prediksi, range prediksi harusnya mendekati range dari y_test, kalau range pred nya kurang dari range y_test maka training kurang optimal\n",
        "pred_min = np.min(y_pred_torch)\n",
        "pred_max = np.max(y_pred_torch)\n",
        "pred_range = pred_max - pred_min\n",
        "\n",
        "print(f\"y_min:{y_min}, y_max:{y_max}, Rentang y_test: {y_range}\")\n",
        "print(f\"pred_min :{pred_min}, pred_max:{pred_max}, Rentang y_pred: {pred_range}\")\n"
      ],
      "metadata": {
        "colab": {
          "base_uri": "https://localhost:8080/"
        },
        "id": "PWc0WGVJstY8",
        "outputId": "8cc08be2-bca4-4360-f986-ed7e8dfbc138"
      },
      "execution_count": null,
      "outputs": [
        {
          "output_type": "stream",
          "name": "stdout",
          "text": [
            "y_min:-1.5934081077575684, y_max:4.034672737121582, Rentang y_test: 5.62808084487915\n",
            "pred_min :-1.2110434770584106, pred_max:3.955070972442627, Rentang y_pred: 5.166114330291748\n"
          ]
        }
      ]
    },
    {
      "cell_type": "markdown",
      "source": [
        "# Tensorflow"
      ],
      "metadata": {
        "id": "7PWkGiADvNyg"
      }
    },
    {
      "cell_type": "code",
      "source": [
        "#untuk mencari nilai yang hilang dan mengganti nilainya dengan rata rata dari impu\n",
        "imputer = SimpleImputer(strategy='mean')\n",
        "x_train = imputer.fit_transform(x_train)\n",
        "x_test = imputer.transform(x_test)"
      ],
      "metadata": {
        "id": "EHaONbkNvRCt"
      },
      "execution_count": null,
      "outputs": []
    },
    {
      "cell_type": "code",
      "source": [
        "inputs = tf.keras.Input(shape=(x_train.shape[1],))\n",
        "\n",
        "x = tf.keras.layers.Dense(64, activation='relu')(inputs)\n",
        "outputs = tf.keras.layers.Dense(1, activation='linear')(x)\n",
        "\n",
        "model = tf.keras.Model(inputs,outputs)\n",
        "\n",
        "#menggunakan early stopping untuk mengurangi overfitting dan underfitting\n",
        "earlystopping = EarlyStopping(monitor='val_loss', patience=10, restore_best_weights=True)\n",
        "model.compile(optimizer='adam', loss='mse')\n",
        "\n",
        "history = model.fit(x_train, y_train, epochs=100, batch_size=32, validation_split=0.15, callbacks=[earlystopping])"
      ],
      "metadata": {
        "colab": {
          "base_uri": "https://localhost:8080/"
        },
        "id": "H70y9nhpwMsB",
        "outputId": "f342768f-bdab-474d-cfe4-f8fa9b1600f7"
      },
      "execution_count": null,
      "outputs": [
        {
          "output_type": "stream",
          "name": "stdout",
          "text": [
            "Epoch 1/100\n",
            "\u001b[1m22/22\u001b[0m \u001b[32m━━━━━━━━━━━━━━━━━━━━\u001b[0m\u001b[37m\u001b[0m \u001b[1m1s\u001b[0m 13ms/step - loss: 1.2528 - val_loss: 0.5132\n",
            "Epoch 2/100\n",
            "\u001b[1m22/22\u001b[0m \u001b[32m━━━━━━━━━━━━━━━━━━━━\u001b[0m\u001b[37m\u001b[0m \u001b[1m0s\u001b[0m 7ms/step - loss: 0.4256 - val_loss: 0.3494\n",
            "Epoch 3/100\n",
            "\u001b[1m22/22\u001b[0m \u001b[32m━━━━━━━━━━━━━━━━━━━━\u001b[0m\u001b[37m\u001b[0m \u001b[1m0s\u001b[0m 5ms/step - loss: 0.2918 - val_loss: 0.3239\n",
            "Epoch 4/100\n",
            "\u001b[1m22/22\u001b[0m \u001b[32m━━━━━━━━━━━━━━━━━━━━\u001b[0m\u001b[37m\u001b[0m \u001b[1m0s\u001b[0m 5ms/step - loss: 0.2790 - val_loss: 0.3028\n",
            "Epoch 5/100\n",
            "\u001b[1m22/22\u001b[0m \u001b[32m━━━━━━━━━━━━━━━━━━━━\u001b[0m\u001b[37m\u001b[0m \u001b[1m0s\u001b[0m 5ms/step - loss: 0.2455 - val_loss: 0.2926\n",
            "Epoch 6/100\n",
            "\u001b[1m22/22\u001b[0m \u001b[32m━━━━━━━━━━━━━━━━━━━━\u001b[0m\u001b[37m\u001b[0m \u001b[1m0s\u001b[0m 7ms/step - loss: 0.2141 - val_loss: 0.2810\n",
            "Epoch 7/100\n",
            "\u001b[1m22/22\u001b[0m \u001b[32m━━━━━━━━━━━━━━━━━━━━\u001b[0m\u001b[37m\u001b[0m \u001b[1m0s\u001b[0m 5ms/step - loss: 0.2332 - val_loss: 0.2899\n",
            "Epoch 8/100\n",
            "\u001b[1m22/22\u001b[0m \u001b[32m━━━━━━━━━━━━━━━━━━━━\u001b[0m\u001b[37m\u001b[0m \u001b[1m0s\u001b[0m 5ms/step - loss: 0.2391 - val_loss: 0.2906\n",
            "Epoch 9/100\n",
            "\u001b[1m22/22\u001b[0m \u001b[32m━━━━━━━━━━━━━━━━━━━━\u001b[0m\u001b[37m\u001b[0m \u001b[1m0s\u001b[0m 5ms/step - loss: 0.2006 - val_loss: 0.2778\n",
            "Epoch 10/100\n",
            "\u001b[1m22/22\u001b[0m \u001b[32m━━━━━━━━━━━━━━━━━━━━\u001b[0m\u001b[37m\u001b[0m \u001b[1m0s\u001b[0m 7ms/step - loss: 0.2131 - val_loss: 0.2692\n",
            "Epoch 11/100\n",
            "\u001b[1m22/22\u001b[0m \u001b[32m━━━━━━━━━━━━━━━━━━━━\u001b[0m\u001b[37m\u001b[0m \u001b[1m0s\u001b[0m 5ms/step - loss: 0.1961 - val_loss: 0.2786\n",
            "Epoch 12/100\n",
            "\u001b[1m22/22\u001b[0m \u001b[32m━━━━━━━━━━━━━━━━━━━━\u001b[0m\u001b[37m\u001b[0m \u001b[1m0s\u001b[0m 5ms/step - loss: 0.2032 - val_loss: 0.2645\n",
            "Epoch 13/100\n",
            "\u001b[1m22/22\u001b[0m \u001b[32m━━━━━━━━━━━━━━━━━━━━\u001b[0m\u001b[37m\u001b[0m \u001b[1m0s\u001b[0m 5ms/step - loss: 0.1832 - val_loss: 0.2718\n",
            "Epoch 14/100\n",
            "\u001b[1m22/22\u001b[0m \u001b[32m━━━━━━━━━━━━━━━━━━━━\u001b[0m\u001b[37m\u001b[0m \u001b[1m0s\u001b[0m 5ms/step - loss: 0.1832 - val_loss: 0.2722\n",
            "Epoch 15/100\n",
            "\u001b[1m22/22\u001b[0m \u001b[32m━━━━━━━━━━━━━━━━━━━━\u001b[0m\u001b[37m\u001b[0m \u001b[1m0s\u001b[0m 5ms/step - loss: 0.1684 - val_loss: 0.2743\n",
            "Epoch 16/100\n",
            "\u001b[1m22/22\u001b[0m \u001b[32m━━━━━━━━━━━━━━━━━━━━\u001b[0m\u001b[37m\u001b[0m \u001b[1m0s\u001b[0m 5ms/step - loss: 0.1848 - val_loss: 0.2634\n",
            "Epoch 17/100\n",
            "\u001b[1m22/22\u001b[0m \u001b[32m━━━━━━━━━━━━━━━━━━━━\u001b[0m\u001b[37m\u001b[0m \u001b[1m0s\u001b[0m 5ms/step - loss: 0.1842 - val_loss: 0.2771\n",
            "Epoch 18/100\n",
            "\u001b[1m22/22\u001b[0m \u001b[32m━━━━━━━━━━━━━━━━━━━━\u001b[0m\u001b[37m\u001b[0m \u001b[1m0s\u001b[0m 5ms/step - loss: 0.1821 - val_loss: 0.2894\n",
            "Epoch 19/100\n",
            "\u001b[1m22/22\u001b[0m \u001b[32m━━━━━━━━━━━━━━━━━━━━\u001b[0m\u001b[37m\u001b[0m \u001b[1m0s\u001b[0m 6ms/step - loss: 0.1695 - val_loss: 0.2780\n",
            "Epoch 20/100\n",
            "\u001b[1m22/22\u001b[0m \u001b[32m━━━━━━━━━━━━━━━━━━━━\u001b[0m\u001b[37m\u001b[0m \u001b[1m0s\u001b[0m 5ms/step - loss: 0.1580 - val_loss: 0.2580\n",
            "Epoch 21/100\n",
            "\u001b[1m22/22\u001b[0m \u001b[32m━━━━━━━━━━━━━━━━━━━━\u001b[0m\u001b[37m\u001b[0m \u001b[1m0s\u001b[0m 5ms/step - loss: 0.1589 - val_loss: 0.2723\n",
            "Epoch 22/100\n",
            "\u001b[1m22/22\u001b[0m \u001b[32m━━━━━━━━━━━━━━━━━━━━\u001b[0m\u001b[37m\u001b[0m \u001b[1m0s\u001b[0m 5ms/step - loss: 0.1725 - val_loss: 0.2903\n",
            "Epoch 23/100\n",
            "\u001b[1m22/22\u001b[0m \u001b[32m━━━━━━━━━━━━━━━━━━━━\u001b[0m\u001b[37m\u001b[0m \u001b[1m0s\u001b[0m 5ms/step - loss: 0.1497 - val_loss: 0.2638\n",
            "Epoch 24/100\n",
            "\u001b[1m22/22\u001b[0m \u001b[32m━━━━━━━━━━━━━━━━━━━━\u001b[0m\u001b[37m\u001b[0m \u001b[1m0s\u001b[0m 7ms/step - loss: 0.1614 - val_loss: 0.2866\n",
            "Epoch 25/100\n",
            "\u001b[1m22/22\u001b[0m \u001b[32m━━━━━━━━━━━━━━━━━━━━\u001b[0m\u001b[37m\u001b[0m \u001b[1m0s\u001b[0m 6ms/step - loss: 0.1563 - val_loss: 0.3098\n",
            "Epoch 26/100\n",
            "\u001b[1m22/22\u001b[0m \u001b[32m━━━━━━━━━━━━━━━━━━━━\u001b[0m\u001b[37m\u001b[0m \u001b[1m0s\u001b[0m 5ms/step - loss: 0.1530 - val_loss: 0.2836\n",
            "Epoch 27/100\n",
            "\u001b[1m22/22\u001b[0m \u001b[32m━━━━━━━━━━━━━━━━━━━━\u001b[0m\u001b[37m\u001b[0m \u001b[1m0s\u001b[0m 5ms/step - loss: 0.1571 - val_loss: 0.3274\n",
            "Epoch 28/100\n",
            "\u001b[1m22/22\u001b[0m \u001b[32m━━━━━━━━━━━━━━━━━━━━\u001b[0m\u001b[37m\u001b[0m \u001b[1m0s\u001b[0m 5ms/step - loss: 0.1554 - val_loss: 0.2667\n",
            "Epoch 29/100\n",
            "\u001b[1m22/22\u001b[0m \u001b[32m━━━━━━━━━━━━━━━━━━━━\u001b[0m\u001b[37m\u001b[0m \u001b[1m0s\u001b[0m 5ms/step - loss: 0.1722 - val_loss: 0.2943\n",
            "Epoch 30/100\n",
            "\u001b[1m22/22\u001b[0m \u001b[32m━━━━━━━━━━━━━━━━━━━━\u001b[0m\u001b[37m\u001b[0m \u001b[1m0s\u001b[0m 5ms/step - loss: 0.1629 - val_loss: 0.3033\n"
          ]
        }
      ]
    },
    {
      "cell_type": "code",
      "source": [
        "y_pred_tf = model.predict(x_test)\n",
        "\n",
        "#rmse adalah root mean squeared error, gunanya untuk menghitung eror dari suatu model dengan cara meng kuadratkan hasil eror MSE. semakin kecil RMSE semakin baik modelnya\n",
        "rmse_tf = np.sqrt(mean_squared_error(y_test, y_pred_tf))\n",
        "mse_tf = mean_squared_error(y_test, y_pred_tf)\n",
        "\n",
        "#pada R2 gunanya untuk menjelaskan variabilitas dalam model, range nilainya antara 0 - 1, semakin besar nilai R2 maka semakin bagus training yang dilakukan model.\n",
        "#R2 sendiri sudah seperti akurasi jika dijadikan persentase\n",
        "r2_tf = r2_score(y_test, y_pred_tf)\n",
        "print(f'RMSE: {rmse_tf}\\nMSE: {mse_tf}\\nR2: {r2_tf}')"
      ],
      "metadata": {
        "colab": {
          "base_uri": "https://localhost:8080/"
        },
        "id": "NSUr1KWW1HJP",
        "outputId": "e91c5517-fd1f-4660-9143-c0b9981d3869"
      },
      "execution_count": null,
      "outputs": [
        {
          "output_type": "stream",
          "name": "stdout",
          "text": [
            "\u001b[1m7/7\u001b[0m \u001b[32m━━━━━━━━━━━━━━━━━━━━\u001b[0m\u001b[37m\u001b[0m \u001b[1m0s\u001b[0m 10ms/step\n",
            "RMSE: 0.48980202507088344\n",
            "MSE: 0.23990602376353834\n",
            "R2: 0.66865330397692\n"
          ]
        }
      ]
    },
    {
      "cell_type": "code",
      "source": [
        "#untuk menghitung range antara min dan max dari model test, jika range dari test nya sekitar 5 maka model sudah cukup baguis\n",
        "y_min_tf = tf.reduce_min(y_test).numpy().item()\n",
        "y_max_tf = tf.reduce_max(y_test).numpy().item()\n",
        "y_range_tf = y_max_tf - y_min_tf\n",
        "\n",
        "#menghitung range prediksi, range prediksi harusnya mendekati range dari y_test, kalau range pred nya kurang dari range y_test maka training kurang optimal\n",
        "pred_min_tf = np.min(y_pred_tf)\n",
        "pred_max_tf = np.max(y_pred_tf)\n",
        "pred_range_tf = pred_max_tf - pred_min_tf\n",
        "\n",
        "print(f\"y_min:{y_min_tf}, y_max:{y_max_tf}, Rentang y_test: {y_range_tf}\")\n",
        "print(f\"pred_min :{pred_min_tf}, pred_max:{pred_max_tf}, Rentang y_pred: {pred_range_tf}\")"
      ],
      "metadata": {
        "colab": {
          "base_uri": "https://localhost:8080/"
        },
        "id": "rWvQb7KF35Uq",
        "outputId": "5756d333-93b5-46ef-f7f6-338e96455635"
      },
      "execution_count": null,
      "outputs": [
        {
          "output_type": "stream",
          "name": "stdout",
          "text": [
            "y_min:-1.593408074176033, y_max:4.034672838553087, Rentang y_test: 5.62808091272912\n",
            "pred_min :-1.0459221601486206, pred_max:3.8609933853149414, Rentang y_pred: 4.906915664672852\n"
          ]
        }
      ]
    }
  ]
}
